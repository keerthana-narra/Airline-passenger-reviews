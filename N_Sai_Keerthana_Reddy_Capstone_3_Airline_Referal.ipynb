{
  "nbformat": 4,
  "nbformat_minor": 0,
  "metadata": {
    "colab": {
      "name": "N.Sai Keerthana Reddy_Capstone 3_Airline Referal.ipynb",
      "provenance": [],
      "collapsed_sections": [
        "M-w4-ndjTyBB"
      ],
      "toc_visible": true,
      "authorship_tag": "ABX9TyOjMybHX+62PbQOqXNjPuNV",
      "include_colab_link": true
    },
    "kernelspec": {
      "name": "python3",
      "display_name": "Python 3"
    },
    "language_info": {
      "name": "python"
    }
  },
  "cells": [
    {
      "cell_type": "markdown",
      "metadata": {
        "id": "view-in-github",
        "colab_type": "text"
      },
      "source": [
        "<a href=\"https://colab.research.google.com/github/keerthana-narra/Airline-passenger-reviews/blob/main/N_Sai_Keerthana_Reddy_Capstone_3_Airline_Referal.ipynb\" target=\"_parent\"><img src=\"https://colab.research.google.com/assets/colab-badge.svg\" alt=\"Open In Colab\"/></a>"
      ]
    },
    {
      "cell_type": "markdown",
      "metadata": {
        "id": "7RQBl0wpjXcm"
      },
      "source": [
        "##Problem Statement -\n",
        "Data includes airline reviews from 2006 to 2019 for popular airlines around the world with\n",
        "multiple choice and free text questions. Data is scraped in Spring 2019. The main objective\n",
        "is to predict whether passengers will refer the airline to their friends.\n",
        "\n"
      ]
    },
    {
      "cell_type": "markdown",
      "metadata": {
        "id": "8m_t5tflyo0e"
      },
      "source": [
        "## Loading data and Importing libraries\n",
        "\n"
      ]
    },
    {
      "cell_type": "code",
      "metadata": {
        "id": "EYrjJtMeyEI_",
        "colab": {
          "base_uri": "https://localhost:8080/"
        },
        "outputId": "5edb77b3-4703-455c-d430-60098eac6290"
      },
      "source": [
        "# Mounting drive\n",
        "from google.colab import drive\n",
        "drive.mount('/content/drive')\n",
        "\n"
      ],
      "execution_count": 8,
      "outputs": [
        {
          "output_type": "stream",
          "text": [
            "Drive already mounted at /content/drive; to attempt to forcibly remount, call drive.mount(\"/content/drive\", force_remount=True).\n"
          ],
          "name": "stdout"
        }
      ]
    },
    {
      "cell_type": "code",
      "metadata": {
        "id": "PzaKSNveyPEr",
        "colab": {
          "base_uri": "https://localhost:8080/"
        },
        "outputId": "c1847209-2b6e-46c2-87dd-6ce76261f482"
      },
      "source": [
        "# importing libraries\n",
        "import pandas as pd\n",
        "import numpy as np\n",
        "import matplotlib.pyplot as plt\n",
        "import seaborn as sns\n",
        "import warnings\n",
        "sns.set_palette('Set2')\n",
        "\n",
        "from sklearn.feature_extraction.text import CountVectorizer\n",
        "\n",
        "import nltk\n",
        "from nltk import tokenize, pos_tag\n",
        "from nltk.corpus import stopwords, wordnet\n",
        "from nltk.sentiment.vader import SentimentIntensityAnalyzer\n",
        "from nltk.stem import WordNetLemmatizer\n",
        "\n",
        "import datetime as dt\n",
        "import dateutil\n",
        "\n",
        "import importlib\n"
      ],
      "execution_count": 9,
      "outputs": [
        {
          "output_type": "stream",
          "text": [
            "/usr/local/lib/python3.7/dist-packages/nltk/twitter/__init__.py:20: UserWarning: The twython library has not been installed. Some functionality from the twitter package will not be available.\n",
            "  warnings.warn(\"The twython library has not been installed. \"\n"
          ],
          "name": "stderr"
        }
      ]
    },
    {
      "cell_type": "code",
      "metadata": {
        "id": "MTMh82EAyRr8"
      },
      "source": [
        "missing_values = ['N/a', 'na', 'np-nan','None', 'none']"
      ],
      "execution_count": 10,
      "outputs": []
    },
    {
      "cell_type": "code",
      "metadata": {
        "id": "Pi3bxJfJyRom"
      },
      "source": [
        "#Reading data\n",
        "data = pd.read_excel(\"/content/drive/MyDrive/Almabetter/Cohort Nilgiri/capstone projects/capstone-3/Copy of data_airline_reviews.xlsx\", na_values= missing_values)"
      ],
      "execution_count": 11,
      "outputs": []
    },
    {
      "cell_type": "markdown",
      "metadata": {
        "id": "9W2XQdjRy0R5"
      },
      "source": [
        "### Understanding data"
      ]
    },
    {
      "cell_type": "code",
      "metadata": {
        "id": "_MptNBdhyXeh",
        "colab": {
          "base_uri": "https://localhost:8080/"
        },
        "outputId": "9cf4921f-9a19-4587-f3d9-9d9a9b92ed0c"
      },
      "source": [
        "#Shape of dataset\n",
        "data.shape"
      ],
      "execution_count": 12,
      "outputs": [
        {
          "output_type": "execute_result",
          "data": {
            "text/plain": [
              "(131895, 17)"
            ]
          },
          "metadata": {
            "tags": []
          },
          "execution_count": 12
        }
      ]
    },
    {
      "cell_type": "code",
      "metadata": {
        "id": "8SOwdblMkLIU",
        "colab": {
          "base_uri": "https://localhost:8080/"
        },
        "outputId": "dcb1e295-5eb0-497c-c504-ee4a1a35a337"
      },
      "source": [
        "# Columns present in the dataset\n",
        "data.columns"
      ],
      "execution_count": 13,
      "outputs": [
        {
          "output_type": "execute_result",
          "data": {
            "text/plain": [
              "Index(['airline', 'overall', 'author', 'review_date', 'customer_review',\n",
              "       'aircraft', 'traveller_type', 'cabin', 'route', 'date_flown',\n",
              "       'seat_comfort', 'cabin_service', 'food_bev', 'entertainment',\n",
              "       'ground_service', 'value_for_money', 'recommended'],\n",
              "      dtype='object')"
            ]
          },
          "metadata": {
            "tags": []
          },
          "execution_count": 13
        }
      ]
    },
    {
      "cell_type": "markdown",
      "metadata": {
        "id": "99gDVTHhkJxI"
      },
      "source": [
        "Feature descriptions briefly as follows:\n",
        "\n",
        "airline: Name of the airline.\n",
        "\n",
        "overall: Overall point is given to the trip between 1 to 10.\n",
        "\n",
        "author: Author of the trip\n",
        "\n",
        "reviewdate: Date of the Review customer review: Review of the customers in free text format\n",
        "\n",
        "aircraft: Type of the aircraft\n",
        "\n",
        "travellertype: Type of traveler (e.g. business, leisure)\n",
        "\n",
        "cabin: Cabin at the flight date flown: Flight date\n",
        "\n",
        "seatcomfort: Rated between 1-5\n",
        "\n",
        "cabin service: Rated between 1-5\n",
        "\n",
        "foodbev: Rated between 1-5 entertainment: Rated between 1-5\n",
        "\n",
        "groundservice: Rated between 1-5\n",
        "\n",
        "valueformoney: Rated between 1-5\n",
        "\n",
        "recommended: Binary, target variable."
      ]
    },
    {
      "cell_type": "code",
      "metadata": {
        "id": "Ye5-3Ee6yauX",
        "colab": {
          "base_uri": "https://localhost:8080/",
          "height": 282
        },
        "outputId": "6f2ec57d-7f76-4c75-ec77-2627e68ec2c1"
      },
      "source": [
        "#Acessing top 5 rows\n",
        "data.head()"
      ],
      "execution_count": 14,
      "outputs": [
        {
          "output_type": "execute_result",
          "data": {
            "text/html": [
              "<div>\n",
              "<style scoped>\n",
              "    .dataframe tbody tr th:only-of-type {\n",
              "        vertical-align: middle;\n",
              "    }\n",
              "\n",
              "    .dataframe tbody tr th {\n",
              "        vertical-align: top;\n",
              "    }\n",
              "\n",
              "    .dataframe thead th {\n",
              "        text-align: right;\n",
              "    }\n",
              "</style>\n",
              "<table border=\"1\" class=\"dataframe\">\n",
              "  <thead>\n",
              "    <tr style=\"text-align: right;\">\n",
              "      <th></th>\n",
              "      <th>airline</th>\n",
              "      <th>overall</th>\n",
              "      <th>author</th>\n",
              "      <th>review_date</th>\n",
              "      <th>customer_review</th>\n",
              "      <th>aircraft</th>\n",
              "      <th>traveller_type</th>\n",
              "      <th>cabin</th>\n",
              "      <th>route</th>\n",
              "      <th>date_flown</th>\n",
              "      <th>seat_comfort</th>\n",
              "      <th>cabin_service</th>\n",
              "      <th>food_bev</th>\n",
              "      <th>entertainment</th>\n",
              "      <th>ground_service</th>\n",
              "      <th>value_for_money</th>\n",
              "      <th>recommended</th>\n",
              "    </tr>\n",
              "  </thead>\n",
              "  <tbody>\n",
              "    <tr>\n",
              "      <th>0</th>\n",
              "      <td>NaN</td>\n",
              "      <td>NaN</td>\n",
              "      <td>NaN</td>\n",
              "      <td>NaN</td>\n",
              "      <td>NaN</td>\n",
              "      <td>NaN</td>\n",
              "      <td>NaN</td>\n",
              "      <td>NaN</td>\n",
              "      <td>NaN</td>\n",
              "      <td>NaN</td>\n",
              "      <td>NaN</td>\n",
              "      <td>NaN</td>\n",
              "      <td>NaN</td>\n",
              "      <td>NaN</td>\n",
              "      <td>NaN</td>\n",
              "      <td>NaN</td>\n",
              "      <td>NaN</td>\n",
              "    </tr>\n",
              "    <tr>\n",
              "      <th>1</th>\n",
              "      <td>Turkish Airlines</td>\n",
              "      <td>7.0</td>\n",
              "      <td>Christopher Hackley</td>\n",
              "      <td>8th May 2019</td>\n",
              "      <td>âœ… Trip Verified | London to Izmir via Istanb...</td>\n",
              "      <td>NaN</td>\n",
              "      <td>Business</td>\n",
              "      <td>Economy Class</td>\n",
              "      <td>London to Izmir via Istanbul</td>\n",
              "      <td>2019-05-01 00:00:00</td>\n",
              "      <td>4.0</td>\n",
              "      <td>5.0</td>\n",
              "      <td>4.0</td>\n",
              "      <td>4.0</td>\n",
              "      <td>2.0</td>\n",
              "      <td>4.0</td>\n",
              "      <td>yes</td>\n",
              "    </tr>\n",
              "    <tr>\n",
              "      <th>2</th>\n",
              "      <td>NaN</td>\n",
              "      <td>NaN</td>\n",
              "      <td>NaN</td>\n",
              "      <td>NaN</td>\n",
              "      <td>NaN</td>\n",
              "      <td>NaN</td>\n",
              "      <td>NaN</td>\n",
              "      <td>NaN</td>\n",
              "      <td>NaN</td>\n",
              "      <td>NaN</td>\n",
              "      <td>NaN</td>\n",
              "      <td>NaN</td>\n",
              "      <td>NaN</td>\n",
              "      <td>NaN</td>\n",
              "      <td>NaN</td>\n",
              "      <td>NaN</td>\n",
              "      <td>NaN</td>\n",
              "    </tr>\n",
              "    <tr>\n",
              "      <th>3</th>\n",
              "      <td>Turkish Airlines</td>\n",
              "      <td>2.0</td>\n",
              "      <td>Adriana Pisoi</td>\n",
              "      <td>7th May 2019</td>\n",
              "      <td>âœ… Trip Verified | Istanbul to Bucharest. We ...</td>\n",
              "      <td>NaN</td>\n",
              "      <td>Family Leisure</td>\n",
              "      <td>Economy Class</td>\n",
              "      <td>Istanbul to Bucharest</td>\n",
              "      <td>2019-05-01 00:00:00</td>\n",
              "      <td>4.0</td>\n",
              "      <td>1.0</td>\n",
              "      <td>1.0</td>\n",
              "      <td>1.0</td>\n",
              "      <td>1.0</td>\n",
              "      <td>1.0</td>\n",
              "      <td>no</td>\n",
              "    </tr>\n",
              "    <tr>\n",
              "      <th>4</th>\n",
              "      <td>NaN</td>\n",
              "      <td>NaN</td>\n",
              "      <td>NaN</td>\n",
              "      <td>NaN</td>\n",
              "      <td>NaN</td>\n",
              "      <td>NaN</td>\n",
              "      <td>NaN</td>\n",
              "      <td>NaN</td>\n",
              "      <td>NaN</td>\n",
              "      <td>NaN</td>\n",
              "      <td>NaN</td>\n",
              "      <td>NaN</td>\n",
              "      <td>NaN</td>\n",
              "      <td>NaN</td>\n",
              "      <td>NaN</td>\n",
              "      <td>NaN</td>\n",
              "      <td>NaN</td>\n",
              "    </tr>\n",
              "  </tbody>\n",
              "</table>\n",
              "</div>"
            ],
            "text/plain": [
              "            airline  overall  ... value_for_money recommended\n",
              "0               NaN      NaN  ...             NaN         NaN\n",
              "1  Turkish Airlines      7.0  ...             4.0         yes\n",
              "2               NaN      NaN  ...             NaN         NaN\n",
              "3  Turkish Airlines      2.0  ...             1.0          no\n",
              "4               NaN      NaN  ...             NaN         NaN\n",
              "\n",
              "[5 rows x 17 columns]"
            ]
          },
          "metadata": {
            "tags": []
          },
          "execution_count": 14
        }
      ]
    },
    {
      "cell_type": "code",
      "metadata": {
        "id": "a5OvQQMryi-H",
        "colab": {
          "base_uri": "https://localhost:8080/",
          "height": 284
        },
        "outputId": "5608f69a-a940-4b24-b1f2-db2580efe80a"
      },
      "source": [
        "# Describing data\n",
        "data.describe()\n",
        "\n"
      ],
      "execution_count": 15,
      "outputs": [
        {
          "output_type": "execute_result",
          "data": {
            "text/html": [
              "<div>\n",
              "<style scoped>\n",
              "    .dataframe tbody tr th:only-of-type {\n",
              "        vertical-align: middle;\n",
              "    }\n",
              "\n",
              "    .dataframe tbody tr th {\n",
              "        vertical-align: top;\n",
              "    }\n",
              "\n",
              "    .dataframe thead th {\n",
              "        text-align: right;\n",
              "    }\n",
              "</style>\n",
              "<table border=\"1\" class=\"dataframe\">\n",
              "  <thead>\n",
              "    <tr style=\"text-align: right;\">\n",
              "      <th></th>\n",
              "      <th>overall</th>\n",
              "      <th>seat_comfort</th>\n",
              "      <th>cabin_service</th>\n",
              "      <th>food_bev</th>\n",
              "      <th>entertainment</th>\n",
              "      <th>ground_service</th>\n",
              "      <th>value_for_money</th>\n",
              "    </tr>\n",
              "  </thead>\n",
              "  <tbody>\n",
              "    <tr>\n",
              "      <th>count</th>\n",
              "      <td>64017.000000</td>\n",
              "      <td>60681.000000</td>\n",
              "      <td>60715.000000</td>\n",
              "      <td>52608.000000</td>\n",
              "      <td>44193.000000</td>\n",
              "      <td>39358.000000</td>\n",
              "      <td>63975.000000</td>\n",
              "    </tr>\n",
              "    <tr>\n",
              "      <th>mean</th>\n",
              "      <td>5.145430</td>\n",
              "      <td>2.952160</td>\n",
              "      <td>3.191814</td>\n",
              "      <td>2.908170</td>\n",
              "      <td>2.863372</td>\n",
              "      <td>2.692820</td>\n",
              "      <td>2.943962</td>\n",
              "    </tr>\n",
              "    <tr>\n",
              "      <th>std</th>\n",
              "      <td>3.477532</td>\n",
              "      <td>1.441362</td>\n",
              "      <td>1.565789</td>\n",
              "      <td>1.481893</td>\n",
              "      <td>1.507262</td>\n",
              "      <td>1.612215</td>\n",
              "      <td>1.587370</td>\n",
              "    </tr>\n",
              "    <tr>\n",
              "      <th>min</th>\n",
              "      <td>1.000000</td>\n",
              "      <td>1.000000</td>\n",
              "      <td>1.000000</td>\n",
              "      <td>1.000000</td>\n",
              "      <td>1.000000</td>\n",
              "      <td>1.000000</td>\n",
              "      <td>1.000000</td>\n",
              "    </tr>\n",
              "    <tr>\n",
              "      <th>25%</th>\n",
              "      <td>1.000000</td>\n",
              "      <td>1.000000</td>\n",
              "      <td>2.000000</td>\n",
              "      <td>1.000000</td>\n",
              "      <td>1.000000</td>\n",
              "      <td>1.000000</td>\n",
              "      <td>1.000000</td>\n",
              "    </tr>\n",
              "    <tr>\n",
              "      <th>50%</th>\n",
              "      <td>5.000000</td>\n",
              "      <td>3.000000</td>\n",
              "      <td>3.000000</td>\n",
              "      <td>3.000000</td>\n",
              "      <td>3.000000</td>\n",
              "      <td>3.000000</td>\n",
              "      <td>3.000000</td>\n",
              "    </tr>\n",
              "    <tr>\n",
              "      <th>75%</th>\n",
              "      <td>9.000000</td>\n",
              "      <td>4.000000</td>\n",
              "      <td>5.000000</td>\n",
              "      <td>4.000000</td>\n",
              "      <td>4.000000</td>\n",
              "      <td>4.000000</td>\n",
              "      <td>4.000000</td>\n",
              "    </tr>\n",
              "    <tr>\n",
              "      <th>max</th>\n",
              "      <td>10.000000</td>\n",
              "      <td>5.000000</td>\n",
              "      <td>5.000000</td>\n",
              "      <td>5.000000</td>\n",
              "      <td>5.000000</td>\n",
              "      <td>5.000000</td>\n",
              "      <td>5.000000</td>\n",
              "    </tr>\n",
              "  </tbody>\n",
              "</table>\n",
              "</div>"
            ],
            "text/plain": [
              "            overall  seat_comfort  ...  ground_service  value_for_money\n",
              "count  64017.000000  60681.000000  ...    39358.000000     63975.000000\n",
              "mean       5.145430      2.952160  ...        2.692820         2.943962\n",
              "std        3.477532      1.441362  ...        1.612215         1.587370\n",
              "min        1.000000      1.000000  ...        1.000000         1.000000\n",
              "25%        1.000000      1.000000  ...        1.000000         1.000000\n",
              "50%        5.000000      3.000000  ...        3.000000         3.000000\n",
              "75%        9.000000      4.000000  ...        4.000000         4.000000\n",
              "max       10.000000      5.000000  ...        5.000000         5.000000\n",
              "\n",
              "[8 rows x 7 columns]"
            ]
          },
          "metadata": {
            "tags": []
          },
          "execution_count": 15
        }
      ]
    },
    {
      "cell_type": "code",
      "metadata": {
        "id": "o5goc5gmygT0",
        "colab": {
          "base_uri": "https://localhost:8080/"
        },
        "outputId": "175c0b7c-673a-4a95-c599-469a66b92a68"
      },
      "source": [
        "# Checking for null values\n",
        "data.isnull().sum()"
      ],
      "execution_count": 16,
      "outputs": [
        {
          "output_type": "execute_result",
          "data": {
            "text/plain": [
              "airline             65948\n",
              "overall             67878\n",
              "author              65948\n",
              "review_date         65948\n",
              "customer_review     65948\n",
              "aircraft           112177\n",
              "traveller_type      92140\n",
              "cabin               68592\n",
              "route               92169\n",
              "date_flown          92262\n",
              "seat_comfort        71214\n",
              "cabin_service       71180\n",
              "food_bev            79287\n",
              "entertainment       87702\n",
              "ground_service      92537\n",
              "value_for_money     67920\n",
              "recommended         67455\n",
              "dtype: int64"
            ]
          },
          "metadata": {
            "tags": []
          },
          "execution_count": 16
        }
      ]
    },
    {
      "cell_type": "markdown",
      "metadata": {
        "id": "1GZpxySgEKs6"
      },
      "source": [
        "There are more number of null values in the data set. Cleaning of data becomes very important."
      ]
    },
    {
      "cell_type": "markdown",
      "metadata": {
        "id": "rLowFvrqP0Eg"
      },
      "source": [
        "## Cleaning data"
      ]
    },
    {
      "cell_type": "markdown",
      "metadata": {
        "id": "of7Fi66gP9WC"
      },
      "source": [
        "### Droping rows"
      ]
    },
    {
      "cell_type": "code",
      "metadata": {
        "id": "Jds0U5Sk1XaL"
      },
      "source": [
        "# dropping rows if the entire row is null\n",
        "data.dropna(how = 'all',inplace = True)"
      ],
      "execution_count": 17,
      "outputs": []
    },
    {
      "cell_type": "code",
      "metadata": {
        "id": "e8mGCLSJBUIJ"
      },
      "source": [
        "# Removing columns that are not required\n",
        "data.drop(columns = ['aircraft','author'],inplace = True) "
      ],
      "execution_count": 18,
      "outputs": []
    },
    {
      "cell_type": "code",
      "metadata": {
        "id": "6id-CapcKb0I"
      },
      "source": [
        "# Renaming columns\n",
        "data.rename(columns={'overall':'review_score', 'customer_review':'review_text'}, inplace=True)\n"
      ],
      "execution_count": 19,
      "outputs": []
    },
    {
      "cell_type": "code",
      "metadata": {
        "id": "4QUYALTHnR4T",
        "colab": {
          "base_uri": "https://localhost:8080/"
        },
        "outputId": "71cbf655-750e-4559-b444-2d9c23f525d1"
      },
      "source": [
        "data.shape"
      ],
      "execution_count": 20,
      "outputs": [
        {
          "output_type": "execute_result",
          "data": {
            "text/plain": [
              "(65947, 15)"
            ]
          },
          "metadata": {
            "tags": []
          },
          "execution_count": 20
        }
      ]
    },
    {
      "cell_type": "markdown",
      "metadata": {
        "id": "wsJsnp3oZODW"
      },
      "source": [
        "That means 50% of given data is not at all required."
      ]
    },
    {
      "cell_type": "code",
      "metadata": {
        "id": "BFqUrxrgaT01",
        "colab": {
          "base_uri": "https://localhost:8080/"
        },
        "outputId": "dde47a8c-c945-4ec4-cd0a-3493c6d0a557"
      },
      "source": [
        "# Checking for null values\n",
        "data.isnull().sum()"
      ],
      "execution_count": 21,
      "outputs": [
        {
          "output_type": "execute_result",
          "data": {
            "text/plain": [
              "airline                0\n",
              "review_score        1930\n",
              "review_date            0\n",
              "review_text            0\n",
              "traveller_type     26192\n",
              "cabin               2644\n",
              "route              26221\n",
              "date_flown         26314\n",
              "seat_comfort        5266\n",
              "cabin_service       5232\n",
              "food_bev           13339\n",
              "entertainment      21754\n",
              "ground_service     26589\n",
              "value_for_money     1972\n",
              "recommended         1507\n",
              "dtype: int64"
            ]
          },
          "metadata": {
            "tags": []
          },
          "execution_count": 21
        }
      ]
    },
    {
      "cell_type": "markdown",
      "metadata": {
        "id": "tsAYqnBuZbES"
      },
      "source": [
        "### Finding and droping duplicates"
      ]
    },
    {
      "cell_type": "code",
      "metadata": {
        "id": "B4hH3-bw-XXY",
        "colab": {
          "base_uri": "https://localhost:8080/",
          "height": 261
        },
        "outputId": "9c1df235-ceb6-4206-de14-c1c441c24979"
      },
      "source": [
        "# Checking the presence of duplicated data\n",
        "data[data.duplicated(keep =False)].head(2)\n"
      ],
      "execution_count": 22,
      "outputs": [
        {
          "output_type": "execute_result",
          "data": {
            "text/html": [
              "<div>\n",
              "<style scoped>\n",
              "    .dataframe tbody tr th:only-of-type {\n",
              "        vertical-align: middle;\n",
              "    }\n",
              "\n",
              "    .dataframe tbody tr th {\n",
              "        vertical-align: top;\n",
              "    }\n",
              "\n",
              "    .dataframe thead th {\n",
              "        text-align: right;\n",
              "    }\n",
              "</style>\n",
              "<table border=\"1\" class=\"dataframe\">\n",
              "  <thead>\n",
              "    <tr style=\"text-align: right;\">\n",
              "      <th></th>\n",
              "      <th>airline</th>\n",
              "      <th>review_score</th>\n",
              "      <th>review_date</th>\n",
              "      <th>review_text</th>\n",
              "      <th>traveller_type</th>\n",
              "      <th>cabin</th>\n",
              "      <th>route</th>\n",
              "      <th>date_flown</th>\n",
              "      <th>seat_comfort</th>\n",
              "      <th>cabin_service</th>\n",
              "      <th>food_bev</th>\n",
              "      <th>entertainment</th>\n",
              "      <th>ground_service</th>\n",
              "      <th>value_for_money</th>\n",
              "      <th>recommended</th>\n",
              "    </tr>\n",
              "  </thead>\n",
              "  <tbody>\n",
              "    <tr>\n",
              "      <th>2173</th>\n",
              "      <td>Turkish Airlines</td>\n",
              "      <td>8.0</td>\n",
              "      <td>19th March 2015</td>\n",
              "      <td>LIS-IST B737-800. Check in OK. Flight on Time....</td>\n",
              "      <td>NaN</td>\n",
              "      <td>Business Class</td>\n",
              "      <td>NaN</td>\n",
              "      <td>NaN</td>\n",
              "      <td>4.0</td>\n",
              "      <td>5.0</td>\n",
              "      <td>4.0</td>\n",
              "      <td>3.0</td>\n",
              "      <td>NaN</td>\n",
              "      <td>4.0</td>\n",
              "      <td>yes</td>\n",
              "    </tr>\n",
              "    <tr>\n",
              "      <th>2183</th>\n",
              "      <td>Turkish Airlines</td>\n",
              "      <td>8.0</td>\n",
              "      <td>19th March 2015</td>\n",
              "      <td>LIS-IST B737-800. Check in OK. Flight on Time....</td>\n",
              "      <td>NaN</td>\n",
              "      <td>Business Class</td>\n",
              "      <td>NaN</td>\n",
              "      <td>NaN</td>\n",
              "      <td>4.0</td>\n",
              "      <td>5.0</td>\n",
              "      <td>4.0</td>\n",
              "      <td>3.0</td>\n",
              "      <td>NaN</td>\n",
              "      <td>4.0</td>\n",
              "      <td>yes</td>\n",
              "    </tr>\n",
              "  </tbody>\n",
              "</table>\n",
              "</div>"
            ],
            "text/plain": [
              "               airline  review_score  ... value_for_money recommended\n",
              "2173  Turkish Airlines           8.0  ...             4.0         yes\n",
              "2183  Turkish Airlines           8.0  ...             4.0         yes\n",
              "\n",
              "[2 rows x 15 columns]"
            ]
          },
          "metadata": {
            "tags": []
          },
          "execution_count": 22
        }
      ]
    },
    {
      "cell_type": "markdown",
      "metadata": {
        "id": "vU3k8ARfFiTG"
      },
      "source": [
        "We dont need to know the name of the person. Aircraft is dropped because most of column is null value and it cant be filled."
      ]
    },
    {
      "cell_type": "code",
      "metadata": {
        "id": "H4y0rC8K_RvM",
        "colab": {
          "base_uri": "https://localhost:8080/",
          "height": 261
        },
        "outputId": "681c4ff7-9e84-4668-87db-4d6f8c2a7e2a"
      },
      "source": [
        "# Conforming the presence of duplicated data\n",
        "data[data['review_text']== data.loc[2257,:]['review_text']]\n"
      ],
      "execution_count": 23,
      "outputs": [
        {
          "output_type": "execute_result",
          "data": {
            "text/html": [
              "<div>\n",
              "<style scoped>\n",
              "    .dataframe tbody tr th:only-of-type {\n",
              "        vertical-align: middle;\n",
              "    }\n",
              "\n",
              "    .dataframe tbody tr th {\n",
              "        vertical-align: top;\n",
              "    }\n",
              "\n",
              "    .dataframe thead th {\n",
              "        text-align: right;\n",
              "    }\n",
              "</style>\n",
              "<table border=\"1\" class=\"dataframe\">\n",
              "  <thead>\n",
              "    <tr style=\"text-align: right;\">\n",
              "      <th></th>\n",
              "      <th>airline</th>\n",
              "      <th>review_score</th>\n",
              "      <th>review_date</th>\n",
              "      <th>review_text</th>\n",
              "      <th>traveller_type</th>\n",
              "      <th>cabin</th>\n",
              "      <th>route</th>\n",
              "      <th>date_flown</th>\n",
              "      <th>seat_comfort</th>\n",
              "      <th>cabin_service</th>\n",
              "      <th>food_bev</th>\n",
              "      <th>entertainment</th>\n",
              "      <th>ground_service</th>\n",
              "      <th>value_for_money</th>\n",
              "      <th>recommended</th>\n",
              "    </tr>\n",
              "  </thead>\n",
              "  <tbody>\n",
              "    <tr>\n",
              "      <th>2257</th>\n",
              "      <td>Turkish Airlines</td>\n",
              "      <td>1.0</td>\n",
              "      <td>19th January 2015</td>\n",
              "      <td>Flew back with TK 1955 business class from Ist...</td>\n",
              "      <td>NaN</td>\n",
              "      <td>Business Class</td>\n",
              "      <td>NaN</td>\n",
              "      <td>NaN</td>\n",
              "      <td>1.0</td>\n",
              "      <td>4.0</td>\n",
              "      <td>2.0</td>\n",
              "      <td>1.0</td>\n",
              "      <td>NaN</td>\n",
              "      <td>1.0</td>\n",
              "      <td>no</td>\n",
              "    </tr>\n",
              "    <tr>\n",
              "      <th>2263</th>\n",
              "      <td>Turkish Airlines</td>\n",
              "      <td>1.0</td>\n",
              "      <td>19th January 2015</td>\n",
              "      <td>Flew back with TK 1955 business class from Ist...</td>\n",
              "      <td>NaN</td>\n",
              "      <td>Business Class</td>\n",
              "      <td>NaN</td>\n",
              "      <td>NaN</td>\n",
              "      <td>1.0</td>\n",
              "      <td>4.0</td>\n",
              "      <td>2.0</td>\n",
              "      <td>1.0</td>\n",
              "      <td>NaN</td>\n",
              "      <td>1.0</td>\n",
              "      <td>no</td>\n",
              "    </tr>\n",
              "  </tbody>\n",
              "</table>\n",
              "</div>"
            ],
            "text/plain": [
              "               airline  review_score  ... value_for_money recommended\n",
              "2257  Turkish Airlines           1.0  ...             1.0          no\n",
              "2263  Turkish Airlines           1.0  ...             1.0          no\n",
              "\n",
              "[2 rows x 15 columns]"
            ]
          },
          "metadata": {
            "tags": []
          },
          "execution_count": 23
        }
      ]
    },
    {
      "cell_type": "code",
      "metadata": {
        "id": "EiYnJQ2uaFog"
      },
      "source": [
        "#Dropping the duplicates by keeping the first occurence\n",
        "data = data.drop_duplicates(keep= 'first')\n"
      ],
      "execution_count": 24,
      "outputs": []
    },
    {
      "cell_type": "code",
      "metadata": {
        "id": "PEZ_bPNzZfKG",
        "colab": {
          "base_uri": "https://localhost:8080/"
        },
        "outputId": "e20c40c1-c2cb-4a36-8bb0-d9ef2f5c4b5a"
      },
      "source": [
        "data[['review_date','date_flown']].dtypes\n"
      ],
      "execution_count": 25,
      "outputs": [
        {
          "output_type": "execute_result",
          "data": {
            "text/plain": [
              "review_date    object\n",
              "date_flown     object\n",
              "dtype: object"
            ]
          },
          "metadata": {
            "tags": []
          },
          "execution_count": 25
        }
      ]
    },
    {
      "cell_type": "code",
      "metadata": {
        "id": "Ezd_SQf7nJ2U",
        "colab": {
          "base_uri": "https://localhost:8080/"
        },
        "outputId": "b0348a96-8cf1-4894-d228-4e9d0d09ea30"
      },
      "source": [
        "data.isnull().sum()"
      ],
      "execution_count": 26,
      "outputs": [
        {
          "output_type": "execute_result",
          "data": {
            "text/plain": [
              "airline                0\n",
              "review_score        1782\n",
              "review_date            0\n",
              "review_text            0\n",
              "traveller_type     23643\n",
              "cabin               2478\n",
              "route              23670\n",
              "date_flown         23749\n",
              "seat_comfort        4972\n",
              "cabin_service       4943\n",
              "food_bev           12842\n",
              "entertainment      20953\n",
              "ground_service     24014\n",
              "value_for_money     1856\n",
              "recommended         1422\n",
              "dtype: int64"
            ]
          },
          "metadata": {
            "tags": []
          },
          "execution_count": 26
        }
      ]
    },
    {
      "cell_type": "code",
      "metadata": {
        "id": "qGST2GvTklrC"
      },
      "source": [
        "# Copy data to airline_data data frame\n",
        "airline_data = data.copy()\n"
      ],
      "execution_count": 27,
      "outputs": []
    },
    {
      "cell_type": "code",
      "metadata": {
        "id": "Vt7ntNUoyAgG",
        "colab": {
          "base_uri": "https://localhost:8080/"
        },
        "outputId": "eb45d6a4-470d-4bef-a08c-4a763d6c9699"
      },
      "source": [
        "airline_data.shape"
      ],
      "execution_count": 28,
      "outputs": [
        {
          "output_type": "execute_result",
          "data": {
            "text/plain": [
              "(61183, 15)"
            ]
          },
          "metadata": {
            "tags": []
          },
          "execution_count": 28
        }
      ]
    },
    {
      "cell_type": "code",
      "metadata": {
        "id": "dbJaAg5JX4sc",
        "colab": {
          "base_uri": "https://localhost:8080/"
        },
        "outputId": "dd47451a-2241-4b1c-b130-33bffd53d820"
      },
      "source": [
        "print(\" Total no.of rows in given data \", data.shape[0])\n",
        "print(\"No.of rows with null values in all columns\", data.shape[0] - airline_data.shape[0])\n",
        "print(\"% of rows without complete null values\", (airline_data.shape[0]/data.shape[0])*100)"
      ],
      "execution_count": 29,
      "outputs": [
        {
          "output_type": "stream",
          "text": [
            " Total no.of rows in given data  61183\n",
            "No.of rows with null values in all columns 0\n",
            "% of rows without complete null values 100.0\n"
          ],
          "name": "stdout"
        }
      ]
    },
    {
      "cell_type": "markdown",
      "metadata": {
        "id": "ukFzlGOYD7ZH"
      },
      "source": [
        "Now we need fill the missing values. "
      ]
    },
    {
      "cell_type": "markdown",
      "metadata": {
        "id": "2HAtmcRFxVlF"
      },
      "source": [
        "#### Scaling review columns to 10"
      ]
    },
    {
      "cell_type": "code",
      "metadata": {
        "id": "fevdydZMX_jf"
      },
      "source": [
        "def scaled_feature(feature_to_be_scaled):\n",
        "  '''scaling entire column by multiplying by 2 so that all ratings are given out of 10'''\n",
        "  airline_data[feature_to_be_scaled] = airline_data[feature_to_be_scaled]*2\n",
        "  "
      ],
      "execution_count": 30,
      "outputs": []
    },
    {
      "cell_type": "code",
      "metadata": {
        "id": "IGGgTdRyY7k3"
      },
      "source": [
        "scaled_feature('seat_comfort')\n",
        "scaled_feature('cabin_service')\n",
        "scaled_feature('food_bev')\n",
        "scaled_feature('entertainment')\n",
        "scaled_feature('ground_service')\n",
        "scaled_feature('value_for_money')\n",
        "\n"
      ],
      "execution_count": 31,
      "outputs": []
    },
    {
      "cell_type": "code",
      "metadata": {
        "id": "D5n9_0AZZlrY",
        "colab": {
          "base_uri": "https://localhost:8080/",
          "height": 261
        },
        "outputId": "bff00eaf-6bf8-41a6-a3bc-06a4c4d99c23"
      },
      "source": [
        "airline_data.head(2)\n",
        "                  "
      ],
      "execution_count": 32,
      "outputs": [
        {
          "output_type": "execute_result",
          "data": {
            "text/html": [
              "<div>\n",
              "<style scoped>\n",
              "    .dataframe tbody tr th:only-of-type {\n",
              "        vertical-align: middle;\n",
              "    }\n",
              "\n",
              "    .dataframe tbody tr th {\n",
              "        vertical-align: top;\n",
              "    }\n",
              "\n",
              "    .dataframe thead th {\n",
              "        text-align: right;\n",
              "    }\n",
              "</style>\n",
              "<table border=\"1\" class=\"dataframe\">\n",
              "  <thead>\n",
              "    <tr style=\"text-align: right;\">\n",
              "      <th></th>\n",
              "      <th>airline</th>\n",
              "      <th>review_score</th>\n",
              "      <th>review_date</th>\n",
              "      <th>review_text</th>\n",
              "      <th>traveller_type</th>\n",
              "      <th>cabin</th>\n",
              "      <th>route</th>\n",
              "      <th>date_flown</th>\n",
              "      <th>seat_comfort</th>\n",
              "      <th>cabin_service</th>\n",
              "      <th>food_bev</th>\n",
              "      <th>entertainment</th>\n",
              "      <th>ground_service</th>\n",
              "      <th>value_for_money</th>\n",
              "      <th>recommended</th>\n",
              "    </tr>\n",
              "  </thead>\n",
              "  <tbody>\n",
              "    <tr>\n",
              "      <th>1</th>\n",
              "      <td>Turkish Airlines</td>\n",
              "      <td>7.0</td>\n",
              "      <td>8th May 2019</td>\n",
              "      <td>âœ… Trip Verified | London to Izmir via Istanb...</td>\n",
              "      <td>Business</td>\n",
              "      <td>Economy Class</td>\n",
              "      <td>London to Izmir via Istanbul</td>\n",
              "      <td>2019-05-01 00:00:00</td>\n",
              "      <td>8.0</td>\n",
              "      <td>10.0</td>\n",
              "      <td>8.0</td>\n",
              "      <td>8.0</td>\n",
              "      <td>4.0</td>\n",
              "      <td>8.0</td>\n",
              "      <td>yes</td>\n",
              "    </tr>\n",
              "    <tr>\n",
              "      <th>3</th>\n",
              "      <td>Turkish Airlines</td>\n",
              "      <td>2.0</td>\n",
              "      <td>7th May 2019</td>\n",
              "      <td>âœ… Trip Verified | Istanbul to Bucharest. We ...</td>\n",
              "      <td>Family Leisure</td>\n",
              "      <td>Economy Class</td>\n",
              "      <td>Istanbul to Bucharest</td>\n",
              "      <td>2019-05-01 00:00:00</td>\n",
              "      <td>8.0</td>\n",
              "      <td>2.0</td>\n",
              "      <td>2.0</td>\n",
              "      <td>2.0</td>\n",
              "      <td>2.0</td>\n",
              "      <td>2.0</td>\n",
              "      <td>no</td>\n",
              "    </tr>\n",
              "  </tbody>\n",
              "</table>\n",
              "</div>"
            ],
            "text/plain": [
              "            airline  review_score  ... value_for_money recommended\n",
              "1  Turkish Airlines           7.0  ...             8.0         yes\n",
              "3  Turkish Airlines           2.0  ...             2.0          no\n",
              "\n",
              "[2 rows x 15 columns]"
            ]
          },
          "metadata": {
            "tags": []
          },
          "execution_count": 32
        }
      ]
    },
    {
      "cell_type": "markdown",
      "metadata": {
        "id": "Tnc-qlqCxfB6"
      },
      "source": [
        "### Ploting "
      ]
    },
    {
      "cell_type": "code",
      "metadata": {
        "id": "HE9U5NYH_Qvy"
      },
      "source": [
        "#Stacked plot of rating features\n",
        "def stacked_plot(feat):\n",
        "  ''' Stacked plot of rating features'''\n",
        "  x = airline_data.groupby([airline_data['review_score']])\n",
        "  x[feat].value_counts().unstack().plot(kind= 'bar',stacked = True, figsize=(12,6))\n",
        "\n",
        "\n",
        "\n",
        "\n"
      ],
      "execution_count": 33,
      "outputs": []
    },
    {
      "cell_type": "code",
      "metadata": {
        "id": "xwhM3ydzBZlB"
      },
      "source": [
        "review_features = ['seat_comfort','cabin_service','food_bev','entertainment', 'ground_service', 'value_for_money']"
      ],
      "execution_count": 34,
      "outputs": []
    },
    {
      "cell_type": "code",
      "metadata": {
        "id": "DpKVsqfBAnFR",
        "colab": {
          "base_uri": "https://localhost:8080/",
          "height": 1000
        },
        "outputId": "f6b5834d-0b09-48a1-907a-76d758184c51"
      },
      "source": [
        "for feat in review_features:\n",
        "  stacked_plot(feat)"
      ],
      "execution_count": 35,
      "outputs": [
        {
          "output_type": "display_data",
          "data": {
            "image/png": "[encoded data removed]",
            "text/plain": [
              "<Figure size 864x432 with 1 Axes>"
            ]
          },
          "metadata": {
            "tags": [],
            "needs_background": "light"
          }
        },
        {
          "output_type": "display_data",
          "data": {
            "image/png": "[encoded data removed]",
            "text/plain": [
              "<Figure size 864x432 with 1 Axes>"
            ]
          },
          "metadata": {
            "tags": [],
            "needs_background": "light"
          }
        },
        {
          "output_type": "display_data",
          "data": {
            "image/png": "[encoded data removed]",
            "text/plain": [
              "<Figure size 864x432 with 1 Axes>"
            ]
          },
          "metadata": {
            "tags": [],
            "needs_background": "light"
          }
        },
        {
          "output_type": "display_data",
          "data": {
            "image/png": "[encoded data removed]",
            "text/plain": [
              "<Figure size 864x432 with 1 Axes>"
            ]
          },
          "metadata": {
            "tags": [],
            "needs_background": "light"
          }
        },
        {
          "output_type": "display_data",
          "data": {
            "image/png": "[encoded data removed]",
            "text/plain": [
              "<Figure size 864x432 with 1 Axes>"
            ]
          },
          "metadata": {
            "tags": [],
            "needs_background": "light"
          }
        },
        {
          "output_type": "display_data",
          "data": {
            "image/png": "[encoded data removed]",
            "text/plain": [
              "<Figure size 864x432 with 1 Axes>"
            ]
          },
          "metadata": {
            "tags": [],
            "needs_background": "light"
          }
        }
      ]
    },
    {
      "cell_type": "code",
      "metadata": {
        "id": "F05d-HodEs8z",
        "colab": {
          "base_uri": "https://localhost:8080/",
          "height": 401
        },
        "outputId": "e0c16cf4-b044-4b8d-c18d-7ff35df55654"
      },
      "source": [
        "stacked_plot('recommended')"
      ],
      "execution_count": 36,
      "outputs": [
        {
          "output_type": "display_data",
          "data": {
            "image/png": "[encoded data removed]",
            "text/plain": [
              "<Figure size 864x432 with 1 Axes>"
            ]
          },
          "metadata": {
            "tags": [],
            "needs_background": "light"
          }
        }
      ]
    },
    {
      "cell_type": "code",
      "metadata": {
        "id": "Kd8jqz2iGuS8",
        "colab": {
          "base_uri": "https://localhost:8080/",
          "height": 470
        },
        "outputId": "635e26c2-f1de-4690-ebb2-f44a4ac3df45"
      },
      "source": [
        "cor_matrix =abs( airline_data.corr())\n",
        "# Get heatmap of correlation matrix on the dataset\n",
        "plt.figure(figsize=(12,6))\n",
        "sns.heatmap(cor_matrix,annot = True)"
      ],
      "execution_count": 37,
      "outputs": [
        {
          "output_type": "execute_result",
          "data": {
            "text/plain": [
              "<matplotlib.axes._subplots.AxesSubplot at 0x7f6806990850>"
            ]
          },
          "metadata": {
            "tags": []
          },
          "execution_count": 37
        },
        {
          "output_type": "display_data",
          "data": {
            "image/png": "[encoded data removed]",
            "text/plain": [
              "<Figure size 864x432 with 2 Axes>"
            ]
          },
          "metadata": {
            "tags": [],
            "needs_background": "light"
          }
        }
      ]
    },
    {
      "cell_type": "markdown",
      "metadata": {
        "id": "dxaRXmRF0y1D"
      },
      "source": [
        "## Feature Engineering"
      ]
    },
    {
      "cell_type": "markdown",
      "metadata": {
        "id": "G8Tv9YOxbGKj"
      },
      "source": [
        "**Filling** review columns\n",
        "For filling review score take average of seat_comfort, cabin_service, food_bev, entertainment, ground_service\n",
        "And for filling take seat_comfort, cabin_service, food_bev, entertainment, ground_service missing value fill with review **score**"
      ]
    },
    {
      "cell_type": "markdown",
      "metadata": {
        "id": "i0IocQLuT5Vz"
      },
      "source": [
        ""
      ]
    },
    {
      "cell_type": "markdown",
      "metadata": {
        "id": "oaJdbgiBdYua"
      },
      "source": [
        "####Filling review score"
      ]
    },
    {
      "cell_type": "code",
      "metadata": {
        "id": "TmoWmzBBRMCa"
      },
      "source": [
        "# Filling review_score\n",
        "y = airline_data.drop(columns = 'review_score')\n",
        "airline_data['avg'] = round(y.mean(axis=1))\n",
        "airline_data['review_score'].fillna(value= airline_data['avg'],inplace = True)\n"
      ],
      "execution_count": 38,
      "outputs": []
    },
    {
      "cell_type": "code",
      "metadata": {
        "id": "UCZLVvcnC9ec",
        "colab": {
          "base_uri": "https://localhost:8080/",
          "height": 401
        },
        "outputId": "d23a596c-1931-4f06-e573-e32768c3410e"
      },
      "source": [
        "stacked_plot('avg')"
      ],
      "execution_count": 39,
      "outputs": [
        {
          "output_type": "display_data",
          "data": {
            "image/png": "[encoded data removed]",
            "text/plain": [
              "<Figure size 864x432 with 1 Axes>"
            ]
          },
          "metadata": {
            "tags": [],
            "needs_background": "light"
          }
        }
      ]
    },
    {
      "cell_type": "markdown",
      "metadata": {
        "id": "e-9Q2SYUMYn4"
      },
      "source": [
        "The plot shows that using average we are able to fill the review scores."
      ]
    },
    {
      "cell_type": "code",
      "metadata": {
        "id": "sN2uwIC1q02f"
      },
      "source": [
        " \n"
      ],
      "execution_count": 39,
      "outputs": []
    },
    {
      "cell_type": "code",
      "metadata": {
        "id": "DX-KugfGKvv9"
      },
      "source": [
        "airline_data.drop(columns='avg',inplace = True)"
      ],
      "execution_count": 40,
      "outputs": []
    },
    {
      "cell_type": "code",
      "metadata": {
        "id": "PZULtXiTjYLR",
        "colab": {
          "base_uri": "https://localhost:8080/"
        },
        "outputId": "18c4a0c3-266c-4d09-b056-2effb4f7c56c"
      },
      "source": [
        "airline_data.isnull().sum()"
      ],
      "execution_count": 41,
      "outputs": [
        {
          "output_type": "execute_result",
          "data": {
            "text/plain": [
              "airline                0\n",
              "review_score         143\n",
              "review_date            0\n",
              "review_text            0\n",
              "traveller_type     23643\n",
              "cabin               2478\n",
              "route              23670\n",
              "date_flown         23749\n",
              "seat_comfort        4972\n",
              "cabin_service       4943\n",
              "food_bev           12842\n",
              "entertainment      20953\n",
              "ground_service     24014\n",
              "value_for_money     1856\n",
              "recommended         1422\n",
              "dtype: int64"
            ]
          },
          "metadata": {
            "tags": []
          },
          "execution_count": 41
        }
      ]
    },
    {
      "cell_type": "markdown",
      "metadata": {
        "id": "YzbpHskFxJUD"
      },
      "source": [
        "#### Filling other rating columns"
      ]
    },
    {
      "cell_type": "code",
      "metadata": {
        "id": "IreQVki-sz-Q"
      },
      "source": [
        "airline_data['seat_comfort'].fillna(value= airline_data['review_score'],inplace = True)\n",
        "airline_data['cabin_service'].fillna(value= airline_data['review_score'],inplace = True)\n",
        "airline_data['food_bev'].fillna(value= airline_data['review_score'],inplace = True)\n",
        "airline_data['entertainment'].fillna(value= airline_data['review_score'],inplace = True)\n",
        "airline_data['ground_service'].fillna(value= airline_data['review_score'],inplace = True)\n",
        "airline_data['value_for_money'].fillna(value= airline_data['review_score'],inplace = True)\n"
      ],
      "execution_count": 42,
      "outputs": []
    },
    {
      "cell_type": "code",
      "metadata": {
        "id": "5Nc8_c2fslTz",
        "colab": {
          "base_uri": "https://localhost:8080/"
        },
        "outputId": "bcc20a3b-de98-4d65-977b-c9c983e5f2f1"
      },
      "source": [
        "airline_data.isnull().sum()"
      ],
      "execution_count": 43,
      "outputs": [
        {
          "output_type": "execute_result",
          "data": {
            "text/plain": [
              "airline                0\n",
              "review_score         143\n",
              "review_date            0\n",
              "review_text            0\n",
              "traveller_type     23643\n",
              "cabin               2478\n",
              "route              23670\n",
              "date_flown         23749\n",
              "seat_comfort         143\n",
              "cabin_service        143\n",
              "food_bev             143\n",
              "entertainment        143\n",
              "ground_service       143\n",
              "value_for_money      143\n",
              "recommended         1422\n",
              "dtype: int64"
            ]
          },
          "metadata": {
            "tags": []
          },
          "execution_count": 43
        }
      ]
    },
    {
      "cell_type": "markdown",
      "metadata": {
        "id": "krenArf8xP3w"
      },
      "source": [
        ""
      ]
    },
    {
      "cell_type": "code",
      "metadata": {
        "id": "XJDapXV9hxwy"
      },
      "source": [
        "airline_data.dropna(subset = ['review_score'],inplace = True)"
      ],
      "execution_count": 44,
      "outputs": []
    },
    {
      "cell_type": "code",
      "metadata": {
        "id": "aXFRV8dvyPgU"
      },
      "source": [
        "# re-ordering the index as rows are removed\n",
        "airline_data.reset_index(drop=True,inplace = True)\n"
      ],
      "execution_count": 45,
      "outputs": []
    },
    {
      "cell_type": "code",
      "metadata": {
        "id": "yBc5lda8yZyU",
        "colab": {
          "base_uri": "https://localhost:8080/",
          "height": 244
        },
        "outputId": "5aac5139-a71b-4c83-85d1-c487990a9594"
      },
      "source": [
        "airline_data.tail(2)"
      ],
      "execution_count": 46,
      "outputs": [
        {
          "output_type": "execute_result",
          "data": {
            "text/html": [
              "<div>\n",
              "<style scoped>\n",
              "    .dataframe tbody tr th:only-of-type {\n",
              "        vertical-align: middle;\n",
              "    }\n",
              "\n",
              "    .dataframe tbody tr th {\n",
              "        vertical-align: top;\n",
              "    }\n",
              "\n",
              "    .dataframe thead th {\n",
              "        text-align: right;\n",
              "    }\n",
              "</style>\n",
              "<table border=\"1\" class=\"dataframe\">\n",
              "  <thead>\n",
              "    <tr style=\"text-align: right;\">\n",
              "      <th></th>\n",
              "      <th>airline</th>\n",
              "      <th>review_score</th>\n",
              "      <th>review_date</th>\n",
              "      <th>review_text</th>\n",
              "      <th>traveller_type</th>\n",
              "      <th>cabin</th>\n",
              "      <th>route</th>\n",
              "      <th>date_flown</th>\n",
              "      <th>seat_comfort</th>\n",
              "      <th>cabin_service</th>\n",
              "      <th>food_bev</th>\n",
              "      <th>entertainment</th>\n",
              "      <th>ground_service</th>\n",
              "      <th>value_for_money</th>\n",
              "      <th>recommended</th>\n",
              "    </tr>\n",
              "  </thead>\n",
              "  <tbody>\n",
              "    <tr>\n",
              "      <th>61038</th>\n",
              "      <td>Ukraine International</td>\n",
              "      <td>4.0</td>\n",
              "      <td>4th May 2008</td>\n",
              "      <td>Kiev-Vienna. Check in was slow but after that ...</td>\n",
              "      <td>NaN</td>\n",
              "      <td>NaN</td>\n",
              "      <td>NaN</td>\n",
              "      <td>NaN</td>\n",
              "      <td>4.0</td>\n",
              "      <td>4.0</td>\n",
              "      <td>4.0</td>\n",
              "      <td>4.0</td>\n",
              "      <td>4.0</td>\n",
              "      <td>4.0</td>\n",
              "      <td>no</td>\n",
              "    </tr>\n",
              "    <tr>\n",
              "      <th>61039</th>\n",
              "      <td>Ukraine International</td>\n",
              "      <td>3.0</td>\n",
              "      <td>2nd August 2007</td>\n",
              "      <td>VIE-ODS Business class. B737-500 either leased...</td>\n",
              "      <td>NaN</td>\n",
              "      <td>NaN</td>\n",
              "      <td>NaN</td>\n",
              "      <td>NaN</td>\n",
              "      <td>3.0</td>\n",
              "      <td>3.0</td>\n",
              "      <td>3.0</td>\n",
              "      <td>3.0</td>\n",
              "      <td>3.0</td>\n",
              "      <td>3.0</td>\n",
              "      <td>no</td>\n",
              "    </tr>\n",
              "  </tbody>\n",
              "</table>\n",
              "</div>"
            ],
            "text/plain": [
              "                     airline  review_score  ... value_for_money recommended\n",
              "61038  Ukraine International           4.0  ...             4.0          no\n",
              "61039  Ukraine International           3.0  ...             3.0          no\n",
              "\n",
              "[2 rows x 15 columns]"
            ]
          },
          "metadata": {
            "tags": []
          },
          "execution_count": 46
        }
      ]
    },
    {
      "cell_type": "code",
      "metadata": {
        "id": "k48_YE4xfCh2",
        "colab": {
          "base_uri": "https://localhost:8080/",
          "height": 304
        },
        "outputId": "cb3655c8-9ad6-4214-e265-ee32c8d47dbc"
      },
      "source": [
        "x = airline_data[['review_score','recommended']]\n",
        "x.groupby(['recommended']).count().plot.bar() "
      ],
      "execution_count": 47,
      "outputs": [
        {
          "output_type": "execute_result",
          "data": {
            "text/plain": [
              "<matplotlib.axes._subplots.AxesSubplot at 0x7f68058c1710>"
            ]
          },
          "metadata": {
            "tags": []
          },
          "execution_count": 47
        },
        {
          "output_type": "display_data",
          "data": {
            "image/png": "[encoded data removed]",
            "text/plain": [
              "<Figure size 432x288 with 1 Axes>"
            ]
          },
          "metadata": {
            "tags": [],
            "needs_background": "light"
          }
        }
      ]
    },
    {
      "cell_type": "markdown",
      "metadata": {
        "id": "gf3eNnUIpDAa"
      },
      "source": [
        "#### One hot encoding to fill travel type, cabin type"
      ]
    },
    {
      "cell_type": "code",
      "metadata": {
        "id": "SNx2oX5bqSx_"
      },
      "source": [
        "# Filling travel_type and cabin type\n",
        "airline_data= pd.concat([airline_data,pd.get_dummies(airline_data['traveller_type'])],axis=1)\n",
        "airline_data= pd.concat([airline_data,pd.get_dummies(airline_data['cabin'])],axis=1)"
      ],
      "execution_count": 48,
      "outputs": []
    },
    {
      "cell_type": "code",
      "metadata": {
        "id": "jQ4qQOSeqSua"
      },
      "source": [
        ""
      ],
      "execution_count": 48,
      "outputs": []
    },
    {
      "cell_type": "code",
      "metadata": {
        "id": "tWyNVQH2xCUQ",
        "colab": {
          "base_uri": "https://localhost:8080/",
          "height": 261
        },
        "outputId": "86d87247-ff84-4ad5-bbe2-dc6d11a108c5"
      },
      "source": [
        "airline_data.tail(2)"
      ],
      "execution_count": 49,
      "outputs": [
        {
          "output_type": "execute_result",
          "data": {
            "text/html": [
              "<div>\n",
              "<style scoped>\n",
              "    .dataframe tbody tr th:only-of-type {\n",
              "        vertical-align: middle;\n",
              "    }\n",
              "\n",
              "    .dataframe tbody tr th {\n",
              "        vertical-align: top;\n",
              "    }\n",
              "\n",
              "    .dataframe thead th {\n",
              "        text-align: right;\n",
              "    }\n",
              "</style>\n",
              "<table border=\"1\" class=\"dataframe\">\n",
              "  <thead>\n",
              "    <tr style=\"text-align: right;\">\n",
              "      <th></th>\n",
              "      <th>airline</th>\n",
              "      <th>review_score</th>\n",
              "      <th>review_date</th>\n",
              "      <th>review_text</th>\n",
              "      <th>traveller_type</th>\n",
              "      <th>cabin</th>\n",
              "      <th>route</th>\n",
              "      <th>date_flown</th>\n",
              "      <th>seat_comfort</th>\n",
              "      <th>cabin_service</th>\n",
              "      <th>food_bev</th>\n",
              "      <th>entertainment</th>\n",
              "      <th>ground_service</th>\n",
              "      <th>value_for_money</th>\n",
              "      <th>recommended</th>\n",
              "      <th>Business</th>\n",
              "      <th>Couple Leisure</th>\n",
              "      <th>Family Leisure</th>\n",
              "      <th>Solo Leisure</th>\n",
              "      <th>Business Class</th>\n",
              "      <th>Economy Class</th>\n",
              "      <th>First Class</th>\n",
              "      <th>Premium Economy</th>\n",
              "    </tr>\n",
              "  </thead>\n",
              "  <tbody>\n",
              "    <tr>\n",
              "      <th>61038</th>\n",
              "      <td>Ukraine International</td>\n",
              "      <td>4.0</td>\n",
              "      <td>4th May 2008</td>\n",
              "      <td>Kiev-Vienna. Check in was slow but after that ...</td>\n",
              "      <td>NaN</td>\n",
              "      <td>NaN</td>\n",
              "      <td>NaN</td>\n",
              "      <td>NaN</td>\n",
              "      <td>4.0</td>\n",
              "      <td>4.0</td>\n",
              "      <td>4.0</td>\n",
              "      <td>4.0</td>\n",
              "      <td>4.0</td>\n",
              "      <td>4.0</td>\n",
              "      <td>no</td>\n",
              "      <td>0</td>\n",
              "      <td>0</td>\n",
              "      <td>0</td>\n",
              "      <td>0</td>\n",
              "      <td>0</td>\n",
              "      <td>0</td>\n",
              "      <td>0</td>\n",
              "      <td>0</td>\n",
              "    </tr>\n",
              "    <tr>\n",
              "      <th>61039</th>\n",
              "      <td>Ukraine International</td>\n",
              "      <td>3.0</td>\n",
              "      <td>2nd August 2007</td>\n",
              "      <td>VIE-ODS Business class. B737-500 either leased...</td>\n",
              "      <td>NaN</td>\n",
              "      <td>NaN</td>\n",
              "      <td>NaN</td>\n",
              "      <td>NaN</td>\n",
              "      <td>3.0</td>\n",
              "      <td>3.0</td>\n",
              "      <td>3.0</td>\n",
              "      <td>3.0</td>\n",
              "      <td>3.0</td>\n",
              "      <td>3.0</td>\n",
              "      <td>no</td>\n",
              "      <td>0</td>\n",
              "      <td>0</td>\n",
              "      <td>0</td>\n",
              "      <td>0</td>\n",
              "      <td>0</td>\n",
              "      <td>0</td>\n",
              "      <td>0</td>\n",
              "      <td>0</td>\n",
              "    </tr>\n",
              "  </tbody>\n",
              "</table>\n",
              "</div>"
            ],
            "text/plain": [
              "                     airline  review_score  ... First Class Premium Economy\n",
              "61038  Ukraine International           4.0  ...           0               0\n",
              "61039  Ukraine International           3.0  ...           0               0\n",
              "\n",
              "[2 rows x 23 columns]"
            ]
          },
          "metadata": {
            "tags": []
          },
          "execution_count": 49
        }
      ]
    },
    {
      "cell_type": "code",
      "metadata": {
        "id": "ngMGf8inzri2"
      },
      "source": [
        "airline_data.drop(columns=['traveller_type','date_flown','route','cabin'],inplace= True)"
      ],
      "execution_count": 50,
      "outputs": []
    },
    {
      "cell_type": "code",
      "metadata": {
        "id": "ynpMOFzDL5WZ"
      },
      "source": [
        ""
      ],
      "execution_count": 50,
      "outputs": []
    },
    {
      "cell_type": "markdown",
      "metadata": {
        "id": "97OSVrCL0K2U"
      },
      "source": [
        "####Adding new column pos_neg based on review_score "
      ]
    },
    {
      "cell_type": "markdown",
      "metadata": {
        "id": "PSK6R3NsvfDe"
      },
      "source": [
        "Pos_neg - Feature based on review score. In this feature if review score is <=5 it a negative sentiment and filled with zero and if the review score is  >5 it is a positive sentiment and filled with one."
      ]
    },
    {
      "cell_type": "code",
      "metadata": {
        "id": "sa0oazS90WpC"
      },
      "source": [
        "# classifying the review score into one of the 3 categories: Positive, Negative \n",
        "def classify_review_score(df):\n",
        "    \"\"\"\n",
        "    Return:\n",
        "    - 'pos' if the review score is positive (>5),\n",
        "   \n",
        "    - 'neg' if the review score is negative (<=5).\n",
        "    \"\"\"\n",
        "    pos_neg= None\n",
        "\n",
        "    if (df['review_score'] <= 5):\n",
        "      pos_neg = 0\n",
        "    \n",
        "    else:\n",
        "      pos_neg = 1\n",
        "    return pos_neg\n"
      ],
      "execution_count": 51,
      "outputs": []
    },
    {
      "cell_type": "code",
      "metadata": {
        "id": "RwtKFcNh1w8W"
      },
      "source": [
        "# Adding a feature\n",
        "airline_data['pos_neg'] = airline_data.apply(lambda x: classify_review_score(x),axis=1)\n"
      ],
      "execution_count": 52,
      "outputs": []
    },
    {
      "cell_type": "code",
      "metadata": {
        "id": "gLDkwRje1Ynr",
        "colab": {
          "base_uri": "https://localhost:8080/",
          "height": 278
        },
        "outputId": "a759b3a9-d8a2-4856-a3f5-afb6094ca4b3"
      },
      "source": [
        "airline_data.head(2)"
      ],
      "execution_count": 53,
      "outputs": [
        {
          "output_type": "execute_result",
          "data": {
            "text/html": [
              "<div>\n",
              "<style scoped>\n",
              "    .dataframe tbody tr th:only-of-type {\n",
              "        vertical-align: middle;\n",
              "    }\n",
              "\n",
              "    .dataframe tbody tr th {\n",
              "        vertical-align: top;\n",
              "    }\n",
              "\n",
              "    .dataframe thead th {\n",
              "        text-align: right;\n",
              "    }\n",
              "</style>\n",
              "<table border=\"1\" class=\"dataframe\">\n",
              "  <thead>\n",
              "    <tr style=\"text-align: right;\">\n",
              "      <th></th>\n",
              "      <th>airline</th>\n",
              "      <th>review_score</th>\n",
              "      <th>review_date</th>\n",
              "      <th>review_text</th>\n",
              "      <th>seat_comfort</th>\n",
              "      <th>cabin_service</th>\n",
              "      <th>food_bev</th>\n",
              "      <th>entertainment</th>\n",
              "      <th>ground_service</th>\n",
              "      <th>value_for_money</th>\n",
              "      <th>recommended</th>\n",
              "      <th>Business</th>\n",
              "      <th>Couple Leisure</th>\n",
              "      <th>Family Leisure</th>\n",
              "      <th>Solo Leisure</th>\n",
              "      <th>Business Class</th>\n",
              "      <th>Economy Class</th>\n",
              "      <th>First Class</th>\n",
              "      <th>Premium Economy</th>\n",
              "      <th>pos_neg</th>\n",
              "    </tr>\n",
              "  </thead>\n",
              "  <tbody>\n",
              "    <tr>\n",
              "      <th>0</th>\n",
              "      <td>Turkish Airlines</td>\n",
              "      <td>7.0</td>\n",
              "      <td>8th May 2019</td>\n",
              "      <td>âœ… Trip Verified | London to Izmir via Istanb...</td>\n",
              "      <td>8.0</td>\n",
              "      <td>10.0</td>\n",
              "      <td>8.0</td>\n",
              "      <td>8.0</td>\n",
              "      <td>4.0</td>\n",
              "      <td>8.0</td>\n",
              "      <td>yes</td>\n",
              "      <td>1</td>\n",
              "      <td>0</td>\n",
              "      <td>0</td>\n",
              "      <td>0</td>\n",
              "      <td>0</td>\n",
              "      <td>1</td>\n",
              "      <td>0</td>\n",
              "      <td>0</td>\n",
              "      <td>1</td>\n",
              "    </tr>\n",
              "    <tr>\n",
              "      <th>1</th>\n",
              "      <td>Turkish Airlines</td>\n",
              "      <td>2.0</td>\n",
              "      <td>7th May 2019</td>\n",
              "      <td>âœ… Trip Verified | Istanbul to Bucharest. We ...</td>\n",
              "      <td>8.0</td>\n",
              "      <td>2.0</td>\n",
              "      <td>2.0</td>\n",
              "      <td>2.0</td>\n",
              "      <td>2.0</td>\n",
              "      <td>2.0</td>\n",
              "      <td>no</td>\n",
              "      <td>0</td>\n",
              "      <td>0</td>\n",
              "      <td>1</td>\n",
              "      <td>0</td>\n",
              "      <td>0</td>\n",
              "      <td>1</td>\n",
              "      <td>0</td>\n",
              "      <td>0</td>\n",
              "      <td>0</td>\n",
              "    </tr>\n",
              "  </tbody>\n",
              "</table>\n",
              "</div>"
            ],
            "text/plain": [
              "            airline  review_score  ... Premium Economy pos_neg\n",
              "0  Turkish Airlines           7.0  ...               0       1\n",
              "1  Turkish Airlines           2.0  ...               0       0\n",
              "\n",
              "[2 rows x 20 columns]"
            ]
          },
          "metadata": {
            "tags": []
          },
          "execution_count": 53
        }
      ]
    },
    {
      "cell_type": "markdown",
      "metadata": {
        "id": "otJqGG8R1DZ-"
      },
      "source": [
        "#### Handling dates"
      ]
    },
    {
      "cell_type": "code",
      "metadata": {
        "id": "-QSPeDvt1kB1"
      },
      "source": [
        "# Function to convert the column to datetime object\n",
        "def date_timestamp(df_ , date_col):\n",
        "\n",
        "  if (isinstance(df_[date_col],dt.datetime)):\n",
        "    date_timestamp = df_[date_col]\n",
        "  else:\n",
        "    date_timestamp = dateutil.parser.parse(df_[date_col])\n",
        "  return date_timestamp\n",
        "\n"
      ],
      "execution_count": 54,
      "outputs": []
    },
    {
      "cell_type": "code",
      "metadata": {
        "id": "nXDDooB08nke"
      },
      "source": [
        "# Changing review_date object type\n",
        "airline_data['review_date'] = airline_data.apply(lambda x: date_timestamp(x, 'review_date'), axis=1)"
      ],
      "execution_count": 55,
      "outputs": []
    },
    {
      "cell_type": "code",
      "metadata": {
        "id": "Y6V72urg9GDM",
        "colab": {
          "base_uri": "https://localhost:8080/"
        },
        "outputId": "225870b7-1d23-4b53-de50-62231cd81ae8"
      },
      "source": [
        "airline_data.shape"
      ],
      "execution_count": 56,
      "outputs": [
        {
          "output_type": "execute_result",
          "data": {
            "text/plain": [
              "(61040, 20)"
            ]
          },
          "metadata": {
            "tags": []
          },
          "execution_count": 56
        }
      ]
    },
    {
      "cell_type": "code",
      "metadata": {
        "id": "zbbc-K6pDEhe"
      },
      "source": [
        "# Fetch the date\n",
        "def get_review_date_day(df_row):\n",
        "    \"\"\"\n",
        "    Return the year of the review date.\n",
        "    \"\"\"\n",
        "    \n",
        "    review_date_day = df_row['review_date'].day\n",
        "    return review_date_day\n",
        "\n",
        "# Fetch the month\n",
        "def get_review_date_month(df_row):\n",
        "    \"\"\"\n",
        "    Return the year of the review date.\n",
        "    \"\"\"\n",
        "    review_date_month = df_row['review_date'].month\n",
        "    return review_date_month\n",
        "\n",
        "# Fetch the year\n",
        "def get_review_date_year(df_row):\n",
        "    \"\"\"\n",
        "    Return the year of the review date.\n",
        "    \"\"\"\n",
        "    review_date_year = df_row['review_date'].year\n",
        "    return review_date_year"
      ],
      "execution_count": 57,
      "outputs": []
    },
    {
      "cell_type": "code",
      "metadata": {
        "id": "l6PV7X3eK7ga"
      },
      "source": [
        "\n",
        "# Add other augmented features\n",
        "airline_data['review_date_day'] = airline_data.apply(lambda x: get_review_date_day(x),axis=1)\n",
        "airline_data['review_date_month'] = airline_data.apply(lambda x: get_review_date_month(x),axis=1)\n",
        "airline_data['review_date_year'] = airline_data.apply(lambda x: get_review_date_year(x),axis=1)\n"
      ],
      "execution_count": 58,
      "outputs": []
    },
    {
      "cell_type": "code",
      "metadata": {
        "id": "FZzI-NKrQuLX",
        "colab": {
          "base_uri": "https://localhost:8080/"
        },
        "outputId": "f11a583c-dda9-4048-d2ad-d102ebda98d9"
      },
      "source": [
        "airline_data.shape"
      ],
      "execution_count": 59,
      "outputs": [
        {
          "output_type": "execute_result",
          "data": {
            "text/plain": [
              "(61040, 23)"
            ]
          },
          "metadata": {
            "tags": []
          },
          "execution_count": 59
        }
      ]
    },
    {
      "cell_type": "markdown",
      "metadata": {
        "id": "FlrG-ZuZ6QsN"
      },
      "source": [
        "## Using VADER"
      ]
    },
    {
      "cell_type": "code",
      "metadata": {
        "id": "OixRKHN7InJx"
      },
      "source": [
        "#Copying data to sent_analysis\n",
        "sent_analysis = airline_data.copy()"
      ],
      "execution_count": 60,
      "outputs": []
    },
    {
      "cell_type": "code",
      "metadata": {
        "id": "91ew0ER8JBUe",
        "colab": {
          "base_uri": "https://localhost:8080/"
        },
        "outputId": "1ace40e5-b349-4275-d40a-5f524c2b837e"
      },
      "source": [
        "# Downloading packages\n",
        "nltk.download('punkt')\n",
        "nltk.download('vader_lexicon')"
      ],
      "execution_count": 61,
      "outputs": [
        {
          "output_type": "stream",
          "text": [
            "[nltk_data] Downloading package punkt to /root/nltk_data...\n",
            "[nltk_data]   Package punkt is already up-to-date!\n",
            "[nltk_data] Downloading package vader_lexicon to /root/nltk_data...\n",
            "[nltk_data]   Package vader_lexicon is already up-to-date!\n"
          ],
          "name": "stdout"
        },
        {
          "output_type": "execute_result",
          "data": {
            "text/plain": [
              "True"
            ]
          },
          "metadata": {
            "tags": []
          },
          "execution_count": 61
        }
      ]
    },
    {
      "cell_type": "code",
      "metadata": {
        "id": "_V5O9vveJMtF"
      },
      "source": [
        "# Initiating\n",
        "sid = SentimentIntensityAnalyzer()\n"
      ],
      "execution_count": 62,
      "outputs": []
    },
    {
      "cell_type": "markdown",
      "metadata": {
        "id": "wSTnM5qYJBfZ"
      },
      "source": [
        "Cleaning customer review text"
      ]
    },
    {
      "cell_type": "code",
      "metadata": {
        "id": "O7_x2OF-aFlM",
        "colab": {
          "base_uri": "https://localhost:8080/",
          "height": 69
        },
        "outputId": "6cf8f68a-31dd-48df-a3ef-55e5e779fa62"
      },
      "source": [
        "sent_analysis.iloc[1,:]['review_text']"
      ],
      "execution_count": 63,
      "outputs": [
        {
          "output_type": "execute_result",
          "data": {
            "application/vnd.google.colaboratory.intrinsic+json": {
              "type": "string"
            },
            "text/plain": [
              "'âœ… Trip Verified | Istanbul to Bucharest. We make our check in in the airport, they Take our luggage , we go to the gate and at the gate surprise they dont let uÈ™ board with two children, because they say the flight is overbooked. We had to wait in the airport with two children until 5 oclock in the morning until they bring uÈ™ to a hotel 2 hours far away from the airport without luggage, without eat without nothing. Our first and last flight with this airline.'"
            ]
          },
          "metadata": {
            "tags": []
          },
          "execution_count": 63
        }
      ]
    },
    {
      "cell_type": "markdown",
      "metadata": {
        "id": "UKTYkmruJP0G"
      },
      "source": [
        "The first line of review is not required and can be removed. As the same data is seen in route column"
      ]
    },
    {
      "cell_type": "code",
      "metadata": {
        "id": "oPY9HO2EaFiw"
      },
      "source": [
        "# Split the string by the first occurrence of '.' and get the second part of the string.\n",
        "sent_analysis['review_text'] = sent_analysis['review_text'].str.split('.',n=1,expand=True)[1]"
      ],
      "execution_count": 64,
      "outputs": []
    },
    {
      "cell_type": "code",
      "metadata": {
        "id": "sZgzaXuHNdqU",
        "colab": {
          "base_uri": "https://localhost:8080/"
        },
        "outputId": "f45ffb7b-e8f3-4f18-9001-fa73e0aac6c6"
      },
      "source": [
        "sent_analysis.isnull().sum()"
      ],
      "execution_count": 65,
      "outputs": [
        {
          "output_type": "execute_result",
          "data": {
            "text/plain": [
              "airline                 0\n",
              "review_score            0\n",
              "review_date             0\n",
              "review_text            68\n",
              "seat_comfort            0\n",
              "cabin_service           0\n",
              "food_bev                0\n",
              "entertainment           0\n",
              "ground_service          0\n",
              "value_for_money         0\n",
              "recommended          1404\n",
              "Business                0\n",
              "Couple Leisure          0\n",
              "Family Leisure          0\n",
              "Solo Leisure            0\n",
              "Business Class          0\n",
              "Economy Class           0\n",
              "First Class             0\n",
              "Premium Economy         0\n",
              "pos_neg                 0\n",
              "review_date_day         0\n",
              "review_date_month       0\n",
              "review_date_year        0\n",
              "dtype: int64"
            ]
          },
          "metadata": {
            "tags": []
          },
          "execution_count": 65
        }
      ]
    },
    {
      "cell_type": "code",
      "metadata": {
        "id": "XLq8xnERNvnZ"
      },
      "source": [
        "sent_analysis.dropna(subset =['review_text'],inplace = True)"
      ],
      "execution_count": 66,
      "outputs": []
    },
    {
      "cell_type": "code",
      "metadata": {
        "id": "TIhgk3OQMC3B"
      },
      "source": [
        "# copy review text to review list\n",
        "reviews_list = sent_analysis['review_text'].copy()\n"
      ],
      "execution_count": 67,
      "outputs": []
    },
    {
      "cell_type": "markdown",
      "metadata": {
        "id": "hIO1iTaA01Pt"
      },
      "source": [
        "### Adding polarity feature into sent_analysis data frame\n"
      ]
    },
    {
      "cell_type": "code",
      "metadata": {
        "id": "0cid37VHKKwJ"
      },
      "source": [
        "# Augment the dataset with the overall polarity score of the review, as obtained using VADER on the review level.\n",
        "reviews_polarity = []\n",
        "\n",
        "for i_review, review in enumerate(reviews_list):\n",
        "    # print('Review text:')\n",
        "    \n",
        "    #print(review)\n",
        "\n",
        "    review_polarity_scores = sid.polarity_scores(review)\n",
        "    review_polarity_score_compound = review_polarity_scores['compound']\n",
        "    \n",
        "    reviews_polarity.append(review_polarity_score_compound)"
      ],
      "execution_count": 68,
      "outputs": []
    },
    {
      "cell_type": "code",
      "metadata": {
        "id": "Q6YEXwLBPY0E"
      },
      "source": [
        "# Adding polarity feature into sent_analysis data frame\n",
        "sent_analysis['polarity'] = reviews_polarity\n"
      ],
      "execution_count": 69,
      "outputs": []
    },
    {
      "cell_type": "code",
      "metadata": {
        "id": "Bw3o9iOYPldE",
        "colab": {
          "base_uri": "https://localhost:8080/",
          "height": 484
        },
        "outputId": "835d95dd-8504-4b2c-f5a4-50f9ea33c70c"
      },
      "source": [
        "sent_analysis.head()"
      ],
      "execution_count": 70,
      "outputs": [
        {
          "output_type": "execute_result",
          "data": {
            "text/html": [
              "<div>\n",
              "<style scoped>\n",
              "    .dataframe tbody tr th:only-of-type {\n",
              "        vertical-align: middle;\n",
              "    }\n",
              "\n",
              "    .dataframe tbody tr th {\n",
              "        vertical-align: top;\n",
              "    }\n",
              "\n",
              "    .dataframe thead th {\n",
              "        text-align: right;\n",
              "    }\n",
              "</style>\n",
              "<table border=\"1\" class=\"dataframe\">\n",
              "  <thead>\n",
              "    <tr style=\"text-align: right;\">\n",
              "      <th></th>\n",
              "      <th>airline</th>\n",
              "      <th>review_score</th>\n",
              "      <th>review_date</th>\n",
              "      <th>review_text</th>\n",
              "      <th>seat_comfort</th>\n",
              "      <th>cabin_service</th>\n",
              "      <th>food_bev</th>\n",
              "      <th>entertainment</th>\n",
              "      <th>ground_service</th>\n",
              "      <th>value_for_money</th>\n",
              "      <th>recommended</th>\n",
              "      <th>Business</th>\n",
              "      <th>Couple Leisure</th>\n",
              "      <th>Family Leisure</th>\n",
              "      <th>Solo Leisure</th>\n",
              "      <th>Business Class</th>\n",
              "      <th>Economy Class</th>\n",
              "      <th>First Class</th>\n",
              "      <th>Premium Economy</th>\n",
              "      <th>pos_neg</th>\n",
              "      <th>review_date_day</th>\n",
              "      <th>review_date_month</th>\n",
              "      <th>review_date_year</th>\n",
              "      <th>polarity</th>\n",
              "    </tr>\n",
              "  </thead>\n",
              "  <tbody>\n",
              "    <tr>\n",
              "      <th>0</th>\n",
              "      <td>Turkish Airlines</td>\n",
              "      <td>7.0</td>\n",
              "      <td>2019-05-08</td>\n",
              "      <td>First time Iâ€™d flown TK. I found them very ...</td>\n",
              "      <td>8.0</td>\n",
              "      <td>10.0</td>\n",
              "      <td>8.0</td>\n",
              "      <td>8.0</td>\n",
              "      <td>4.0</td>\n",
              "      <td>8.0</td>\n",
              "      <td>yes</td>\n",
              "      <td>1</td>\n",
              "      <td>0</td>\n",
              "      <td>0</td>\n",
              "      <td>0</td>\n",
              "      <td>0</td>\n",
              "      <td>1</td>\n",
              "      <td>0</td>\n",
              "      <td>0</td>\n",
              "      <td>1</td>\n",
              "      <td>8</td>\n",
              "      <td>5</td>\n",
              "      <td>2019</td>\n",
              "      <td>0.9365</td>\n",
              "    </tr>\n",
              "    <tr>\n",
              "      <th>1</th>\n",
              "      <td>Turkish Airlines</td>\n",
              "      <td>2.0</td>\n",
              "      <td>2019-05-07</td>\n",
              "      <td>We make our check in in the airport, they Tak...</td>\n",
              "      <td>8.0</td>\n",
              "      <td>2.0</td>\n",
              "      <td>2.0</td>\n",
              "      <td>2.0</td>\n",
              "      <td>2.0</td>\n",
              "      <td>2.0</td>\n",
              "      <td>no</td>\n",
              "      <td>0</td>\n",
              "      <td>0</td>\n",
              "      <td>1</td>\n",
              "      <td>0</td>\n",
              "      <td>0</td>\n",
              "      <td>1</td>\n",
              "      <td>0</td>\n",
              "      <td>0</td>\n",
              "      <td>0</td>\n",
              "      <td>7</td>\n",
              "      <td>5</td>\n",
              "      <td>2019</td>\n",
              "      <td>0.2732</td>\n",
              "    </tr>\n",
              "    <tr>\n",
              "      <th>2</th>\n",
              "      <td>Turkish Airlines</td>\n",
              "      <td>3.0</td>\n",
              "      <td>2019-05-07</td>\n",
              "      <td>I flew with this company several times in the...</td>\n",
              "      <td>2.0</td>\n",
              "      <td>8.0</td>\n",
              "      <td>2.0</td>\n",
              "      <td>6.0</td>\n",
              "      <td>2.0</td>\n",
              "      <td>4.0</td>\n",
              "      <td>no</td>\n",
              "      <td>1</td>\n",
              "      <td>0</td>\n",
              "      <td>0</td>\n",
              "      <td>0</td>\n",
              "      <td>0</td>\n",
              "      <td>1</td>\n",
              "      <td>0</td>\n",
              "      <td>0</td>\n",
              "      <td>0</td>\n",
              "      <td>7</td>\n",
              "      <td>5</td>\n",
              "      <td>2019</td>\n",
              "      <td>-0.9483</td>\n",
              "    </tr>\n",
              "    <tr>\n",
              "      <th>3</th>\n",
              "      <td>Turkish Airlines</td>\n",
              "      <td>10.0</td>\n",
              "      <td>2019-05-06</td>\n",
              "      <td>Turkish Airlines has consistently maintained ...</td>\n",
              "      <td>8.0</td>\n",
              "      <td>10.0</td>\n",
              "      <td>10.0</td>\n",
              "      <td>10.0</td>\n",
              "      <td>10.0</td>\n",
              "      <td>10.0</td>\n",
              "      <td>yes</td>\n",
              "      <td>0</td>\n",
              "      <td>0</td>\n",
              "      <td>0</td>\n",
              "      <td>1</td>\n",
              "      <td>0</td>\n",
              "      <td>1</td>\n",
              "      <td>0</td>\n",
              "      <td>0</td>\n",
              "      <td>1</td>\n",
              "      <td>6</td>\n",
              "      <td>5</td>\n",
              "      <td>2019</td>\n",
              "      <td>0.9764</td>\n",
              "    </tr>\n",
              "    <tr>\n",
              "      <th>4</th>\n",
              "      <td>Turkish Airlines</td>\n",
              "      <td>1.0</td>\n",
              "      <td>2019-05-06</td>\n",
              "      <td>Never book Turkish airlines if you are travel...</td>\n",
              "      <td>2.0</td>\n",
              "      <td>2.0</td>\n",
              "      <td>2.0</td>\n",
              "      <td>2.0</td>\n",
              "      <td>2.0</td>\n",
              "      <td>2.0</td>\n",
              "      <td>no</td>\n",
              "      <td>0</td>\n",
              "      <td>0</td>\n",
              "      <td>0</td>\n",
              "      <td>1</td>\n",
              "      <td>0</td>\n",
              "      <td>1</td>\n",
              "      <td>0</td>\n",
              "      <td>0</td>\n",
              "      <td>0</td>\n",
              "      <td>6</td>\n",
              "      <td>5</td>\n",
              "      <td>2019</td>\n",
              "      <td>-0.7599</td>\n",
              "    </tr>\n",
              "  </tbody>\n",
              "</table>\n",
              "</div>"
            ],
            "text/plain": [
              "            airline  review_score  ... review_date_year polarity\n",
              "0  Turkish Airlines           7.0  ...             2019   0.9365\n",
              "1  Turkish Airlines           2.0  ...             2019   0.2732\n",
              "2  Turkish Airlines           3.0  ...             2019  -0.9483\n",
              "3  Turkish Airlines          10.0  ...             2019   0.9764\n",
              "4  Turkish Airlines           1.0  ...             2019  -0.7599\n",
              "\n",
              "[5 rows x 24 columns]"
            ]
          },
          "metadata": {
            "tags": []
          },
          "execution_count": 70
        }
      ]
    },
    {
      "cell_type": "code",
      "metadata": {
        "id": "rcr05FXKSEE5"
      },
      "source": [
        "# Mapping recommended column. Replacing yes with 1 and no with 0\n",
        "sent_analysis['recommended'] = sent_analysis['recommended'].map({'yes':1 ,'no':0})\n",
        "\n",
        "  "
      ],
      "execution_count": 71,
      "outputs": []
    },
    {
      "cell_type": "code",
      "metadata": {
        "id": "NPy25-roP7QB",
        "colab": {
          "base_uri": "https://localhost:8080/",
          "height": 301
        },
        "outputId": "12ad8bd3-e9a0-438c-cb1e-86d1bb3b6093"
      },
      "source": [
        "corr_values = sent_analysis[['polarity','pos_neg','recommended']].dropna(axis=0,how='any').corr()\n",
        "# Get heatmap of correlation matrix on the dataset\n",
        "plt.figure(figsize=(6,4))\n",
        "sns.heatmap(corr_values,annot = True)"
      ],
      "execution_count": 72,
      "outputs": [
        {
          "output_type": "execute_result",
          "data": {
            "text/plain": [
              "<matplotlib.axes._subplots.AxesSubplot at 0x7f6806d48550>"
            ]
          },
          "metadata": {
            "tags": []
          },
          "execution_count": 72
        },
        {
          "output_type": "display_data",
          "data": {
            "image/png": "[encoded data removed]",
            "text/plain": [
              "<Figure size 432x288 with 2 Axes>"
            ]
          },
          "metadata": {
            "tags": [],
            "needs_background": "light"
          }
        }
      ]
    },
    {
      "cell_type": "code",
      "metadata": {
        "id": "gQ1SWii6UBox",
        "colab": {
          "base_uri": "https://localhost:8080/",
          "height": 491
        },
        "outputId": "ce66c303-cc55-49ce-fd7c-96301ea3321c"
      },
      "source": [
        "plt.figure(figsize=(6,6))\n",
        "sns.distplot(sent_analysis[sent_analysis['recommended']== 1]['polarity'],hist=True,norm_hist=True,kde=False,label='recommended',bins=30)\n",
        "sns.distplot(sent_analysis[sent_analysis['recommended']== 0]['polarity'],hist=True,norm_hist=True,kde=False,label='not recommended',bins=30)\n",
        "plt.title('graph')\n",
        "plt.xlabel('polarity')\n",
        "plt.ylabel('bins')\n",
        "plt.grid(False)\n",
        "plt.legend(loc='best')\n",
        "#plt.savefig(filename)\n",
        "plt.show()"
      ],
      "execution_count": 73,
      "outputs": [
        {
          "output_type": "stream",
          "text": [
            "/usr/local/lib/python3.7/dist-packages/seaborn/distributions.py:2557: FutureWarning: `distplot` is a deprecated function and will be removed in a future version. Please adapt your code to use either `displot` (a figure-level function with similar flexibility) or `histplot` (an axes-level function for histograms).\n",
            "  warnings.warn(msg, FutureWarning)\n",
            "/usr/local/lib/python3.7/dist-packages/seaborn/distributions.py:2557: FutureWarning: `distplot` is a deprecated function and will be removed in a future version. Please adapt your code to use either `displot` (a figure-level function with similar flexibility) or `histplot` (an axes-level function for histograms).\n",
            "  warnings.warn(msg, FutureWarning)\n"
          ],
          "name": "stderr"
        },
        {
          "output_type": "display_data",
          "data": {
            "image/png": "[encoded data removed]",
            "text/plain": [
              "<Figure size 432x432 with 1 Axes>"
            ]
          },
          "metadata": {
            "tags": [],
            "needs_background": "light"
          }
        }
      ]
    },
    {
      "cell_type": "code",
      "metadata": {
        "id": "OlVOppUmZYCE",
        "colab": {
          "base_uri": "https://localhost:8080/",
          "height": 484
        },
        "outputId": "bad2e467-0e43-4bf9-e264-1760f98beb05"
      },
      "source": [
        "sent_analysis.head(5)"
      ],
      "execution_count": 74,
      "outputs": [
        {
          "output_type": "execute_result",
          "data": {
            "text/html": [
              "<div>\n",
              "<style scoped>\n",
              "    .dataframe tbody tr th:only-of-type {\n",
              "        vertical-align: middle;\n",
              "    }\n",
              "\n",
              "    .dataframe tbody tr th {\n",
              "        vertical-align: top;\n",
              "    }\n",
              "\n",
              "    .dataframe thead th {\n",
              "        text-align: right;\n",
              "    }\n",
              "</style>\n",
              "<table border=\"1\" class=\"dataframe\">\n",
              "  <thead>\n",
              "    <tr style=\"text-align: right;\">\n",
              "      <th></th>\n",
              "      <th>airline</th>\n",
              "      <th>review_score</th>\n",
              "      <th>review_date</th>\n",
              "      <th>review_text</th>\n",
              "      <th>seat_comfort</th>\n",
              "      <th>cabin_service</th>\n",
              "      <th>food_bev</th>\n",
              "      <th>entertainment</th>\n",
              "      <th>ground_service</th>\n",
              "      <th>value_for_money</th>\n",
              "      <th>recommended</th>\n",
              "      <th>Business</th>\n",
              "      <th>Couple Leisure</th>\n",
              "      <th>Family Leisure</th>\n",
              "      <th>Solo Leisure</th>\n",
              "      <th>Business Class</th>\n",
              "      <th>Economy Class</th>\n",
              "      <th>First Class</th>\n",
              "      <th>Premium Economy</th>\n",
              "      <th>pos_neg</th>\n",
              "      <th>review_date_day</th>\n",
              "      <th>review_date_month</th>\n",
              "      <th>review_date_year</th>\n",
              "      <th>polarity</th>\n",
              "    </tr>\n",
              "  </thead>\n",
              "  <tbody>\n",
              "    <tr>\n",
              "      <th>0</th>\n",
              "      <td>Turkish Airlines</td>\n",
              "      <td>7.0</td>\n",
              "      <td>2019-05-08</td>\n",
              "      <td>First time Iâ€™d flown TK. I found them very ...</td>\n",
              "      <td>8.0</td>\n",
              "      <td>10.0</td>\n",
              "      <td>8.0</td>\n",
              "      <td>8.0</td>\n",
              "      <td>4.0</td>\n",
              "      <td>8.0</td>\n",
              "      <td>1.0</td>\n",
              "      <td>1</td>\n",
              "      <td>0</td>\n",
              "      <td>0</td>\n",
              "      <td>0</td>\n",
              "      <td>0</td>\n",
              "      <td>1</td>\n",
              "      <td>0</td>\n",
              "      <td>0</td>\n",
              "      <td>1</td>\n",
              "      <td>8</td>\n",
              "      <td>5</td>\n",
              "      <td>2019</td>\n",
              "      <td>0.9365</td>\n",
              "    </tr>\n",
              "    <tr>\n",
              "      <th>1</th>\n",
              "      <td>Turkish Airlines</td>\n",
              "      <td>2.0</td>\n",
              "      <td>2019-05-07</td>\n",
              "      <td>We make our check in in the airport, they Tak...</td>\n",
              "      <td>8.0</td>\n",
              "      <td>2.0</td>\n",
              "      <td>2.0</td>\n",
              "      <td>2.0</td>\n",
              "      <td>2.0</td>\n",
              "      <td>2.0</td>\n",
              "      <td>0.0</td>\n",
              "      <td>0</td>\n",
              "      <td>0</td>\n",
              "      <td>1</td>\n",
              "      <td>0</td>\n",
              "      <td>0</td>\n",
              "      <td>1</td>\n",
              "      <td>0</td>\n",
              "      <td>0</td>\n",
              "      <td>0</td>\n",
              "      <td>7</td>\n",
              "      <td>5</td>\n",
              "      <td>2019</td>\n",
              "      <td>0.2732</td>\n",
              "    </tr>\n",
              "    <tr>\n",
              "      <th>2</th>\n",
              "      <td>Turkish Airlines</td>\n",
              "      <td>3.0</td>\n",
              "      <td>2019-05-07</td>\n",
              "      <td>I flew with this company several times in the...</td>\n",
              "      <td>2.0</td>\n",
              "      <td>8.0</td>\n",
              "      <td>2.0</td>\n",
              "      <td>6.0</td>\n",
              "      <td>2.0</td>\n",
              "      <td>4.0</td>\n",
              "      <td>0.0</td>\n",
              "      <td>1</td>\n",
              "      <td>0</td>\n",
              "      <td>0</td>\n",
              "      <td>0</td>\n",
              "      <td>0</td>\n",
              "      <td>1</td>\n",
              "      <td>0</td>\n",
              "      <td>0</td>\n",
              "      <td>0</td>\n",
              "      <td>7</td>\n",
              "      <td>5</td>\n",
              "      <td>2019</td>\n",
              "      <td>-0.9483</td>\n",
              "    </tr>\n",
              "    <tr>\n",
              "      <th>3</th>\n",
              "      <td>Turkish Airlines</td>\n",
              "      <td>10.0</td>\n",
              "      <td>2019-05-06</td>\n",
              "      <td>Turkish Airlines has consistently maintained ...</td>\n",
              "      <td>8.0</td>\n",
              "      <td>10.0</td>\n",
              "      <td>10.0</td>\n",
              "      <td>10.0</td>\n",
              "      <td>10.0</td>\n",
              "      <td>10.0</td>\n",
              "      <td>1.0</td>\n",
              "      <td>0</td>\n",
              "      <td>0</td>\n",
              "      <td>0</td>\n",
              "      <td>1</td>\n",
              "      <td>0</td>\n",
              "      <td>1</td>\n",
              "      <td>0</td>\n",
              "      <td>0</td>\n",
              "      <td>1</td>\n",
              "      <td>6</td>\n",
              "      <td>5</td>\n",
              "      <td>2019</td>\n",
              "      <td>0.9764</td>\n",
              "    </tr>\n",
              "    <tr>\n",
              "      <th>4</th>\n",
              "      <td>Turkish Airlines</td>\n",
              "      <td>1.0</td>\n",
              "      <td>2019-05-06</td>\n",
              "      <td>Never book Turkish airlines if you are travel...</td>\n",
              "      <td>2.0</td>\n",
              "      <td>2.0</td>\n",
              "      <td>2.0</td>\n",
              "      <td>2.0</td>\n",
              "      <td>2.0</td>\n",
              "      <td>2.0</td>\n",
              "      <td>0.0</td>\n",
              "      <td>0</td>\n",
              "      <td>0</td>\n",
              "      <td>0</td>\n",
              "      <td>1</td>\n",
              "      <td>0</td>\n",
              "      <td>1</td>\n",
              "      <td>0</td>\n",
              "      <td>0</td>\n",
              "      <td>0</td>\n",
              "      <td>6</td>\n",
              "      <td>5</td>\n",
              "      <td>2019</td>\n",
              "      <td>-0.7599</td>\n",
              "    </tr>\n",
              "  </tbody>\n",
              "</table>\n",
              "</div>"
            ],
            "text/plain": [
              "            airline  review_score  ... review_date_year polarity\n",
              "0  Turkish Airlines           7.0  ...             2019   0.9365\n",
              "1  Turkish Airlines           2.0  ...             2019   0.2732\n",
              "2  Turkish Airlines           3.0  ...             2019  -0.9483\n",
              "3  Turkish Airlines          10.0  ...             2019   0.9764\n",
              "4  Turkish Airlines           1.0  ...             2019  -0.7599\n",
              "\n",
              "[5 rows x 24 columns]"
            ]
          },
          "metadata": {
            "tags": []
          },
          "execution_count": 74
        }
      ]
    },
    {
      "cell_type": "markdown",
      "metadata": {
        "id": "PYRlYOLY2eHM"
      },
      "source": [
        "Based on the we are able to see that polarity ranged from -1 to +1. polarity values greater than 0.7 mostly considered to be recommended else it is mostly not recommended"
      ]
    },
    {
      "cell_type": "markdown",
      "metadata": {
        "id": "7jSdu9-qwOqH"
      },
      "source": [
        "rec_nonrec - Feature based on polarity score. In this feature if score is <= 0.7 it a negative sentiment and filled with zero and if the score is  >0.7 it is a positive sentiment and filled with one."
      ]
    },
    {
      "cell_type": "code",
      "metadata": {
        "id": "HZ0T3_5l2WCe"
      },
      "source": [
        "# classifying the polarity into one of the 2 categories: Positive, Negative \n",
        "def classify_polarity_score(df):\n",
        "    rec_nonrec = None\n",
        "    if (df['polarity'] <= 0.7):\n",
        "      rec_nonrec = 0\n",
        "    else:\n",
        "      rec_nonrec = 1\n",
        "    return rec_nonrec\n"
      ],
      "execution_count": 75,
      "outputs": []
    },
    {
      "cell_type": "code",
      "metadata": {
        "id": "ZEWTXvB53Deu"
      },
      "source": [
        "sent_analysis['rec_nonrec'] = sent_analysis.apply(lambda x: classify_polarity_score(x),axis=1)\n"
      ],
      "execution_count": 76,
      "outputs": []
    },
    {
      "cell_type": "code",
      "metadata": {
        "id": "m2UmDwVi3ltC",
        "colab": {
          "base_uri": "https://localhost:8080/",
          "height": 244
        },
        "outputId": "995e3df7-d252-4b6b-9d96-011bb3b33fac"
      },
      "source": [
        "sent_analysis.head(2)"
      ],
      "execution_count": 77,
      "outputs": [
        {
          "output_type": "execute_result",
          "data": {
            "text/html": [
              "<div>\n",
              "<style scoped>\n",
              "    .dataframe tbody tr th:only-of-type {\n",
              "        vertical-align: middle;\n",
              "    }\n",
              "\n",
              "    .dataframe tbody tr th {\n",
              "        vertical-align: top;\n",
              "    }\n",
              "\n",
              "    .dataframe thead th {\n",
              "        text-align: right;\n",
              "    }\n",
              "</style>\n",
              "<table border=\"1\" class=\"dataframe\">\n",
              "  <thead>\n",
              "    <tr style=\"text-align: right;\">\n",
              "      <th></th>\n",
              "      <th>airline</th>\n",
              "      <th>review_score</th>\n",
              "      <th>review_date</th>\n",
              "      <th>review_text</th>\n",
              "      <th>seat_comfort</th>\n",
              "      <th>cabin_service</th>\n",
              "      <th>food_bev</th>\n",
              "      <th>entertainment</th>\n",
              "      <th>ground_service</th>\n",
              "      <th>value_for_money</th>\n",
              "      <th>recommended</th>\n",
              "      <th>Business</th>\n",
              "      <th>Couple Leisure</th>\n",
              "      <th>Family Leisure</th>\n",
              "      <th>Solo Leisure</th>\n",
              "      <th>Business Class</th>\n",
              "      <th>Economy Class</th>\n",
              "      <th>First Class</th>\n",
              "      <th>Premium Economy</th>\n",
              "      <th>pos_neg</th>\n",
              "      <th>review_date_day</th>\n",
              "      <th>review_date_month</th>\n",
              "      <th>review_date_year</th>\n",
              "      <th>polarity</th>\n",
              "      <th>rec_nonrec</th>\n",
              "    </tr>\n",
              "  </thead>\n",
              "  <tbody>\n",
              "    <tr>\n",
              "      <th>0</th>\n",
              "      <td>Turkish Airlines</td>\n",
              "      <td>7.0</td>\n",
              "      <td>2019-05-08</td>\n",
              "      <td>First time Iâ€™d flown TK. I found them very ...</td>\n",
              "      <td>8.0</td>\n",
              "      <td>10.0</td>\n",
              "      <td>8.0</td>\n",
              "      <td>8.0</td>\n",
              "      <td>4.0</td>\n",
              "      <td>8.0</td>\n",
              "      <td>1.0</td>\n",
              "      <td>1</td>\n",
              "      <td>0</td>\n",
              "      <td>0</td>\n",
              "      <td>0</td>\n",
              "      <td>0</td>\n",
              "      <td>1</td>\n",
              "      <td>0</td>\n",
              "      <td>0</td>\n",
              "      <td>1</td>\n",
              "      <td>8</td>\n",
              "      <td>5</td>\n",
              "      <td>2019</td>\n",
              "      <td>0.9365</td>\n",
              "      <td>1</td>\n",
              "    </tr>\n",
              "    <tr>\n",
              "      <th>1</th>\n",
              "      <td>Turkish Airlines</td>\n",
              "      <td>2.0</td>\n",
              "      <td>2019-05-07</td>\n",
              "      <td>We make our check in in the airport, they Tak...</td>\n",
              "      <td>8.0</td>\n",
              "      <td>2.0</td>\n",
              "      <td>2.0</td>\n",
              "      <td>2.0</td>\n",
              "      <td>2.0</td>\n",
              "      <td>2.0</td>\n",
              "      <td>0.0</td>\n",
              "      <td>0</td>\n",
              "      <td>0</td>\n",
              "      <td>1</td>\n",
              "      <td>0</td>\n",
              "      <td>0</td>\n",
              "      <td>1</td>\n",
              "      <td>0</td>\n",
              "      <td>0</td>\n",
              "      <td>0</td>\n",
              "      <td>7</td>\n",
              "      <td>5</td>\n",
              "      <td>2019</td>\n",
              "      <td>0.2732</td>\n",
              "      <td>0</td>\n",
              "    </tr>\n",
              "  </tbody>\n",
              "</table>\n",
              "</div>"
            ],
            "text/plain": [
              "            airline  review_score  ... polarity rec_nonrec\n",
              "0  Turkish Airlines           7.0  ...   0.9365          1\n",
              "1  Turkish Airlines           2.0  ...   0.2732          0\n",
              "\n",
              "[2 rows x 25 columns]"
            ]
          },
          "metadata": {
            "tags": []
          },
          "execution_count": 77
        }
      ]
    },
    {
      "cell_type": "code",
      "metadata": {
        "id": "lxm1WXw7D30I",
        "colab": {
          "base_uri": "https://localhost:8080/",
          "height": 411
        },
        "outputId": "99274445-5de6-4ad1-b3a1-bc53a9be5eb1"
      },
      "source": [
        "# Plot showing relation between pos_neg and recommended feature\n",
        "x = sent_analysis.groupby([sent_analysis['recommended']])\n",
        "x['pos_neg'].value_counts().unstack().plot(kind= 'bar', figsize=(12,6))\n"
      ],
      "execution_count": 78,
      "outputs": [
        {
          "output_type": "execute_result",
          "data": {
            "text/plain": [
              "<matplotlib.axes._subplots.AxesSubplot at 0x7f680ae47b10>"
            ]
          },
          "metadata": {
            "tags": []
          },
          "execution_count": 78
        },
        {
          "output_type": "display_data",
          "data": {
            "image/png": "[encoded data removed]",
            "text/plain": [
              "<Figure size 864x432 with 1 Axes>"
            ]
          },
          "metadata": {
            "tags": [],
            "needs_background": "light"
          }
        }
      ]
    },
    {
      "cell_type": "code",
      "metadata": {
        "id": "ZT-uoKzVEICI",
        "colab": {
          "base_uri": "https://localhost:8080/",
          "height": 411
        },
        "outputId": "d8ffdeaa-3c84-4e58-9e6e-c5a312ac5cc2"
      },
      "source": [
        "# Plot showing relation between rec_nonrec and recommended feature\n",
        "x = sent_analysis.groupby([sent_analysis['recommended']])\n",
        "x['rec_nonrec'].value_counts().unstack().plot(kind= 'bar', figsize=(12,6))\n"
      ],
      "execution_count": 79,
      "outputs": [
        {
          "output_type": "execute_result",
          "data": {
            "text/plain": [
              "<matplotlib.axes._subplots.AxesSubplot at 0x7f6806d6d490>"
            ]
          },
          "metadata": {
            "tags": []
          },
          "execution_count": 79
        },
        {
          "output_type": "display_data",
          "data": {
            "image/png": "[encoded data removed]",
            "text/plain": [
              "<Figure size 864x432 with 1 Axes>"
            ]
          },
          "metadata": {
            "tags": [],
            "needs_background": "light"
          }
        }
      ]
    },
    {
      "cell_type": "markdown",
      "metadata": {
        "id": "lil1TFCpzLCD"
      },
      "source": [
        "From the above two plots we can infere how much percentage of classes will get cross filled if recommended column is filled with those features"
      ]
    },
    {
      "cell_type": "code",
      "metadata": {
        "id": "V7A3oWm8KqHI",
        "colab": {
          "base_uri": "https://localhost:8080/",
          "height": 278
        },
        "outputId": "45187f9f-9467-4969-fd8c-2de3823c05a2"
      },
      "source": [
        "mask_differents = sent_analysis.pos_neg != sent_analysis.rec_nonrec\n",
        "differences = sent_analysis[mask_differents]\n",
        "print('There are {:.2%} different values between review score sentiment and Compound Sentiment'.format(differences.shape[0] / sent_analysis.shape[0]))\n",
        "print('No of rows with different values:',differences.shape[0])\n",
        "differences.sample(2)"
      ],
      "execution_count": 80,
      "outputs": [
        {
          "output_type": "stream",
          "text": [
            "There are 18.47% different values between review score sentiment and Compound Sentiment\n",
            "No of rows with different values: 11264\n"
          ],
          "name": "stdout"
        },
        {
          "output_type": "execute_result",
          "data": {
            "text/html": [
              "<div>\n",
              "<style scoped>\n",
              "    .dataframe tbody tr th:only-of-type {\n",
              "        vertical-align: middle;\n",
              "    }\n",
              "\n",
              "    .dataframe tbody tr th {\n",
              "        vertical-align: top;\n",
              "    }\n",
              "\n",
              "    .dataframe thead th {\n",
              "        text-align: right;\n",
              "    }\n",
              "</style>\n",
              "<table border=\"1\" class=\"dataframe\">\n",
              "  <thead>\n",
              "    <tr style=\"text-align: right;\">\n",
              "      <th></th>\n",
              "      <th>airline</th>\n",
              "      <th>review_score</th>\n",
              "      <th>review_date</th>\n",
              "      <th>review_text</th>\n",
              "      <th>seat_comfort</th>\n",
              "      <th>cabin_service</th>\n",
              "      <th>food_bev</th>\n",
              "      <th>entertainment</th>\n",
              "      <th>ground_service</th>\n",
              "      <th>value_for_money</th>\n",
              "      <th>recommended</th>\n",
              "      <th>Business</th>\n",
              "      <th>Couple Leisure</th>\n",
              "      <th>Family Leisure</th>\n",
              "      <th>Solo Leisure</th>\n",
              "      <th>Business Class</th>\n",
              "      <th>Economy Class</th>\n",
              "      <th>First Class</th>\n",
              "      <th>Premium Economy</th>\n",
              "      <th>pos_neg</th>\n",
              "      <th>review_date_day</th>\n",
              "      <th>review_date_month</th>\n",
              "      <th>review_date_year</th>\n",
              "      <th>polarity</th>\n",
              "      <th>rec_nonrec</th>\n",
              "    </tr>\n",
              "  </thead>\n",
              "  <tbody>\n",
              "    <tr>\n",
              "      <th>23676</th>\n",
              "      <td>British Airways</td>\n",
              "      <td>2.0</td>\n",
              "      <td>2015-10-07</td>\n",
              "      <td>Aircraft was a Boeing 777, excellent plane. C...</td>\n",
              "      <td>6.0</td>\n",
              "      <td>8.0</td>\n",
              "      <td>8.0</td>\n",
              "      <td>6.0</td>\n",
              "      <td>6.0</td>\n",
              "      <td>4.0</td>\n",
              "      <td>0.0</td>\n",
              "      <td>0</td>\n",
              "      <td>1</td>\n",
              "      <td>0</td>\n",
              "      <td>0</td>\n",
              "      <td>0</td>\n",
              "      <td>0</td>\n",
              "      <td>0</td>\n",
              "      <td>1</td>\n",
              "      <td>0</td>\n",
              "      <td>7</td>\n",
              "      <td>10</td>\n",
              "      <td>2015</td>\n",
              "      <td>0.9482</td>\n",
              "      <td>1</td>\n",
              "    </tr>\n",
              "    <tr>\n",
              "      <th>5832</th>\n",
              "      <td>Lufthansa</td>\n",
              "      <td>9.0</td>\n",
              "      <td>2014-06-13</td>\n",
              "      <td>Fasten seatbelt sign turned off five minutes ...</td>\n",
              "      <td>8.0</td>\n",
              "      <td>10.0</td>\n",
              "      <td>10.0</td>\n",
              "      <td>8.0</td>\n",
              "      <td>9.0</td>\n",
              "      <td>10.0</td>\n",
              "      <td>1.0</td>\n",
              "      <td>0</td>\n",
              "      <td>0</td>\n",
              "      <td>0</td>\n",
              "      <td>0</td>\n",
              "      <td>0</td>\n",
              "      <td>1</td>\n",
              "      <td>0</td>\n",
              "      <td>0</td>\n",
              "      <td>1</td>\n",
              "      <td>13</td>\n",
              "      <td>6</td>\n",
              "      <td>2014</td>\n",
              "      <td>0.0455</td>\n",
              "      <td>0</td>\n",
              "    </tr>\n",
              "  </tbody>\n",
              "</table>\n",
              "</div>"
            ],
            "text/plain": [
              "               airline  review_score  ... polarity rec_nonrec\n",
              "23676  British Airways           2.0  ...   0.9482          1\n",
              "5832         Lufthansa           9.0  ...   0.0455          0\n",
              "\n",
              "[2 rows x 25 columns]"
            ]
          },
          "metadata": {
            "tags": []
          },
          "execution_count": 80
        }
      ]
    },
    {
      "cell_type": "code",
      "metadata": {
        "id": "psbtxH_FNwJP",
        "colab": {
          "base_uri": "https://localhost:8080/",
          "height": 278
        },
        "outputId": "762567ef-1cfc-4e51-b9fd-b2970841d98c"
      },
      "source": [
        "mask_differents_rev_rec = sent_analysis.pos_neg != sent_analysis.recommended\n",
        "differences_rev_rec = sent_analysis[mask_differents_rev_rec]\n",
        "print('There are {:.2%} different values between review score sentiment and Compound Sentiment'.format(differences_rev_rec.shape[0] / sent_analysis.shape[0]))\n",
        "print('No of rows with different values:',differences_rev_rec.shape[0])\n",
        "differences.sample(2)"
      ],
      "execution_count": 81,
      "outputs": [
        {
          "output_type": "stream",
          "text": [
            "There are 6.80% different values between review score sentiment and Compound Sentiment\n",
            "No of rows with different values: 4147\n"
          ],
          "name": "stdout"
        },
        {
          "output_type": "execute_result",
          "data": {
            "text/html": [
              "<div>\n",
              "<style scoped>\n",
              "    .dataframe tbody tr th:only-of-type {\n",
              "        vertical-align: middle;\n",
              "    }\n",
              "\n",
              "    .dataframe tbody tr th {\n",
              "        vertical-align: top;\n",
              "    }\n",
              "\n",
              "    .dataframe thead th {\n",
              "        text-align: right;\n",
              "    }\n",
              "</style>\n",
              "<table border=\"1\" class=\"dataframe\">\n",
              "  <thead>\n",
              "    <tr style=\"text-align: right;\">\n",
              "      <th></th>\n",
              "      <th>airline</th>\n",
              "      <th>review_score</th>\n",
              "      <th>review_date</th>\n",
              "      <th>review_text</th>\n",
              "      <th>seat_comfort</th>\n",
              "      <th>cabin_service</th>\n",
              "      <th>food_bev</th>\n",
              "      <th>entertainment</th>\n",
              "      <th>ground_service</th>\n",
              "      <th>value_for_money</th>\n",
              "      <th>recommended</th>\n",
              "      <th>Business</th>\n",
              "      <th>Couple Leisure</th>\n",
              "      <th>Family Leisure</th>\n",
              "      <th>Solo Leisure</th>\n",
              "      <th>Business Class</th>\n",
              "      <th>Economy Class</th>\n",
              "      <th>First Class</th>\n",
              "      <th>Premium Economy</th>\n",
              "      <th>pos_neg</th>\n",
              "      <th>review_date_day</th>\n",
              "      <th>review_date_month</th>\n",
              "      <th>review_date_year</th>\n",
              "      <th>polarity</th>\n",
              "      <th>rec_nonrec</th>\n",
              "    </tr>\n",
              "  </thead>\n",
              "  <tbody>\n",
              "    <tr>\n",
              "      <th>58851</th>\n",
              "      <td>Norwegian</td>\n",
              "      <td>4.0</td>\n",
              "      <td>2017-03-26</td>\n",
              "      <td>New planes, cheap prices and friendly staff, ...</td>\n",
              "      <td>8.0</td>\n",
              "      <td>8.0</td>\n",
              "      <td>6.0</td>\n",
              "      <td>4.0</td>\n",
              "      <td>4.0</td>\n",
              "      <td>6.0</td>\n",
              "      <td>1.0</td>\n",
              "      <td>1</td>\n",
              "      <td>0</td>\n",
              "      <td>0</td>\n",
              "      <td>0</td>\n",
              "      <td>0</td>\n",
              "      <td>1</td>\n",
              "      <td>0</td>\n",
              "      <td>0</td>\n",
              "      <td>0</td>\n",
              "      <td>26</td>\n",
              "      <td>3</td>\n",
              "      <td>2017</td>\n",
              "      <td>0.7149</td>\n",
              "      <td>1</td>\n",
              "    </tr>\n",
              "    <tr>\n",
              "      <th>21838</th>\n",
              "      <td>Austrian Airlines</td>\n",
              "      <td>9.0</td>\n",
              "      <td>2012-10-04</td>\n",
              "      <td>Efficient and very quick check-in and securit...</td>\n",
              "      <td>8.0</td>\n",
              "      <td>10.0</td>\n",
              "      <td>8.0</td>\n",
              "      <td>9.0</td>\n",
              "      <td>9.0</td>\n",
              "      <td>8.0</td>\n",
              "      <td>1.0</td>\n",
              "      <td>0</td>\n",
              "      <td>0</td>\n",
              "      <td>0</td>\n",
              "      <td>0</td>\n",
              "      <td>0</td>\n",
              "      <td>1</td>\n",
              "      <td>0</td>\n",
              "      <td>0</td>\n",
              "      <td>1</td>\n",
              "      <td>4</td>\n",
              "      <td>10</td>\n",
              "      <td>2012</td>\n",
              "      <td>0.5719</td>\n",
              "      <td>0</td>\n",
              "    </tr>\n",
              "  </tbody>\n",
              "</table>\n",
              "</div>"
            ],
            "text/plain": [
              "                 airline  review_score  ... polarity rec_nonrec\n",
              "58851          Norwegian           4.0  ...   0.7149          1\n",
              "21838  Austrian Airlines           9.0  ...   0.5719          0\n",
              "\n",
              "[2 rows x 25 columns]"
            ]
          },
          "metadata": {
            "tags": []
          },
          "execution_count": 81
        }
      ]
    },
    {
      "cell_type": "code",
      "metadata": {
        "id": "vPo5uHeFMiX0",
        "colab": {
          "base_uri": "https://localhost:8080/",
          "height": 311
        },
        "outputId": "dfcab801-fed5-44a4-ae77-111d0916e485"
      },
      "source": [
        "mask_differents_rev_rec = sent_analysis.rec_nonrec != sent_analysis.recommended\n",
        "differences_rev_rec = sent_analysis[mask_differents_rev_rec]\n",
        "print('There are {:.2%} different values between review score sentiment and Compound Sentiment'.format(differences_rev_rec.shape[0] / sent_analysis.shape[0]))\n",
        "print('No of rows with different values:',differences_rev_rec.shape[0])\n",
        "differences.sample(2)"
      ],
      "execution_count": 82,
      "outputs": [
        {
          "output_type": "stream",
          "text": [
            "There are 20.07% different values between review score sentiment and Compound Sentiment\n",
            "No of rows with different values: 12235\n"
          ],
          "name": "stdout"
        },
        {
          "output_type": "execute_result",
          "data": {
            "text/html": [
              "<div>\n",
              "<style scoped>\n",
              "    .dataframe tbody tr th:only-of-type {\n",
              "        vertical-align: middle;\n",
              "    }\n",
              "\n",
              "    .dataframe tbody tr th {\n",
              "        vertical-align: top;\n",
              "    }\n",
              "\n",
              "    .dataframe thead th {\n",
              "        text-align: right;\n",
              "    }\n",
              "</style>\n",
              "<table border=\"1\" class=\"dataframe\">\n",
              "  <thead>\n",
              "    <tr style=\"text-align: right;\">\n",
              "      <th></th>\n",
              "      <th>airline</th>\n",
              "      <th>review_score</th>\n",
              "      <th>review_date</th>\n",
              "      <th>review_text</th>\n",
              "      <th>seat_comfort</th>\n",
              "      <th>cabin_service</th>\n",
              "      <th>food_bev</th>\n",
              "      <th>entertainment</th>\n",
              "      <th>ground_service</th>\n",
              "      <th>value_for_money</th>\n",
              "      <th>recommended</th>\n",
              "      <th>Business</th>\n",
              "      <th>Couple Leisure</th>\n",
              "      <th>Family Leisure</th>\n",
              "      <th>Solo Leisure</th>\n",
              "      <th>Business Class</th>\n",
              "      <th>Economy Class</th>\n",
              "      <th>First Class</th>\n",
              "      <th>Premium Economy</th>\n",
              "      <th>pos_neg</th>\n",
              "      <th>review_date_day</th>\n",
              "      <th>review_date_month</th>\n",
              "      <th>review_date_year</th>\n",
              "      <th>polarity</th>\n",
              "      <th>rec_nonrec</th>\n",
              "    </tr>\n",
              "  </thead>\n",
              "  <tbody>\n",
              "    <tr>\n",
              "      <th>17276</th>\n",
              "      <td>Aeromexico</td>\n",
              "      <td>6.0</td>\n",
              "      <td>2016-01-06</td>\n",
              "      <td>They postponed several times and left late. W...</td>\n",
              "      <td>8.0</td>\n",
              "      <td>6.0</td>\n",
              "      <td>6.0</td>\n",
              "      <td>8.0</td>\n",
              "      <td>4.0</td>\n",
              "      <td>4.0</td>\n",
              "      <td>0.0</td>\n",
              "      <td>0</td>\n",
              "      <td>1</td>\n",
              "      <td>0</td>\n",
              "      <td>0</td>\n",
              "      <td>0</td>\n",
              "      <td>0</td>\n",
              "      <td>0</td>\n",
              "      <td>1</td>\n",
              "      <td>1</td>\n",
              "      <td>6</td>\n",
              "      <td>1</td>\n",
              "      <td>2016</td>\n",
              "      <td>-0.3292</td>\n",
              "      <td>0</td>\n",
              "    </tr>\n",
              "    <tr>\n",
              "      <th>43413</th>\n",
              "      <td>Thai Airways</td>\n",
              "      <td>3.0</td>\n",
              "      <td>2014-03-11</td>\n",
              "      <td>No smiles on this flight zero entertainment r...</td>\n",
              "      <td>2.0</td>\n",
              "      <td>2.0</td>\n",
              "      <td>2.0</td>\n",
              "      <td>2.0</td>\n",
              "      <td>3.0</td>\n",
              "      <td>2.0</td>\n",
              "      <td>0.0</td>\n",
              "      <td>0</td>\n",
              "      <td>0</td>\n",
              "      <td>0</td>\n",
              "      <td>0</td>\n",
              "      <td>0</td>\n",
              "      <td>1</td>\n",
              "      <td>0</td>\n",
              "      <td>0</td>\n",
              "      <td>0</td>\n",
              "      <td>11</td>\n",
              "      <td>3</td>\n",
              "      <td>2014</td>\n",
              "      <td>0.8043</td>\n",
              "      <td>1</td>\n",
              "    </tr>\n",
              "  </tbody>\n",
              "</table>\n",
              "</div>"
            ],
            "text/plain": [
              "            airline  review_score  ... polarity rec_nonrec\n",
              "17276    Aeromexico           6.0  ...  -0.3292          0\n",
              "43413  Thai Airways           3.0  ...   0.8043          1\n",
              "\n",
              "[2 rows x 25 columns]"
            ]
          },
          "metadata": {
            "tags": []
          },
          "execution_count": 82
        }
      ]
    },
    {
      "cell_type": "code",
      "metadata": {
        "id": "-QtCRn72T53B",
        "colab": {
          "base_uri": "https://localhost:8080/",
          "height": 373
        },
        "outputId": "5b11610d-8632-426a-abd9-23b982f756e5"
      },
      "source": [
        "# Total Reviews word cloud\n",
        "# Import all necesary libraries\n",
        "from wordcloud import  WordCloud, STOPWORDS, ImageColorGenerator\n",
        " \n",
        "# Get stopwords from wordcloud library\n",
        "stopwords = set(STOPWORDS)\n",
        " \n",
        "# Add some extra words ad hoc for our purpose\n",
        "words_ = ['even','given','flight','found','asked','will','now','got','although','one']\n",
        "stopwords.update(words_)\n",
        " \n",
        "# join all reviews\n",
        "text = \" \".join(review for review in sent_analysis.review_text)\n",
        " \n",
        "# Generate the image\n",
        "wordcloud = WordCloud(stopwords=stopwords, background_color=\"white\", max_words=50).generate(text)\n",
        "\n",
        "# visualize the image \n",
        "fig=plt.figure(figsize=(12, 6))\n",
        "plt.imshow(wordcloud, interpolation='bilinear')\n",
        "plt.axis(\"off\")\n",
        "plt.title('Total Reviews Word Cloud')\n",
        "\n",
        "plt.show()"
      ],
      "execution_count": 83,
      "outputs": [
        {
          "output_type": "display_data",
          "data": {
            "image/png": "[encoded data removed]",
            "text/plain": [
              "<Figure size 864x432 with 1 Axes>"
            ]
          },
          "metadata": {
            "tags": [],
            "needs_background": "light"
          }
        }
      ]
    },
    {
      "cell_type": "markdown",
      "metadata": {
        "id": "wrEDjeHDWIlx"
      },
      "source": [
        "From the word cloud we are able to see that the customer in the review is talking about cabin crew, customer service, business class, issues and problems."
      ]
    },
    {
      "cell_type": "code",
      "metadata": {
        "id": "KjD9A2IGyQXE",
        "colab": {
          "base_uri": "https://localhost:8080/"
        },
        "outputId": "ee25e480-a5ef-4b2e-d5d4-53d3dfce69b5"
      },
      "source": [
        "sent_analysis.isnull().sum()"
      ],
      "execution_count": 84,
      "outputs": [
        {
          "output_type": "execute_result",
          "data": {
            "text/plain": [
              "airline                 0\n",
              "review_score            0\n",
              "review_date             0\n",
              "review_text             0\n",
              "seat_comfort            0\n",
              "cabin_service           0\n",
              "food_bev                0\n",
              "entertainment           0\n",
              "ground_service          0\n",
              "value_for_money         0\n",
              "recommended          1357\n",
              "Business                0\n",
              "Couple Leisure          0\n",
              "Family Leisure          0\n",
              "Solo Leisure            0\n",
              "Business Class          0\n",
              "Economy Class           0\n",
              "First Class             0\n",
              "Premium Economy         0\n",
              "pos_neg                 0\n",
              "review_date_day         0\n",
              "review_date_month       0\n",
              "review_date_year        0\n",
              "polarity                0\n",
              "rec_nonrec              0\n",
              "dtype: int64"
            ]
          },
          "metadata": {
            "tags": []
          },
          "execution_count": 84
        }
      ]
    },
    {
      "cell_type": "code",
      "metadata": {
        "id": "dBSvqB9LyJVO"
      },
      "source": [
        "sent_analysis.dropna(how= 'any', inplace = True)"
      ],
      "execution_count": 85,
      "outputs": []
    },
    {
      "cell_type": "code",
      "metadata": {
        "id": "oe_7DnAayw3_",
        "colab": {
          "base_uri": "https://localhost:8080/",
          "height": 244
        },
        "outputId": "ec623280-c3b3-4871-dd06-7b2fa8e21a2d"
      },
      "source": [
        "sent_analysis.head(2)"
      ],
      "execution_count": 86,
      "outputs": [
        {
          "output_type": "execute_result",
          "data": {
            "text/html": [
              "<div>\n",
              "<style scoped>\n",
              "    .dataframe tbody tr th:only-of-type {\n",
              "        vertical-align: middle;\n",
              "    }\n",
              "\n",
              "    .dataframe tbody tr th {\n",
              "        vertical-align: top;\n",
              "    }\n",
              "\n",
              "    .dataframe thead th {\n",
              "        text-align: right;\n",
              "    }\n",
              "</style>\n",
              "<table border=\"1\" class=\"dataframe\">\n",
              "  <thead>\n",
              "    <tr style=\"text-align: right;\">\n",
              "      <th></th>\n",
              "      <th>airline</th>\n",
              "      <th>review_score</th>\n",
              "      <th>review_date</th>\n",
              "      <th>review_text</th>\n",
              "      <th>seat_comfort</th>\n",
              "      <th>cabin_service</th>\n",
              "      <th>food_bev</th>\n",
              "      <th>entertainment</th>\n",
              "      <th>ground_service</th>\n",
              "      <th>value_for_money</th>\n",
              "      <th>recommended</th>\n",
              "      <th>Business</th>\n",
              "      <th>Couple Leisure</th>\n",
              "      <th>Family Leisure</th>\n",
              "      <th>Solo Leisure</th>\n",
              "      <th>Business Class</th>\n",
              "      <th>Economy Class</th>\n",
              "      <th>First Class</th>\n",
              "      <th>Premium Economy</th>\n",
              "      <th>pos_neg</th>\n",
              "      <th>review_date_day</th>\n",
              "      <th>review_date_month</th>\n",
              "      <th>review_date_year</th>\n",
              "      <th>polarity</th>\n",
              "      <th>rec_nonrec</th>\n",
              "    </tr>\n",
              "  </thead>\n",
              "  <tbody>\n",
              "    <tr>\n",
              "      <th>0</th>\n",
              "      <td>Turkish Airlines</td>\n",
              "      <td>7.0</td>\n",
              "      <td>2019-05-08</td>\n",
              "      <td>First time Iâ€™d flown TK. I found them very ...</td>\n",
              "      <td>8.0</td>\n",
              "      <td>10.0</td>\n",
              "      <td>8.0</td>\n",
              "      <td>8.0</td>\n",
              "      <td>4.0</td>\n",
              "      <td>8.0</td>\n",
              "      <td>1.0</td>\n",
              "      <td>1</td>\n",
              "      <td>0</td>\n",
              "      <td>0</td>\n",
              "      <td>0</td>\n",
              "      <td>0</td>\n",
              "      <td>1</td>\n",
              "      <td>0</td>\n",
              "      <td>0</td>\n",
              "      <td>1</td>\n",
              "      <td>8</td>\n",
              "      <td>5</td>\n",
              "      <td>2019</td>\n",
              "      <td>0.9365</td>\n",
              "      <td>1</td>\n",
              "    </tr>\n",
              "    <tr>\n",
              "      <th>1</th>\n",
              "      <td>Turkish Airlines</td>\n",
              "      <td>2.0</td>\n",
              "      <td>2019-05-07</td>\n",
              "      <td>We make our check in in the airport, they Tak...</td>\n",
              "      <td>8.0</td>\n",
              "      <td>2.0</td>\n",
              "      <td>2.0</td>\n",
              "      <td>2.0</td>\n",
              "      <td>2.0</td>\n",
              "      <td>2.0</td>\n",
              "      <td>0.0</td>\n",
              "      <td>0</td>\n",
              "      <td>0</td>\n",
              "      <td>1</td>\n",
              "      <td>0</td>\n",
              "      <td>0</td>\n",
              "      <td>1</td>\n",
              "      <td>0</td>\n",
              "      <td>0</td>\n",
              "      <td>0</td>\n",
              "      <td>7</td>\n",
              "      <td>5</td>\n",
              "      <td>2019</td>\n",
              "      <td>0.2732</td>\n",
              "      <td>0</td>\n",
              "    </tr>\n",
              "  </tbody>\n",
              "</table>\n",
              "</div>"
            ],
            "text/plain": [
              "            airline  review_score  ... polarity rec_nonrec\n",
              "0  Turkish Airlines           7.0  ...   0.9365          1\n",
              "1  Turkish Airlines           2.0  ...   0.2732          0\n",
              "\n",
              "[2 rows x 25 columns]"
            ]
          },
          "metadata": {
            "tags": []
          },
          "execution_count": 86
        }
      ]
    },
    {
      "cell_type": "markdown",
      "metadata": {
        "id": "5FyFj34YdYqx"
      },
      "source": [
        "###Analysis on airline"
      ]
    },
    {
      "cell_type": "code",
      "metadata": {
        "id": "DxCUuwVpAVB6",
        "colab": {
          "base_uri": "https://localhost:8080/"
        },
        "outputId": "68a0ce87-f0f9-43f9-e605-b72eaf1d4975"
      },
      "source": [
        "print('Total no.of unique airlines:', len(sent_analysis['airline'].unique()) )# No.of unique airline lines"
      ],
      "execution_count": 87,
      "outputs": [
        {
          "output_type": "stream",
          "text": [
            "Total no.of unique airlines: 81\n"
          ],
          "name": "stdout"
        }
      ]
    },
    {
      "cell_type": "code",
      "metadata": {
        "id": "fMIKCu1Hn7La"
      },
      "source": [
        ""
      ],
      "execution_count": 87,
      "outputs": []
    },
    {
      "cell_type": "markdown",
      "metadata": {
        "id": "1E0XZUOH61Wn"
      },
      "source": [
        "## Spliting data and scaling data"
      ]
    },
    {
      "cell_type": "code",
      "metadata": {
        "id": "NWGat6Ut8Vz3"
      },
      "source": [
        "# re-ordering the index as rows are removed\n",
        "sent_analysis.reset_index(drop=True,inplace = True)\n"
      ],
      "execution_count": 88,
      "outputs": []
    },
    {
      "cell_type": "code",
      "metadata": {
        "id": "_TogfQZ3Ub6V"
      },
      "source": [
        "X = sent_analysis[['pos_neg','rec_nonrec']].copy()\n",
        "y = sent_analysis['recommended'].copy()"
      ],
      "execution_count": 89,
      "outputs": []
    },
    {
      "cell_type": "code",
      "metadata": {
        "id": "8r-xq6m16wQA"
      },
      "source": [
        "# importing minmax scaler\n",
        "from sklearn.preprocessing import MinMaxScaler\n",
        "feature_scaler= MinMaxScaler()"
      ],
      "execution_count": 90,
      "outputs": []
    },
    {
      "cell_type": "code",
      "metadata": {
        "id": "A2Frm_8F6d4i"
      },
      "source": [
        "X = feature_scaler.fit_transform(X)\n"
      ],
      "execution_count": 91,
      "outputs": []
    },
    {
      "cell_type": "code",
      "metadata": {
        "id": "Bx5KA9jKFz87",
        "colab": {
          "base_uri": "https://localhost:8080/"
        },
        "outputId": "331f3ead-d99c-4451-9292-c44079c7a568"
      },
      "source": [
        "from sklearn.model_selection import train_test_split \n",
        "X_train, X_test, y_train, y_test = train_test_split( X,y , test_size = 0.35, random_state = 0) \n",
        "print(X_train.shape)\n",
        "print(X_test.shape)"
      ],
      "execution_count": 92,
      "outputs": [
        {
          "output_type": "stream",
          "text": [
            "(38749, 2)\n",
            "(20866, 2)\n"
          ],
          "name": "stdout"
        }
      ]
    },
    {
      "cell_type": "code",
      "metadata": {
        "id": "uQEKzdg_Fz6p",
        "colab": {
          "base_uri": "https://localhost:8080/"
        },
        "outputId": "7b0efb79-22e4-4de6-948f-48685bb4e664"
      },
      "source": [
        "y_train.value_counts()"
      ],
      "execution_count": 93,
      "outputs": [
        {
          "output_type": "execute_result",
          "data": {
            "text/plain": [
              "0.0    20268\n",
              "1.0    18481\n",
              "Name: recommended, dtype: int64"
            ]
          },
          "metadata": {
            "tags": []
          },
          "execution_count": 93
        }
      ]
    },
    {
      "cell_type": "code",
      "metadata": {
        "id": "IMnHXx8EFz2H",
        "colab": {
          "base_uri": "https://localhost:8080/"
        },
        "outputId": "61c1bac6-06ea-44d6-94e1-84b8a6c5db3e"
      },
      "source": [
        "y_test.value_counts()\n"
      ],
      "execution_count": 94,
      "outputs": [
        {
          "output_type": "execute_result",
          "data": {
            "text/plain": [
              "0.0    10864\n",
              "1.0    10002\n",
              "Name: recommended, dtype: int64"
            ]
          },
          "metadata": {
            "tags": []
          },
          "execution_count": 94
        }
      ]
    },
    {
      "cell_type": "markdown",
      "metadata": {
        "id": "SztBWOZw7AFk"
      },
      "source": [
        "## Logistic Regression"
      ]
    },
    {
      "cell_type": "code",
      "metadata": {
        "id": "3wTr8rERsmvV",
        "colab": {
          "base_uri": "https://localhost:8080/"
        },
        "outputId": "ee14d903-dd44-41ba-d246-37e1f455d324"
      },
      "source": [
        "from sklearn.linear_model import LogisticRegression\n",
        "\n",
        "clf = LogisticRegression(fit_intercept=True, max_iter=10000)\n",
        "clf.fit(X_train, y_train)\n",
        "\n"
      ],
      "execution_count": 95,
      "outputs": [
        {
          "output_type": "execute_result",
          "data": {
            "text/plain": [
              "LogisticRegression(C=1.0, class_weight=None, dual=False, fit_intercept=True,\n",
              "                   intercept_scaling=1, l1_ratio=None, max_iter=10000,\n",
              "                   multi_class='auto', n_jobs=None, penalty='l2',\n",
              "                   random_state=None, solver='lbfgs', tol=0.0001, verbose=0,\n",
              "                   warm_start=False)"
            ]
          },
          "metadata": {
            "tags": []
          },
          "execution_count": 95
        }
      ]
    },
    {
      "cell_type": "code",
      "metadata": {
        "id": "_mkPXfr1WqC-",
        "colab": {
          "base_uri": "https://localhost:8080/"
        },
        "outputId": "8c426224-3524-4317-95c8-11522b586801"
      },
      "source": [
        "# Get the model coefficients\n",
        "clf.coef_"
      ],
      "execution_count": 96,
      "outputs": [
        {
          "output_type": "execute_result",
          "data": {
            "text/plain": [
              "array([[5.41982769, 1.69029381]])"
            ]
          },
          "metadata": {
            "tags": []
          },
          "execution_count": 96
        }
      ]
    },
    {
      "cell_type": "code",
      "metadata": {
        "id": "UmqDAy5tWwRV"
      },
      "source": [
        "# Get the predicted probabilities\n",
        "train_prob = clf.predict_proba(X_train)\n",
        "test_prob = clf.predict_proba(X_test)"
      ],
      "execution_count": 97,
      "outputs": []
    },
    {
      "cell_type": "code",
      "metadata": {
        "id": "9rBGlsqAW6qN",
        "colab": {
          "base_uri": "https://localhost:8080/"
        },
        "outputId": "619df4d9-99ad-4d2f-b7f2-02eb2e9d96e4"
      },
      "source": [
        "test_prob"
      ],
      "execution_count": 98,
      "outputs": [
        {
          "output_type": "execute_result",
          "data": {
            "text/plain": [
              "array([[0.11759732, 0.88240268],\n",
              "       [0.02399374, 0.97600626],\n",
              "       [0.84737399, 0.15262601],\n",
              "       ...,\n",
              "       [0.11759732, 0.88240268],\n",
              "       [0.02399374, 0.97600626],\n",
              "       [0.11759732, 0.88240268]])"
            ]
          },
          "metadata": {
            "tags": []
          },
          "execution_count": 98
        }
      ]
    },
    {
      "cell_type": "code",
      "metadata": {
        "id": "qMy-TbBvXD7L"
      },
      "source": [
        "# Get the predicted classes\n",
        "train_class_preds = clf.predict(X_train)\n",
        "test_class_preds = clf.predict(X_test)"
      ],
      "execution_count": 99,
      "outputs": []
    },
    {
      "cell_type": "code",
      "metadata": {
        "id": "px9bp37YXGZD",
        "colab": {
          "base_uri": "https://localhost:8080/"
        },
        "outputId": "1c057f37-bc7b-4ebb-92a9-43f603ea63b4"
      },
      "source": [
        "train_class_preds"
      ],
      "execution_count": 100,
      "outputs": [
        {
          "output_type": "execute_result",
          "data": {
            "text/plain": [
              "array([1., 1., 0., ..., 0., 0., 1.])"
            ]
          },
          "metadata": {
            "tags": []
          },
          "execution_count": 100
        }
      ]
    },
    {
      "cell_type": "code",
      "metadata": {
        "id": "t8Jr2_OxXK0X"
      },
      "source": [
        "from sklearn.metrics import accuracy_score, confusion_matrix\n",
        "import seaborn as sns"
      ],
      "execution_count": 101,
      "outputs": []
    },
    {
      "cell_type": "code",
      "metadata": {
        "id": "6TXOek6pXOnk",
        "colab": {
          "base_uri": "https://localhost:8080/"
        },
        "outputId": "56f7fa24-c26c-4323-e723-b84739c21e4a"
      },
      "source": [
        "# Get the accuracy scores\n",
        "train_accuracy = accuracy_score(train_class_preds,y_train)*100\n",
        "test_accuracy = accuracy_score(test_class_preds,y_test)*100\n",
        "\n",
        "print(\"The accuracy on train data is \", train_accuracy)\n",
        "print(\"The accuracy on test data is \", test_accuracy)"
      ],
      "execution_count": 102,
      "outputs": [
        {
          "output_type": "stream",
          "text": [
            "The accuracy on train data is  95.29794317272705\n",
            "The accuracy on test data is  95.36087414933384\n"
          ],
          "name": "stdout"
        }
      ]
    },
    {
      "cell_type": "code",
      "metadata": {
        "id": "qThnnvOCXWiT",
        "colab": {
          "base_uri": "https://localhost:8080/"
        },
        "outputId": "9cf99566-2640-463d-fbb0-d5a3b6c087a7"
      },
      "source": [
        "# Get the confusion matrix for both train and test\n",
        "\n",
        "cm1 = confusion_matrix(y_train, train_class_preds)\n",
        "print('confusion matrix of train \\n', cm1)\n",
        "\n",
        "cm2 = confusion_matrix(y_test, test_class_preds)\n",
        "print('confusion matrix of test \\n', cm2)\n"
      ],
      "execution_count": 103,
      "outputs": [
        {
          "output_type": "stream",
          "text": [
            "confusion matrix of train \n",
            " [[19434   834]\n",
            " [  988 17493]]\n",
            "confusion matrix of test \n",
            " [[10423   441]\n",
            " [  527  9475]]\n"
          ],
          "name": "stdout"
        }
      ]
    },
    {
      "cell_type": "code",
      "metadata": {
        "id": "9D0MShxOv93Y",
        "colab": {
          "base_uri": "https://localhost:8080/"
        },
        "outputId": "6d5fd864-701d-43d4-d429-057a603bb577"
      },
      "source": [
        "# Getting all the accuracy metrics of training model\n",
        "tn, fp, fn, tp = confusion_matrix(y_train, train_class_preds).ravel()\n",
        "\n",
        "sensitivity = tp / (tp+fn) # Recall.\n",
        "specificity = tn / (tn+fp)\n",
        "precision = tp / (tp+fp)\n",
        "\n",
        "print('Sensitivity/Recall: %.3f' % sensitivity)\n",
        "print('Specificity: %.3f' % specificity)\n",
        "print('Precision: %.3f' % precision)"
      ],
      "execution_count": 104,
      "outputs": [
        {
          "output_type": "stream",
          "text": [
            "Sensitivity/Recall: 0.947\n",
            "Specificity: 0.959\n",
            "Precision: 0.954\n"
          ],
          "name": "stdout"
        }
      ]
    },
    {
      "cell_type": "code",
      "metadata": {
        "id": "K27iC01WweDq",
        "colab": {
          "base_uri": "https://localhost:8080/"
        },
        "outputId": "783af268-5d89-47ef-9885-86d3d89d786a"
      },
      "source": [
        "# Getting all the accuracy metrics of test model\n",
        "tn, fp, fn, tp = confusion_matrix(y_test, test_class_preds).ravel()\n",
        "\n",
        "sensitivity = tp / (tp+fn) # Recall.\n",
        "specificity = tn / (tn+fp)\n",
        "precision = tp / (tp+fp)\n",
        "\n",
        "print('Sensitivity/Recall: %.3f' % sensitivity)\n",
        "print('Specificity: %.3f' % specificity)\n",
        "print('Precision: %.3f' % precision)"
      ],
      "execution_count": 105,
      "outputs": [
        {
          "output_type": "stream",
          "text": [
            "Sensitivity/Recall: 0.947\n",
            "Specificity: 0.959\n",
            "Precision: 0.956\n"
          ],
          "name": "stdout"
        }
      ]
    },
    {
      "cell_type": "markdown",
      "metadata": {
        "id": "78Dvm1WSKWNI"
      },
      "source": [
        "## Using Different Cross validation techniques"
      ]
    },
    {
      "cell_type": "code",
      "metadata": {
        "colab": {
          "base_uri": "https://localhost:8080/"
        },
        "id": "zwP_nAn87j8V",
        "outputId": "3cae0b30-80c5-4572-b589-77397c0b0168"
      },
      "source": [
        "#KFold\n",
        "from sklearn.model_selection import KFold\n",
        "\n",
        "kf = KFold(n_splits=4)\n",
        "\n",
        "scores = []\n",
        "for train_index, test_index in kf.split(X):\n",
        "    X_train, X_test = X[train_index], X[test_index]\n",
        "    y_train, y_test = y[train_index], y[test_index]\n",
        "    \n",
        "    scores.append(\n",
        "        accuracy_score(clf.fit(X_train, y_train).predict(X_test), y_test))\n",
        "    \n",
        "np.mean(scores)\n",
        "\n",
        "\n",
        "for i in scores:\n",
        "  i = round(i*100,4)\n",
        "  print(i)"
      ],
      "execution_count": 106,
      "outputs": [
        {
          "output_type": "stream",
          "text": [
            "95.0349\n",
            "94.686\n",
            "94.9812\n",
            "96.5779\n"
          ],
          "name": "stdout"
        }
      ]
    },
    {
      "cell_type": "code",
      "metadata": {
        "colab": {
          "base_uri": "https://localhost:8080/"
        },
        "id": "MP5cQ1jm-cfz",
        "outputId": "dc2b4e12-8946-425b-8d87-eef3051f488a"
      },
      "source": [
        "#RepeatedKFold\n",
        "from sklearn.model_selection import RepeatedKFold\n",
        "\n",
        "rkf = RepeatedKFold(n_splits=4, n_repeats=2)\n",
        "\n",
        "scores = []\n",
        "for train_index, test_index in rkf.split(X):\n",
        "    X_train, X_test = X[train_index], X[test_index]\n",
        "    y_train, y_test = y[train_index], y[test_index]\n",
        "    \n",
        "    scores.append(\n",
        "        accuracy_score(clf.fit(X_train, y_train).predict(X_test), y_test)\n",
        "    )\n",
        "    \n",
        "np.mean(scores)\n",
        "\n",
        "for i in scores:\n",
        "  i = round(i*100,4)\n",
        "  print(i)"
      ],
      "execution_count": 107,
      "outputs": [
        {
          "output_type": "stream",
          "text": [
            "95.2697\n",
            "95.2563\n",
            "95.7595\n",
            "94.9943\n",
            "95.1355\n",
            "95.2496\n",
            "95.2831\n",
            "95.6116\n"
          ],
          "name": "stdout"
        }
      ]
    },
    {
      "cell_type": "code",
      "metadata": {
        "colab": {
          "base_uri": "https://localhost:8080/",
          "height": 69
        },
        "id": "SDuLZ7kU-x7W",
        "outputId": "34e0d2f9-5124-44da-e0da-155de0b48521"
      },
      "source": [
        "'''rom sklearn.model_selection import LeaveOneOut\n",
        "\n",
        "loo = LeaveOneOut()\n",
        "\n",
        "scores = []\n",
        "for train_index, test_index in loo.split(X):\n",
        "    X_train, X_test = X[train_index], X[test_index]\n",
        "    y_train, y_test = y[train_index], y[test_index]\n",
        "    \n",
        "    scores.append(\n",
        "        accuracy_score(clf.fit(X_train, y_train).predict(X_test), y_test)\n",
        "    )\n",
        "    \n",
        "scores = np.array(scores)\n",
        "np.mean(scores)\n",
        "\n",
        "for i in scores:\n",
        "  i = round(i*100,4)\n",
        "  print(i)'''"
      ],
      "execution_count": 108,
      "outputs": [
        {
          "output_type": "execute_result",
          "data": {
            "application/vnd.google.colaboratory.intrinsic+json": {
              "type": "string"
            },
            "text/plain": [
              "'rom sklearn.model_selection import LeaveOneOut\\n\\nloo = LeaveOneOut()\\n\\nscores = []\\nfor train_index, test_index in loo.split(X):\\n    X_train, X_test = X[train_index], X[test_index]\\n    y_train, y_test = y[train_index], y[test_index]\\n    \\n    scores.append(\\n        accuracy_score(clf.fit(X_train, y_train).predict(X_test), y_test)\\n    )\\n    \\nscores = np.array(scores)\\nnp.mean(scores)\\n\\nfor i in scores:\\n  i = round(i*100,4)\\n  print(i)'"
            ]
          },
          "metadata": {
            "tags": []
          },
          "execution_count": 108
        }
      ]
    },
    {
      "cell_type": "code",
      "metadata": {
        "colab": {
          "base_uri": "https://localhost:8080/",
          "height": 69
        },
        "id": "sW2JWy3R_Eu9",
        "outputId": "e78031cb-ad4f-4ba8-bba5-9e6f655602e0"
      },
      "source": [
        "'''from sklearn.model_selection import LeavePOut\n",
        "\n",
        "lpo = LeavePOut(p=1)\n",
        "\n",
        "scores = []\n",
        "for train_index, test_index in lpo.split(X):\n",
        "    X_train, X_test = X[train_index], X[test_index]\n",
        "    y_train, y_test = y[train_index], y[test_index]\n",
        "    \n",
        "    scores.append(\n",
        "        accuracy_score(clf.fit(X_train, y_train).predict(X_test), y_test)\n",
        "    )\n",
        "    \n",
        "scores = np.array(scores)\n",
        "np.mean(scores)\n",
        "for i in scores:\n",
        "  i = round(i*100,4)\n",
        "  print(i)'''"
      ],
      "execution_count": 109,
      "outputs": [
        {
          "output_type": "execute_result",
          "data": {
            "application/vnd.google.colaboratory.intrinsic+json": {
              "type": "string"
            },
            "text/plain": [
              "'from sklearn.model_selection import LeavePOut\\n\\nlpo = LeavePOut(p=1)\\n\\nscores = []\\nfor train_index, test_index in lpo.split(X):\\n    X_train, X_test = X[train_index], X[test_index]\\n    y_train, y_test = y[train_index], y[test_index]\\n    \\n    scores.append(\\n        accuracy_score(clf.fit(X_train, y_train).predict(X_test), y_test)\\n    )\\n    \\nscores = np.array(scores)\\nnp.mean(scores)\\nfor i in scores:\\n  i = round(i*100,4)\\n  print(i)'"
            ]
          },
          "metadata": {
            "tags": []
          },
          "execution_count": 109
        }
      ]
    },
    {
      "cell_type": "code",
      "metadata": {
        "colab": {
          "base_uri": "https://localhost:8080/"
        },
        "id": "8nTLHG3W_N0b",
        "outputId": "d65ebb15-d1c8-422b-f897-996d289c9998"
      },
      "source": [
        "#StratifiedKFold\n",
        "from sklearn.model_selection import StratifiedKFold\n",
        "\n",
        "skf = StratifiedKFold(n_splits=4)\n",
        "\n",
        "scores = []\n",
        "\n",
        "t = (np.random.random(size=100) > 0.1).astype(int)[:, np.newaxis]\n",
        "for train_index, test_index in skf.split(\n",
        "    np.sort((np.random.random(size=100) > 0.1)).astype(int), \n",
        "    np.sort(np.random.random(size=100) > 0.1).astype(int)\n",
        "):\n",
        "    X_train, X_test = t[train_index], t[test_index]\n",
        "    y_train, y_test = t[train_index], t[test_index]\n",
        "    \n",
        "    scores.append(\n",
        "        accuracy_score(clf.fit(X_train, y_train).predict(X_test), y_test)\n",
        "    )\n",
        "    \n",
        "scores = np.array(scores)\n",
        "np.mean(scores)\n",
        "\n",
        "for i in scores:\n",
        "  i = round(i*100,4)\n",
        "  print(i)"
      ],
      "execution_count": 110,
      "outputs": [
        {
          "output_type": "stream",
          "text": [
            "88.0\n",
            "100.0\n",
            "88.0\n",
            "100.0\n"
          ],
          "name": "stdout"
        },
        {
          "output_type": "stream",
          "text": [
            "/usr/local/lib/python3.7/dist-packages/sklearn/utils/validation.py:760: DataConversionWarning: A column-vector y was passed when a 1d array was expected. Please change the shape of y to (n_samples, ), for example using ravel().\n",
            "  y = column_or_1d(y, warn=True)\n",
            "/usr/local/lib/python3.7/dist-packages/sklearn/utils/validation.py:760: DataConversionWarning: A column-vector y was passed when a 1d array was expected. Please change the shape of y to (n_samples, ), for example using ravel().\n",
            "  y = column_or_1d(y, warn=True)\n",
            "/usr/local/lib/python3.7/dist-packages/sklearn/utils/validation.py:760: DataConversionWarning: A column-vector y was passed when a 1d array was expected. Please change the shape of y to (n_samples, ), for example using ravel().\n",
            "  y = column_or_1d(y, warn=True)\n",
            "/usr/local/lib/python3.7/dist-packages/sklearn/utils/validation.py:760: DataConversionWarning: A column-vector y was passed when a 1d array was expected. Please change the shape of y to (n_samples, ), for example using ravel().\n",
            "  y = column_or_1d(y, warn=True)\n"
          ],
          "name": "stderr"
        }
      ]
    },
    {
      "cell_type": "code",
      "metadata": {
        "id": "hOvDm047KVo8",
        "colab": {
          "base_uri": "https://localhost:8080/"
        },
        "outputId": "666b9c18-81ea-4c58-c19d-b6a0a79fce4a"
      },
      "source": [
        "from sklearn.linear_model import LogisticRegressionCV\n",
        "clf = LogisticRegressionCV(cv=10, random_state=0)\n",
        "clf.fit(X_train, y_train)\n",
        "train_class_preds = clf.predict(X_train)\n",
        "test_class_preds = clf.predict(X_test)\n",
        "# Get the accuracy scores\n",
        "train_accuracy = accuracy_score(train_class_preds,y_train)*100\n",
        "test_accuracy = accuracy_score(test_class_preds,y_test)*100\n",
        "\n",
        "print(\"The accuracy on train data is \", train_accuracy)\n",
        "print(\"The accuracy on test data is \", test_accuracy)"
      ],
      "execution_count": 111,
      "outputs": [
        {
          "output_type": "stream",
          "text": [
            "/usr/local/lib/python3.7/dist-packages/sklearn/utils/validation.py:760: DataConversionWarning: A column-vector y was passed when a 1d array was expected. Please change the shape of y to (n_samples, ), for example using ravel().\n",
            "  y = column_or_1d(y, warn=True)\n",
            "/usr/local/lib/python3.7/dist-packages/sklearn/model_selection/_split.py:667: UserWarning: The least populated class in y has only 8 members, which is less than n_splits=10.\n",
            "  % (min_groups, self.n_splits)), UserWarning)\n"
          ],
          "name": "stderr"
        },
        {
          "output_type": "stream",
          "text": [
            "The accuracy on train data is  100.0\n",
            "The accuracy on test data is  100.0\n"
          ],
          "name": "stdout"
        }
      ]
    },
    {
      "cell_type": "markdown",
      "metadata": {
        "id": "wN66Wwc7F1hP"
      },
      "source": [
        "## Decision trees"
      ]
    },
    {
      "cell_type": "code",
      "metadata": {
        "id": "RVyqyUa-ZhqU"
      },
      "source": [
        "from sklearn.metrics import accuracy_score, roc_auc_score\n",
        "from sklearn.model_selection import train_test_split\n",
        "from sklearn.tree import DecisionTreeClassifier"
      ],
      "execution_count": 112,
      "outputs": []
    },
    {
      "cell_type": "code",
      "metadata": {
        "id": "9Mz4d532Fzzs"
      },
      "source": [
        " df = sent_analysis.drop(columns = ['airline','review_date','review_text', 'review_score','rec_nonrec']).copy()"
      ],
      "execution_count": 113,
      "outputs": []
    },
    {
      "cell_type": "code",
      "metadata": {
        "id": "03s1vgM5stLe",
        "colab": {
          "base_uri": "https://localhost:8080/",
          "height": 143
        },
        "outputId": "88af1a63-b3f3-460f-acb7-dc4b355809ff"
      },
      "source": [
        "df.head(2)"
      ],
      "execution_count": 114,
      "outputs": [
        {
          "output_type": "execute_result",
          "data": {
            "text/html": [
              "<div>\n",
              "<style scoped>\n",
              "    .dataframe tbody tr th:only-of-type {\n",
              "        vertical-align: middle;\n",
              "    }\n",
              "\n",
              "    .dataframe tbody tr th {\n",
              "        vertical-align: top;\n",
              "    }\n",
              "\n",
              "    .dataframe thead th {\n",
              "        text-align: right;\n",
              "    }\n",
              "</style>\n",
              "<table border=\"1\" class=\"dataframe\">\n",
              "  <thead>\n",
              "    <tr style=\"text-align: right;\">\n",
              "      <th></th>\n",
              "      <th>seat_comfort</th>\n",
              "      <th>cabin_service</th>\n",
              "      <th>food_bev</th>\n",
              "      <th>entertainment</th>\n",
              "      <th>ground_service</th>\n",
              "      <th>value_for_money</th>\n",
              "      <th>recommended</th>\n",
              "      <th>Business</th>\n",
              "      <th>Couple Leisure</th>\n",
              "      <th>Family Leisure</th>\n",
              "      <th>Solo Leisure</th>\n",
              "      <th>Business Class</th>\n",
              "      <th>Economy Class</th>\n",
              "      <th>First Class</th>\n",
              "      <th>Premium Economy</th>\n",
              "      <th>pos_neg</th>\n",
              "      <th>review_date_day</th>\n",
              "      <th>review_date_month</th>\n",
              "      <th>review_date_year</th>\n",
              "      <th>polarity</th>\n",
              "    </tr>\n",
              "  </thead>\n",
              "  <tbody>\n",
              "    <tr>\n",
              "      <th>0</th>\n",
              "      <td>8.0</td>\n",
              "      <td>10.0</td>\n",
              "      <td>8.0</td>\n",
              "      <td>8.0</td>\n",
              "      <td>4.0</td>\n",
              "      <td>8.0</td>\n",
              "      <td>1.0</td>\n",
              "      <td>1</td>\n",
              "      <td>0</td>\n",
              "      <td>0</td>\n",
              "      <td>0</td>\n",
              "      <td>0</td>\n",
              "      <td>1</td>\n",
              "      <td>0</td>\n",
              "      <td>0</td>\n",
              "      <td>1</td>\n",
              "      <td>8</td>\n",
              "      <td>5</td>\n",
              "      <td>2019</td>\n",
              "      <td>0.9365</td>\n",
              "    </tr>\n",
              "    <tr>\n",
              "      <th>1</th>\n",
              "      <td>8.0</td>\n",
              "      <td>2.0</td>\n",
              "      <td>2.0</td>\n",
              "      <td>2.0</td>\n",
              "      <td>2.0</td>\n",
              "      <td>2.0</td>\n",
              "      <td>0.0</td>\n",
              "      <td>0</td>\n",
              "      <td>0</td>\n",
              "      <td>1</td>\n",
              "      <td>0</td>\n",
              "      <td>0</td>\n",
              "      <td>1</td>\n",
              "      <td>0</td>\n",
              "      <td>0</td>\n",
              "      <td>0</td>\n",
              "      <td>7</td>\n",
              "      <td>5</td>\n",
              "      <td>2019</td>\n",
              "      <td>0.2732</td>\n",
              "    </tr>\n",
              "  </tbody>\n",
              "</table>\n",
              "</div>"
            ],
            "text/plain": [
              "   seat_comfort  cabin_service  ...  review_date_year  polarity\n",
              "0           8.0           10.0  ...              2019    0.9365\n",
              "1           8.0            2.0  ...              2019    0.2732\n",
              "\n",
              "[2 rows x 20 columns]"
            ]
          },
          "metadata": {
            "tags": []
          },
          "execution_count": 114
        }
      ]
    },
    {
      "cell_type": "code",
      "metadata": {
        "id": "588wJ77GYhE4"
      },
      "source": [
        "X = df.drop(columns='recommended').copy()\n",
        "\n",
        "y = df['recommended'].copy()"
      ],
      "execution_count": 115,
      "outputs": []
    },
    {
      "cell_type": "code",
      "metadata": {
        "id": "mLiRSeO9uWn5"
      },
      "source": [
        "# Considering only two features\n",
        "#X = sent_analysis[['pos_neg','rec_nonrec']].copy()\n",
        "#y = sent_analysis['recommended'].copy()"
      ],
      "execution_count": 116,
      "outputs": []
    },
    {
      "cell_type": "code",
      "metadata": {
        "id": "h366wAsIZSHM"
      },
      "source": [
        "X_train, X_test, y_train, y_test = train_test_split(X, y, test_size=0.3, random_state=324)"
      ],
      "execution_count": 117,
      "outputs": []
    },
    {
      "cell_type": "code",
      "metadata": {
        "id": "ETTBMe7faCIi",
        "colab": {
          "base_uri": "https://localhost:8080/"
        },
        "outputId": "3129f004-5258-457f-8e1f-8f2255c3bd27"
      },
      "source": [
        "decision_classifier = DecisionTreeClassifier(criterion='entropy', max_leaf_nodes=10, random_state=0)\n",
        "decision_classifier.fit(X_train, y_train)"
      ],
      "execution_count": 118,
      "outputs": [
        {
          "output_type": "execute_result",
          "data": {
            "text/plain": [
              "DecisionTreeClassifier(ccp_alpha=0.0, class_weight=None, criterion='entropy',\n",
              "                       max_depth=None, max_features=None, max_leaf_nodes=10,\n",
              "                       min_impurity_decrease=0.0, min_impurity_split=None,\n",
              "                       min_samples_leaf=1, min_samples_split=2,\n",
              "                       min_weight_fraction_leaf=0.0, presort='deprecated',\n",
              "                       random_state=0, splitter='best')"
            ]
          },
          "metadata": {
            "tags": []
          },
          "execution_count": 118
        }
      ]
    },
    {
      "cell_type": "code",
      "metadata": {
        "id": "U3Es6Qyvaa6r"
      },
      "source": [
        "y_predicted = decision_classifier.predict(X_test)\n",
        "y_train_pred = decision_classifier.predict(X_train)"
      ],
      "execution_count": 119,
      "outputs": []
    },
    {
      "cell_type": "code",
      "metadata": {
        "id": "xk6t_eG_alZX",
        "colab": {
          "base_uri": "https://localhost:8080/"
        },
        "outputId": "9dc8595e-d84e-4ea2-d437-e9feab0ebe9f"
      },
      "source": [
        "y_predicted[:10]"
      ],
      "execution_count": 120,
      "outputs": [
        {
          "output_type": "execute_result",
          "data": {
            "text/plain": [
              "array([0., 0., 0., 1., 1., 0., 1., 1., 1., 1.])"
            ]
          },
          "metadata": {
            "tags": []
          },
          "execution_count": 120
        }
      ]
    },
    {
      "cell_type": "code",
      "metadata": {
        "id": "55QOfzCIc6BQ",
        "colab": {
          "base_uri": "https://localhost:8080/"
        },
        "outputId": "49fbbe46-2ba9-4b1b-f1fb-b83bdd6434df"
      },
      "source": [
        "print(\"The accuracy on test data is \", accuracy_score(y_predicted, y_test) * 100) # Accuracy of test data\n",
        "print(\"The accuracy on test data is \",accuracy_score(y_train_pred, y_train) * 100) # Accuracy of test data\n"
      ],
      "execution_count": 121,
      "outputs": [
        {
          "output_type": "stream",
          "text": [
            "The accuracy on test data is  95.42633491752865\n",
            "The accuracy on test data is  95.27438293793435\n"
          ],
          "name": "stdout"
        }
      ]
    },
    {
      "cell_type": "code",
      "metadata": {
        "id": "e0d-sHpupCm8"
      },
      "source": [
        "features = X_train.columns\n",
        "importances = decision_classifier.feature_importances_\n",
        "indices = np.argsort(importances) "
      ],
      "execution_count": 122,
      "outputs": []
    },
    {
      "cell_type": "code",
      "metadata": {
        "id": "vjmpbdMss-4S",
        "colab": {
          "base_uri": "https://localhost:8080/"
        },
        "outputId": "9681bd23-4b20-4aa7-c3e1-b12a2b9fa3da"
      },
      "source": [
        "features\n"
      ],
      "execution_count": 123,
      "outputs": [
        {
          "output_type": "execute_result",
          "data": {
            "text/plain": [
              "Index(['seat_comfort', 'cabin_service', 'food_bev', 'entertainment',\n",
              "       'ground_service', 'value_for_money', 'Business', 'Couple Leisure',\n",
              "       'Family Leisure', 'Solo Leisure', 'Business Class', 'Economy Class',\n",
              "       'First Class', 'Premium Economy', 'pos_neg', 'review_date_day',\n",
              "       'review_date_month', 'review_date_year', 'polarity'],\n",
              "      dtype='object')"
            ]
          },
          "metadata": {
            "tags": []
          },
          "execution_count": 123
        }
      ]
    },
    {
      "cell_type": "code",
      "metadata": {
        "id": "iP2JDjyPpaby",
        "colab": {
          "base_uri": "https://localhost:8080/",
          "height": 295
        },
        "outputId": "a4450fda-569d-48eb-e4a8-517f4e154a59"
      },
      "source": [
        "plt.title('Feature Importance')\n",
        "plt.barh(range(len(indices)), importances[indices], color='red', align='center')\n",
        "plt.yticks(range(len(indices)), [features[i] for i in indices])\n",
        "plt.xlabel('Relative Importance')\n",
        "\n",
        "plt.show()"
      ],
      "execution_count": 124,
      "outputs": [
        {
          "output_type": "display_data",
          "data": {
            "image/png": "[encoded data removed]",
            "text/plain": [
              "<Figure size 432x288 with 1 Axes>"
            ]
          },
          "metadata": {
            "tags": [],
            "needs_background": "light"
          }
        }
      ]
    },
    {
      "cell_type": "code",
      "metadata": {
        "id": "gbgAApLcqX-z"
      },
      "source": [
        "from sklearn.tree import DecisionTreeClassifier, export_graphviz\n",
        "from sklearn import tree\n",
        "from IPython.display import SVG\n",
        "from graphviz import Source\n",
        "from IPython.display import display"
      ],
      "execution_count": 125,
      "outputs": []
    },
    {
      "cell_type": "code",
      "metadata": {
        "id": "_tRgSeOBqbUw",
        "colab": {
          "base_uri": "https://localhost:8080/",
          "height": 777
        },
        "outputId": "ccadd68a-7dac-4900-dad4-811646014ee3"
      },
      "source": [
        "graph = Source(tree.export_graphviz(decision_classifier, out_file=None\n",
        "   , feature_names=X_train.columns, class_names=['0', '1'] \n",
        "   , filled = True))\n",
        "display(SVG(graph.pipe(format='svg')))\n"
      ],
      "execution_count": 126,
      "outputs": [
        {
          "output_type": "display_data",
          "data": {
            "text/plain": [
              "<IPython.core.display.SVG object>"
            ],
            "image/svg+xml": "<svg height=\"552pt\" viewBox=\"0.00 0.00 1309.00 552.00\" width=\"1309pt\" xmlns=\"http://www.w3.org/2000/svg\" xmlns:xlink=\"http://www.w3.org/1999/xlink\">\n<g class=\"graph\" id=\"graph0\" transform=\"scale(1 1) rotate(0) translate(4 548)\">\n<title>Tree</title>\n<polygon fill=\"#ffffff\" points=\"-4,4 -4,-548 1305,-548 1305,4 -4,4\" stroke=\"transparent\"/>\n<!-- 0 -->\n<g class=\"node\" id=\"node1\">\n<title>0</title>\n<polygon fill=\"#fdf5f0\" points=\"679.5,-544 524.5,-544 524.5,-461 679.5,-461 679.5,-544\" stroke=\"#000000\"/>\n<text fill=\"#000000\" font-family=\"Times,serif\" font-size=\"14.00\" text-anchor=\"middle\" x=\"602\" y=\"-528.8\">pos_neg &lt;= 0.5</text>\n<text fill=\"#000000\" font-family=\"Times,serif\" font-size=\"14.00\" text-anchor=\"middle\" x=\"602\" y=\"-513.8\">entropy = 0.999</text>\n<text fill=\"#000000\" font-family=\"Times,serif\" font-size=\"14.00\" text-anchor=\"middle\" x=\"602\" y=\"-498.8\">samples = 41730</text>\n<text fill=\"#000000\" font-family=\"Times,serif\" font-size=\"14.00\" text-anchor=\"middle\" x=\"602\" y=\"-483.8\">value = [21690, 20040]</text>\n<text fill=\"#000000\" font-family=\"Times,serif\" font-size=\"14.00\" text-anchor=\"middle\" x=\"602\" y=\"-468.8\">class = 0</text>\n</g>\n<!-- 1 -->\n<g class=\"node\" id=\"node2\">\n<title>1</title>\n<polygon fill=\"#e68743\" points=\"527.5,-425 366.5,-425 366.5,-342 527.5,-342 527.5,-425\" stroke=\"#000000\"/>\n<text fill=\"#000000\" font-family=\"Times,serif\" font-size=\"14.00\" text-anchor=\"middle\" x=\"447\" y=\"-409.8\">value_for_money &lt;= 5.5</text>\n<text fill=\"#000000\" font-family=\"Times,serif\" font-size=\"14.00\" text-anchor=\"middle\" x=\"447\" y=\"-394.8\">entropy = 0.282</text>\n<text fill=\"#000000\" font-family=\"Times,serif\" font-size=\"14.00\" text-anchor=\"middle\" x=\"447\" y=\"-379.8\">samples = 21860</text>\n<text fill=\"#000000\" font-family=\"Times,serif\" font-size=\"14.00\" text-anchor=\"middle\" x=\"447\" y=\"-364.8\">value = [20789, 1071]</text>\n<text fill=\"#000000\" font-family=\"Times,serif\" font-size=\"14.00\" text-anchor=\"middle\" x=\"447\" y=\"-349.8\">class = 0</text>\n</g>\n<!-- 0&#45;&gt;1 -->\n<g class=\"edge\" id=\"edge1\">\n<title>0-&gt;1</title>\n<path d=\"M547.7885,-460.8796C535.3994,-451.368 522.1351,-441.1843 509.4324,-431.432\" fill=\"none\" stroke=\"#000000\"/>\n<polygon fill=\"#000000\" points=\"511.2442,-428.4105 501.1809,-425.0969 506.9814,-433.9628 511.2442,-428.4105\" stroke=\"#000000\"/>\n<text fill=\"#000000\" font-family=\"Times,serif\" font-size=\"14.00\" text-anchor=\"middle\" x=\"504.4376\" y=\"-446.1839\">True</text>\n</g>\n<!-- 2 -->\n<g class=\"node\" id=\"node11\">\n<title>2</title>\n<polygon fill=\"#42a2e6\" points=\"841.5,-425 680.5,-425 680.5,-342 841.5,-342 841.5,-425\" stroke=\"#000000\"/>\n<text fill=\"#000000\" font-family=\"Times,serif\" font-size=\"14.00\" text-anchor=\"middle\" x=\"761\" y=\"-409.8\">value_for_money &lt;= 7.5</text>\n<text fill=\"#000000\" font-family=\"Times,serif\" font-size=\"14.00\" text-anchor=\"middle\" x=\"761\" y=\"-394.8\">entropy = 0.266</text>\n<text fill=\"#000000\" font-family=\"Times,serif\" font-size=\"14.00\" text-anchor=\"middle\" x=\"761\" y=\"-379.8\">samples = 19870</text>\n<text fill=\"#000000\" font-family=\"Times,serif\" font-size=\"14.00\" text-anchor=\"middle\" x=\"761\" y=\"-364.8\">value = [901, 18969]</text>\n<text fill=\"#000000\" font-family=\"Times,serif\" font-size=\"14.00\" text-anchor=\"middle\" x=\"761\" y=\"-349.8\">class = 1</text>\n</g>\n<!-- 0&#45;&gt;2 -->\n<g class=\"edge\" id=\"edge10\">\n<title>0-&gt;2</title>\n<path d=\"M657.6105,-460.8796C670.4403,-451.2774 684.1852,-440.9903 697.3286,-431.1534\" fill=\"none\" stroke=\"#000000\"/>\n<polygon fill=\"#000000\" points=\"699.5121,-433.891 705.4209,-425.0969 695.3177,-428.2868 699.5121,-433.891\" stroke=\"#000000\"/>\n<text fill=\"#000000\" font-family=\"Times,serif\" font-size=\"14.00\" text-anchor=\"middle\" x=\"701.8605\" y=\"-446.1421\">False</text>\n</g>\n<!-- 3 -->\n<g class=\"node\" id=\"node3\">\n<title>3</title>\n<polygon fill=\"#e5833c\" points=\"290,-306 142,-306 142,-223 290,-223 290,-306\" stroke=\"#000000\"/>\n<text fill=\"#000000\" font-family=\"Times,serif\" font-size=\"14.00\" text-anchor=\"middle\" x=\"216\" y=\"-290.8\">ground_service &lt;= 3.5</text>\n<text fill=\"#000000\" font-family=\"Times,serif\" font-size=\"14.00\" text-anchor=\"middle\" x=\"216\" y=\"-275.8\">entropy = 0.098</text>\n<text fill=\"#000000\" font-family=\"Times,serif\" font-size=\"14.00\" text-anchor=\"middle\" x=\"216\" y=\"-260.8\">samples = 17307</text>\n<text fill=\"#000000\" font-family=\"Times,serif\" font-size=\"14.00\" text-anchor=\"middle\" x=\"216\" y=\"-245.8\">value = [17087, 220]</text>\n<text fill=\"#000000\" font-family=\"Times,serif\" font-size=\"14.00\" text-anchor=\"middle\" x=\"216\" y=\"-230.8\">class = 0</text>\n</g>\n<!-- 1&#45;&gt;3 -->\n<g class=\"edge\" id=\"edge2\">\n<title>1-&gt;3</title>\n<path d=\"M366.2074,-341.8796C344.4809,-330.6871 320.9481,-318.5642 299.0985,-307.3083\" fill=\"none\" stroke=\"#000000\"/>\n<polygon fill=\"#000000\" points=\"300.6649,-304.1782 290.1723,-302.71 297.4592,-310.401 300.6649,-304.1782\" stroke=\"#000000\"/>\n</g>\n<!-- 4 -->\n<g class=\"node\" id=\"node6\">\n<title>4</title>\n<polygon fill=\"#eb9e67\" points=\"521,-306 373,-306 373,-223 521,-223 521,-306\" stroke=\"#000000\"/>\n<text fill=\"#000000\" font-family=\"Times,serif\" font-size=\"14.00\" text-anchor=\"middle\" x=\"447\" y=\"-290.8\">ground_service &lt;= 4.5</text>\n<text fill=\"#000000\" font-family=\"Times,serif\" font-size=\"14.00\" text-anchor=\"middle\" x=\"447\" y=\"-275.8\">entropy = 0.695</text>\n<text fill=\"#000000\" font-family=\"Times,serif\" font-size=\"14.00\" text-anchor=\"middle\" x=\"447\" y=\"-260.8\">samples = 4553</text>\n<text fill=\"#000000\" font-family=\"Times,serif\" font-size=\"14.00\" text-anchor=\"middle\" x=\"447\" y=\"-245.8\">value = [3702, 851]</text>\n<text fill=\"#000000\" font-family=\"Times,serif\" font-size=\"14.00\" text-anchor=\"middle\" x=\"447\" y=\"-230.8\">class = 0</text>\n</g>\n<!-- 1&#45;&gt;4 -->\n<g class=\"edge\" id=\"edge5\">\n<title>1-&gt;4</title>\n<path d=\"M447,-341.8796C447,-333.6838 447,-324.9891 447,-316.5013\" fill=\"none\" stroke=\"#000000\"/>\n<polygon fill=\"#000000\" points=\"450.5001,-316.298 447,-306.2981 443.5001,-316.2981 450.5001,-316.298\" stroke=\"#000000\"/>\n</g>\n<!-- 11 -->\n<g class=\"node\" id=\"node4\">\n<title>11</title>\n<polygon fill=\"#e5823a\" points=\"132,-179.5 0,-179.5 0,-111.5 132,-111.5 132,-179.5\" stroke=\"#000000\"/>\n<text fill=\"#000000\" font-family=\"Times,serif\" font-size=\"14.00\" text-anchor=\"middle\" x=\"66\" y=\"-164.3\">entropy = 0.04</text>\n<text fill=\"#000000\" font-family=\"Times,serif\" font-size=\"14.00\" text-anchor=\"middle\" x=\"66\" y=\"-149.3\">samples = 13317</text>\n<text fill=\"#000000\" font-family=\"Times,serif\" font-size=\"14.00\" text-anchor=\"middle\" x=\"66\" y=\"-134.3\">value = [13259, 58]</text>\n<text fill=\"#000000\" font-family=\"Times,serif\" font-size=\"14.00\" text-anchor=\"middle\" x=\"66\" y=\"-119.3\">class = 0</text>\n</g>\n<!-- 3&#45;&gt;11 -->\n<g class=\"edge\" id=\"edge3\">\n<title>3-&gt;11</title>\n<path d=\"M163.5373,-222.8796C148.5678,-211.0038 132.2778,-198.0804 117.3741,-186.2568\" fill=\"none\" stroke=\"#000000\"/>\n<polygon fill=\"#000000\" points=\"119.2635,-183.2881 109.2541,-179.8149 114.913,-188.772 119.2635,-183.2881\" stroke=\"#000000\"/>\n</g>\n<!-- 12 -->\n<g class=\"node\" id=\"node5\">\n<title>12</title>\n<polygon fill=\"#e68641\" points=\"282,-179.5 150,-179.5 150,-111.5 282,-111.5 282,-179.5\" stroke=\"#000000\"/>\n<text fill=\"#000000\" font-family=\"Times,serif\" font-size=\"14.00\" text-anchor=\"middle\" x=\"216\" y=\"-164.3\">entropy = 0.245</text>\n<text fill=\"#000000\" font-family=\"Times,serif\" font-size=\"14.00\" text-anchor=\"middle\" x=\"216\" y=\"-149.3\">samples = 3990</text>\n<text fill=\"#000000\" font-family=\"Times,serif\" font-size=\"14.00\" text-anchor=\"middle\" x=\"216\" y=\"-134.3\">value = [3828, 162]</text>\n<text fill=\"#000000\" font-family=\"Times,serif\" font-size=\"14.00\" text-anchor=\"middle\" x=\"216\" y=\"-119.3\">class = 0</text>\n</g>\n<!-- 3&#45;&gt;12 -->\n<g class=\"edge\" id=\"edge4\">\n<title>3-&gt;12</title>\n<path d=\"M216,-222.8796C216,-212.2134 216,-200.7021 216,-189.9015\" fill=\"none\" stroke=\"#000000\"/>\n<polygon fill=\"#000000\" points=\"219.5001,-189.8149 216,-179.8149 212.5001,-189.815 219.5001,-189.8149\" stroke=\"#000000\"/>\n</g>\n<!-- 7 -->\n<g class=\"node\" id=\"node7\">\n<title>7</title>\n<polygon fill=\"#e88f4f\" points=\"432,-179.5 300,-179.5 300,-111.5 432,-111.5 432,-179.5\" stroke=\"#000000\"/>\n<text fill=\"#000000\" font-family=\"Times,serif\" font-size=\"14.00\" text-anchor=\"middle\" x=\"366\" y=\"-164.3\">entropy = 0.472</text>\n<text fill=\"#000000\" font-family=\"Times,serif\" font-size=\"14.00\" text-anchor=\"middle\" x=\"366\" y=\"-149.3\">samples = 2663</text>\n<text fill=\"#000000\" font-family=\"Times,serif\" font-size=\"14.00\" text-anchor=\"middle\" x=\"366\" y=\"-134.3\">value = [2394, 269]</text>\n<text fill=\"#000000\" font-family=\"Times,serif\" font-size=\"14.00\" text-anchor=\"middle\" x=\"366\" y=\"-119.3\">class = 0</text>\n</g>\n<!-- 4&#45;&gt;7 -->\n<g class=\"edge\" id=\"edge6\">\n<title>4-&gt;7</title>\n<path d=\"M418.6701,-222.8796C411.0357,-211.6636 402.7652,-199.5131 395.0901,-188.2372\" fill=\"none\" stroke=\"#000000\"/>\n<polygon fill=\"#000000\" points=\"397.8775,-186.1122 389.3572,-179.8149 392.0908,-190.0511 397.8775,-186.1122\" stroke=\"#000000\"/>\n</g>\n<!-- 8 -->\n<g class=\"node\" id=\"node8\">\n<title>8</title>\n<polygon fill=\"#f1b991\" points=\"611.5,-187 450.5,-187 450.5,-104 611.5,-104 611.5,-187\" stroke=\"#000000\"/>\n<text fill=\"#000000\" font-family=\"Times,serif\" font-size=\"14.00\" text-anchor=\"middle\" x=\"531\" y=\"-171.8\">value_for_money &lt;= 7.0</text>\n<text fill=\"#000000\" font-family=\"Times,serif\" font-size=\"14.00\" text-anchor=\"middle\" x=\"531\" y=\"-156.8\">entropy = 0.891</text>\n<text fill=\"#000000\" font-family=\"Times,serif\" font-size=\"14.00\" text-anchor=\"middle\" x=\"531\" y=\"-141.8\">samples = 1890</text>\n<text fill=\"#000000\" font-family=\"Times,serif\" font-size=\"14.00\" text-anchor=\"middle\" x=\"531\" y=\"-126.8\">value = [1308, 582]</text>\n<text fill=\"#000000\" font-family=\"Times,serif\" font-size=\"14.00\" text-anchor=\"middle\" x=\"531\" y=\"-111.8\">class = 0</text>\n</g>\n<!-- 4&#45;&gt;8 -->\n<g class=\"edge\" id=\"edge7\">\n<title>4-&gt;8</title>\n<path d=\"M476.3791,-222.8796C482.6094,-214.0534 489.2481,-204.6485 495.673,-195.5466\" fill=\"none\" stroke=\"#000000\"/>\n<polygon fill=\"#000000\" points=\"498.588,-197.4862 501.4955,-187.2981 492.8692,-193.4494 498.588,-197.4862\" stroke=\"#000000\"/>\n</g>\n<!-- 15 -->\n<g class=\"node\" id=\"node9\">\n<title>15</title>\n<polygon fill=\"#eda673\" points=\"521.5,-68 396.5,-68 396.5,0 521.5,0 521.5,-68\" stroke=\"#000000\"/>\n<text fill=\"#000000\" font-family=\"Times,serif\" font-size=\"14.00\" text-anchor=\"middle\" x=\"459\" y=\"-52.8\">entropy = 0.771</text>\n<text fill=\"#000000\" font-family=\"Times,serif\" font-size=\"14.00\" text-anchor=\"middle\" x=\"459\" y=\"-37.8\">samples = 1273</text>\n<text fill=\"#000000\" font-family=\"Times,serif\" font-size=\"14.00\" text-anchor=\"middle\" x=\"459\" y=\"-22.8\">value = [985, 288]</text>\n<text fill=\"#000000\" font-family=\"Times,serif\" font-size=\"14.00\" text-anchor=\"middle\" x=\"459\" y=\"-7.8\">class = 0</text>\n</g>\n<!-- 8&#45;&gt;15 -->\n<g class=\"edge\" id=\"edge8\">\n<title>8-&gt;15</title>\n<path d=\"M504.1899,-103.9815C498.4331,-95.0666 492.3404,-85.6313 486.5559,-76.6734\" fill=\"none\" stroke=\"#000000\"/>\n<polygon fill=\"#000000\" points=\"489.4904,-74.7658 481.1254,-68.2637 483.6099,-78.5631 489.4904,-74.7658\" stroke=\"#000000\"/>\n</g>\n<!-- 16 -->\n<g class=\"node\" id=\"node10\">\n<title>16</title>\n<polygon fill=\"#fdf4ed\" points=\"664.5,-68 539.5,-68 539.5,0 664.5,0 664.5,-68\" stroke=\"#000000\"/>\n<text fill=\"#000000\" font-family=\"Times,serif\" font-size=\"14.00\" text-anchor=\"middle\" x=\"602\" y=\"-52.8\">entropy = 0.998</text>\n<text fill=\"#000000\" font-family=\"Times,serif\" font-size=\"14.00\" text-anchor=\"middle\" x=\"602\" y=\"-37.8\">samples = 617</text>\n<text fill=\"#000000\" font-family=\"Times,serif\" font-size=\"14.00\" text-anchor=\"middle\" x=\"602\" y=\"-22.8\">value = [323, 294]</text>\n<text fill=\"#000000\" font-family=\"Times,serif\" font-size=\"14.00\" text-anchor=\"middle\" x=\"602\" y=\"-7.8\">class = 0</text>\n</g>\n<!-- 8&#45;&gt;16 -->\n<g class=\"edge\" id=\"edge9\">\n<title>8-&gt;16</title>\n<path d=\"M557.4378,-103.9815C563.056,-95.1585 568.9988,-85.8258 574.6503,-76.9506\" fill=\"none\" stroke=\"#000000\"/>\n<polygon fill=\"#000000\" points=\"577.7629,-78.5787 580.1819,-68.2637 571.8584,-74.8188 577.7629,-78.5787\" stroke=\"#000000\"/>\n</g>\n<!-- 5 -->\n<g class=\"node\" id=\"node12\">\n<title>5</title>\n<polygon fill=\"#75bbed\" points=\"827,-306 695,-306 695,-223 827,-223 827,-306\" stroke=\"#000000\"/>\n<text fill=\"#000000\" font-family=\"Times,serif\" font-size=\"14.00\" text-anchor=\"middle\" x=\"761\" y=\"-290.8\">polarity &lt;= 0.683</text>\n<text fill=\"#000000\" font-family=\"Times,serif\" font-size=\"14.00\" text-anchor=\"middle\" x=\"761\" y=\"-275.8\">entropy = 0.784</text>\n<text fill=\"#000000\" font-family=\"Times,serif\" font-size=\"14.00\" text-anchor=\"middle\" x=\"761\" y=\"-260.8\">samples = 2507</text>\n<text fill=\"#000000\" font-family=\"Times,serif\" font-size=\"14.00\" text-anchor=\"middle\" x=\"761\" y=\"-245.8\">value = [585, 1922]</text>\n<text fill=\"#000000\" font-family=\"Times,serif\" font-size=\"14.00\" text-anchor=\"middle\" x=\"761\" y=\"-230.8\">class = 1</text>\n</g>\n<!-- 2&#45;&gt;5 -->\n<g class=\"edge\" id=\"edge11\">\n<title>2-&gt;5</title>\n<path d=\"M761,-341.8796C761,-333.6838 761,-324.9891 761,-316.5013\" fill=\"none\" stroke=\"#000000\"/>\n<polygon fill=\"#000000\" points=\"764.5001,-316.298 761,-306.2981 757.5001,-316.2981 764.5001,-316.298\" stroke=\"#000000\"/>\n</g>\n<!-- 6 -->\n<g class=\"node\" id=\"node15\">\n<title>6</title>\n<polygon fill=\"#3d9fe5\" points=\"1063,-306 915,-306 915,-223 1063,-223 1063,-306\" stroke=\"#000000\"/>\n<text fill=\"#000000\" font-family=\"Times,serif\" font-size=\"14.00\" text-anchor=\"middle\" x=\"989\" y=\"-290.8\">ground_service &lt;= 7.5</text>\n<text fill=\"#000000\" font-family=\"Times,serif\" font-size=\"14.00\" text-anchor=\"middle\" x=\"989\" y=\"-275.8\">entropy = 0.131</text>\n<text fill=\"#000000\" font-family=\"Times,serif\" font-size=\"14.00\" text-anchor=\"middle\" x=\"989\" y=\"-260.8\">samples = 17363</text>\n<text fill=\"#000000\" font-family=\"Times,serif\" font-size=\"14.00\" text-anchor=\"middle\" x=\"989\" y=\"-245.8\">value = [316, 17047]</text>\n<text fill=\"#000000\" font-family=\"Times,serif\" font-size=\"14.00\" text-anchor=\"middle\" x=\"989\" y=\"-230.8\">class = 1</text>\n</g>\n<!-- 2&#45;&gt;6 -->\n<g class=\"edge\" id=\"edge14\">\n<title>2-&gt;6</title>\n<path d=\"M840.7433,-341.8796C861.7553,-330.9128 884.4789,-319.0527 905.6742,-307.9902\" fill=\"none\" stroke=\"#000000\"/>\n<polygon fill=\"#000000\" points=\"907.4091,-311.0328 914.6548,-303.303 904.1702,-304.8272 907.4091,-311.0328\" stroke=\"#000000\"/>\n</g>\n<!-- 13 -->\n<g class=\"node\" id=\"node13\">\n<title>13</title>\n<polygon fill=\"#b3d9f5\" points=\"754.5,-179.5 629.5,-179.5 629.5,-111.5 754.5,-111.5 754.5,-179.5\" stroke=\"#000000\"/>\n<text fill=\"#000000\" font-family=\"Times,serif\" font-size=\"14.00\" text-anchor=\"middle\" x=\"692\" y=\"-164.3\">entropy = 0.959</text>\n<text fill=\"#000000\" font-family=\"Times,serif\" font-size=\"14.00\" text-anchor=\"middle\" x=\"692\" y=\"-149.3\">samples = 1059</text>\n<text fill=\"#000000\" font-family=\"Times,serif\" font-size=\"14.00\" text-anchor=\"middle\" x=\"692\" y=\"-134.3\">value = [404, 655]</text>\n<text fill=\"#000000\" font-family=\"Times,serif\" font-size=\"14.00\" text-anchor=\"middle\" x=\"692\" y=\"-119.3\">class = 1</text>\n</g>\n<!-- 5&#45;&gt;13 -->\n<g class=\"edge\" id=\"edge12\">\n<title>5-&gt;13</title>\n<path d=\"M736.8671,-222.8796C730.4275,-211.7735 723.4566,-199.7513 716.9729,-188.5691\" fill=\"none\" stroke=\"#000000\"/>\n<polygon fill=\"#000000\" points=\"719.9409,-186.7102 711.8969,-179.8149 713.8852,-190.2215 719.9409,-186.7102\" stroke=\"#000000\"/>\n</g>\n<!-- 14 -->\n<g class=\"node\" id=\"node14\">\n<title>14</title>\n<polygon fill=\"#55abe9\" points=\"905,-179.5 773,-179.5 773,-111.5 905,-111.5 905,-179.5\" stroke=\"#000000\"/>\n<text fill=\"#000000\" font-family=\"Times,serif\" font-size=\"14.00\" text-anchor=\"middle\" x=\"839\" y=\"-164.3\">entropy = 0.544</text>\n<text fill=\"#000000\" font-family=\"Times,serif\" font-size=\"14.00\" text-anchor=\"middle\" x=\"839\" y=\"-149.3\">samples = 1448</text>\n<text fill=\"#000000\" font-family=\"Times,serif\" font-size=\"14.00\" text-anchor=\"middle\" x=\"839\" y=\"-134.3\">value = [181, 1267]</text>\n<text fill=\"#000000\" font-family=\"Times,serif\" font-size=\"14.00\" text-anchor=\"middle\" x=\"839\" y=\"-119.3\">class = 1</text>\n</g>\n<!-- 5&#45;&gt;14 -->\n<g class=\"edge\" id=\"edge13\">\n<title>5-&gt;14</title>\n<path d=\"M788.2806,-222.8796C795.6323,-211.6636 803.5964,-199.5131 810.9874,-188.2372\" fill=\"none\" stroke=\"#000000\"/>\n<polygon fill=\"#000000\" points=\"813.9531,-190.0972 816.5079,-179.8149 808.0986,-186.2598 813.9531,-190.0972\" stroke=\"#000000\"/>\n</g>\n<!-- 9 -->\n<g class=\"node\" id=\"node16\">\n<title>9</title>\n<polygon fill=\"#46a4e7\" points=\"1055,-179.5 923,-179.5 923,-111.5 1055,-111.5 1055,-179.5\" stroke=\"#000000\"/>\n<text fill=\"#000000\" font-family=\"Times,serif\" font-size=\"14.00\" text-anchor=\"middle\" x=\"989\" y=\"-164.3\">entropy = 0.341</text>\n<text fill=\"#000000\" font-family=\"Times,serif\" font-size=\"14.00\" text-anchor=\"middle\" x=\"989\" y=\"-149.3\">samples = 2894</text>\n<text fill=\"#000000\" font-family=\"Times,serif\" font-size=\"14.00\" text-anchor=\"middle\" x=\"989\" y=\"-134.3\">value = [184, 2710]</text>\n<text fill=\"#000000\" font-family=\"Times,serif\" font-size=\"14.00\" text-anchor=\"middle\" x=\"989\" y=\"-119.3\">class = 1</text>\n</g>\n<!-- 6&#45;&gt;9 -->\n<g class=\"edge\" id=\"edge15\">\n<title>6-&gt;9</title>\n<path d=\"M989,-222.8796C989,-212.2134 989,-200.7021 989,-189.9015\" fill=\"none\" stroke=\"#000000\"/>\n<polygon fill=\"#000000\" points=\"992.5001,-189.8149 989,-179.8149 985.5001,-189.815 992.5001,-189.8149\" stroke=\"#000000\"/>\n</g>\n<!-- 10 -->\n<g class=\"node\" id=\"node17\">\n<title>10</title>\n<polygon fill=\"#3b9ee5\" points=\"1255,-187 1073,-187 1073,-104 1255,-104 1255,-187\" stroke=\"#000000\"/>\n<text fill=\"#000000\" font-family=\"Times,serif\" font-size=\"14.00\" text-anchor=\"middle\" x=\"1164\" y=\"-171.8\">review_date_year &lt;= 2011.5</text>\n<text fill=\"#000000\" font-family=\"Times,serif\" font-size=\"14.00\" text-anchor=\"middle\" x=\"1164\" y=\"-156.8\">entropy = 0.075</text>\n<text fill=\"#000000\" font-family=\"Times,serif\" font-size=\"14.00\" text-anchor=\"middle\" x=\"1164\" y=\"-141.8\">samples = 14469</text>\n<text fill=\"#000000\" font-family=\"Times,serif\" font-size=\"14.00\" text-anchor=\"middle\" x=\"1164\" y=\"-126.8\">value = [132, 14337]</text>\n<text fill=\"#000000\" font-family=\"Times,serif\" font-size=\"14.00\" text-anchor=\"middle\" x=\"1164\" y=\"-111.8\">class = 1</text>\n</g>\n<!-- 6&#45;&gt;10 -->\n<g class=\"edge\" id=\"edge16\">\n<title>6-&gt;10</title>\n<path d=\"M1050.2065,-222.8796C1064.4606,-213.1868 1079.741,-202.7961 1094.3307,-192.8752\" fill=\"none\" stroke=\"#000000\"/>\n<polygon fill=\"#000000\" points=\"1096.5269,-195.6143 1102.8281,-187.0969 1092.5907,-189.8258 1096.5269,-195.6143\" stroke=\"#000000\"/>\n</g>\n<!-- 17 -->\n<g class=\"node\" id=\"node18\">\n<title>17</title>\n<polygon fill=\"#47a4e7\" points=\"1150.5,-68 1033.5,-68 1033.5,0 1150.5,0 1150.5,-68\" stroke=\"#000000\"/>\n<text fill=\"#000000\" font-family=\"Times,serif\" font-size=\"14.00\" text-anchor=\"middle\" x=\"1092\" y=\"-52.8\">entropy = 0.345</text>\n<text fill=\"#000000\" font-family=\"Times,serif\" font-size=\"14.00\" text-anchor=\"middle\" x=\"1092\" y=\"-37.8\">samples = 652</text>\n<text fill=\"#000000\" font-family=\"Times,serif\" font-size=\"14.00\" text-anchor=\"middle\" x=\"1092\" y=\"-22.8\">value = [42, 610]</text>\n<text fill=\"#000000\" font-family=\"Times,serif\" font-size=\"14.00\" text-anchor=\"middle\" x=\"1092\" y=\"-7.8\">class = 1</text>\n</g>\n<!-- 10&#45;&gt;17 -->\n<g class=\"edge\" id=\"edge17\">\n<title>10-&gt;17</title>\n<path d=\"M1137.1899,-103.9815C1131.4331,-95.0666 1125.3404,-85.6313 1119.5559,-76.6734\" fill=\"none\" stroke=\"#000000\"/>\n<polygon fill=\"#000000\" points=\"1122.4904,-74.7658 1114.1254,-68.2637 1116.6099,-78.5631 1122.4904,-74.7658\" stroke=\"#000000\"/>\n</g>\n<!-- 18 -->\n<g class=\"node\" id=\"node19\">\n<title>18</title>\n<polygon fill=\"#3a9ee5\" points=\"1301,-68 1169,-68 1169,0 1301,0 1301,-68\" stroke=\"#000000\"/>\n<text fill=\"#000000\" font-family=\"Times,serif\" font-size=\"14.00\" text-anchor=\"middle\" x=\"1235\" y=\"-52.8\">entropy = 0.057</text>\n<text fill=\"#000000\" font-family=\"Times,serif\" font-size=\"14.00\" text-anchor=\"middle\" x=\"1235\" y=\"-37.8\">samples = 13817</text>\n<text fill=\"#000000\" font-family=\"Times,serif\" font-size=\"14.00\" text-anchor=\"middle\" x=\"1235\" y=\"-22.8\">value = [90, 13727]</text>\n<text fill=\"#000000\" font-family=\"Times,serif\" font-size=\"14.00\" text-anchor=\"middle\" x=\"1235\" y=\"-7.8\">class = 1</text>\n</g>\n<!-- 10&#45;&gt;18 -->\n<g class=\"edge\" id=\"edge18\">\n<title>10-&gt;18</title>\n<path d=\"M1190.4378,-103.9815C1196.056,-95.1585 1201.9988,-85.8258 1207.6503,-76.9506\" fill=\"none\" stroke=\"#000000\"/>\n<polygon fill=\"#000000\" points=\"1210.7629,-78.5787 1213.1819,-68.2637 1204.8584,-74.8188 1210.7629,-78.5787\" stroke=\"#000000\"/>\n</g>\n</g>\n</svg>"
          },
          "metadata": {
            "tags": []
          }
        }
      ]
    },
    {
      "cell_type": "code",
      "metadata": {
        "id": "qFqbPoIDW8fC",
        "colab": {
          "base_uri": "https://localhost:8080/"
        },
        "outputId": "20cfe959-0651-4517-ca97-dc87a0a40344"
      },
      "source": [
        "pip install shap"
      ],
      "execution_count": 127,
      "outputs": [
        {
          "output_type": "stream",
          "text": [
            "Collecting shap\n",
            "\u001b[?25l  Downloading https://files.pythonhosted.org/packages/b9/f4/c5b95cddae15be80f8e58b25edceca105aa83c0b8c86a1edad24a6af80d3/shap-0.39.0.tar.gz (356kB)\n",
            "\u001b[K     |████████████████████████████████| 358kB 6.5MB/s \n",
            "\u001b[?25hRequirement already satisfied: numpy in /usr/local/lib/python3.7/dist-packages (from shap) (1.19.5)\n",
            "Requirement already satisfied: scipy in /usr/local/lib/python3.7/dist-packages (from shap) (1.4.1)\n",
            "Requirement already satisfied: scikit-learn in /usr/local/lib/python3.7/dist-packages (from shap) (0.22.2.post1)\n",
            "Requirement already satisfied: pandas in /usr/local/lib/python3.7/dist-packages (from shap) (1.1.5)\n",
            "Requirement already satisfied: tqdm>4.25.0 in /usr/local/lib/python3.7/dist-packages (from shap) (4.41.1)\n",
            "Collecting slicer==0.0.7\n",
            "  Downloading https://files.pythonhosted.org/packages/78/c2/b3f55dfdb8af9812fdb9baf70cacf3b9e82e505b2bd4324d588888b81202/slicer-0.0.7-py3-none-any.whl\n",
            "Requirement already satisfied: numba in /usr/local/lib/python3.7/dist-packages (from shap) (0.51.2)\n",
            "Requirement already satisfied: cloudpickle in /usr/local/lib/python3.7/dist-packages (from shap) (1.3.0)\n",
            "Requirement already satisfied: joblib>=0.11 in /usr/local/lib/python3.7/dist-packages (from scikit-learn->shap) (1.0.1)\n",
            "Requirement already satisfied: pytz>=2017.2 in /usr/local/lib/python3.7/dist-packages (from pandas->shap) (2018.9)\n",
            "Requirement already satisfied: python-dateutil>=2.7.3 in /usr/local/lib/python3.7/dist-packages (from pandas->shap) (2.8.1)\n",
            "Requirement already satisfied: llvmlite<0.35,>=0.34.0.dev0 in /usr/local/lib/python3.7/dist-packages (from numba->shap) (0.34.0)\n",
            "Requirement already satisfied: setuptools in /usr/local/lib/python3.7/dist-packages (from numba->shap) (56.1.0)\n",
            "Requirement already satisfied: six>=1.5 in /usr/local/lib/python3.7/dist-packages (from python-dateutil>=2.7.3->pandas->shap) (1.15.0)\n",
            "Building wheels for collected packages: shap\n",
            "  Building wheel for shap (setup.py) ... \u001b[?25l\u001b[?25hdone\n",
            "  Created wheel for shap: filename=shap-0.39.0-cp37-cp37m-linux_x86_64.whl size=491620 sha256=3879ab213b6da731152c213324068387abdcc6f6d768e4d522e65a02d8f94e33\n",
            "  Stored in directory: /root/.cache/pip/wheels/15/27/f5/a8ab9da52fd159aae6477b5ede6eaaec69fd130fa0fa59f283\n",
            "Successfully built shap\n",
            "Installing collected packages: slicer, shap\n",
            "Successfully installed shap-0.39.0 slicer-0.0.7\n"
          ],
          "name": "stdout"
        }
      ]
    },
    {
      "cell_type": "code",
      "metadata": {
        "id": "GCPvSdtxW_xV"
      },
      "source": [
        "import shap"
      ],
      "execution_count": 128,
      "outputs": []
    },
    {
      "cell_type": "code",
      "metadata": {
        "id": "nB-3vV3DTMjS"
      },
      "source": [
        "# Get feature importance on training data\n",
        "X_shap=X_train\n",
        "explainer = shap.TreeExplainer(decision_classifier)\n",
        "shap_values = explainer.shap_values(X_shap)"
      ],
      "execution_count": 129,
      "outputs": []
    },
    {
      "cell_type": "code",
      "metadata": {
        "id": "dYtzgmG7WZ0S",
        "colab": {
          "base_uri": "https://localhost:8080/",
          "height": 564
        },
        "outputId": "e63bf7b6-28b8-424d-cf77-4ee313114f44"
      },
      "source": [
        "shap.summary_plot(shap_values[1], X_shap, plot_type= \"violin\")"
      ],
      "execution_count": 130,
      "outputs": [
        {
          "output_type": "display_data",
          "data": {
            "image/png": "[encoded data removed]",
            "text/plain": [
              "<Figure size 576x655.2 with 2 Axes>"
            ]
          },
          "metadata": {
            "tags": [],
            "needs_background": "light"
          }
        }
      ]
    },
    {
      "cell_type": "markdown",
      "metadata": {
        "id": "cNlTDKI9KZIy"
      },
      "source": [
        "## Getting results on different models"
      ]
    },
    {
      "cell_type": "code",
      "metadata": {
        "id": "99EnKOIVIyu2"
      },
      "source": [
        "# importing all models from sklearn\n",
        "from sklearn.linear_model import LogisticRegression\n",
        "from sklearn.tree import DecisionTreeClassifier\n",
        "from sklearn.ensemble import RandomForestClassifier\n",
        "from sklearn.ensemble import GradientBoostingClassifier\n",
        "from xgboost import XGBClassifier\n",
        "from sklearn.svm import LinearSVC"
      ],
      "execution_count": 131,
      "outputs": []
    },
    {
      "cell_type": "code",
      "metadata": {
        "id": "v2p-1PBHIwh_"
      },
      "source": [
        "# importing  metrics for evaluation  \n",
        "from sklearn.metrics import accuracy_score,confusion_matrix\n",
        "from sklearn.metrics import precision_score\n",
        "from sklearn.metrics import recall_score\n",
        "from sklearn.metrics import f1_score\n",
        "from sklearn.metrics import roc_auc_score\n",
        "from sklearn.metrics import roc_curve\n",
        "from sklearn.metrics import auc"
      ],
      "execution_count": 132,
      "outputs": []
    },
    {
      "cell_type": "code",
      "metadata": {
        "id": "gJ_Y2xBdIonx"
      },
      "source": [
        "#declare the models\n",
        "lr_model=LogisticRegression(C=5)\n",
        "dt_model=DecisionTreeClassifier()\n",
        "rf_model=RandomForestClassifier(max_depth= 60, min_samples_leaf = 1, min_samples_split= 5)\n",
        "gbc_model=GradientBoostingClassifier()\n",
        "xgb_model=XGBClassifier()\n",
        "svc_model=LinearSVC()\n",
        "\n",
        "\n",
        "\n",
        "#create a list of models\n",
        "models=[lr_model,svc_model,dt_model,rf_model,gbc_model,xgb_model]\n",
        "\n",
        "#creating dictionay for storing the confustion matix\n",
        "dct_train={}\n",
        "dct_test={}\n",
        "lst_imp=[]\n",
        "# fuction for calculation the eveluation matrix\n",
        "def score_model(X_train,y_train,X_test,y_test):\n",
        "    df_columns=[]\n",
        "    df=pd.DataFrame(columns=df_columns)\n",
        "    i=0\n",
        "    #read model one by one\n",
        "    for model in models:\n",
        "    \n",
        "        model.fit(X_train,y_train)\n",
        "        \n",
        "        y_pred=model.predict(X_test)\n",
        "        y_pred_train=model.predict(X_train)\n",
        "        \n",
        "        #compute metrics\n",
        "        train_accuracy=accuracy_score(y_train,y_pred_train)\n",
        "        test_accuracy=accuracy_score(y_test,y_pred)\n",
        "        p_score_train=precision_score(y_train,y_pred_train)\n",
        "        p_score=precision_score(y_test,y_pred)\n",
        "        r_score_train=recall_score(y_train,y_pred_train)\n",
        "        r_score=recall_score(y_test,y_pred)\n",
        "        train_auc = roc_auc_score(y_train,y_pred_train)\n",
        "        test_auc = roc_auc_score(y_test,y_pred)\n",
        "        fp, tp, th = roc_curve(y_test, y_pred)\n",
        "        \n",
        "        #insert in dataframe\n",
        "        df.loc[i,\"Model_Name\"]=model.__class__.__name__\n",
        "        df.loc[i,\"Train_Accuracy\"]=round(train_accuracy*100,2)\n",
        "        df.loc[i,\"Test_Accuracy\"]=round(test_accuracy*100,2)\n",
        "        df.loc[i,\"Precision_Train\"]=round(p_score_train*100,2)\n",
        "        df.loc[i,\"Precision_Test\"]=round(p_score*100,2)\n",
        "        df.loc[i,\"Recall_Train\"]=round(r_score_train*100,2)\n",
        "        df.loc[i,\"Recall_test\"]=round(r_score*100,2)\n",
        "        df.loc[i,\"ROC_AUC_Train\"]=round(train_auc*100,2)\n",
        "        df.loc[i,\"ROC_AUC_Test\"]=round(test_auc*100,2)\n",
        "        df.loc[i,'AUC'] = auc(fp, tp)\n",
        "       \n",
        "        #inserted in dictionary\n",
        "        dct_train[model.__class__.__name__]=confusion_matrix(y_train,y_pred_train)\n",
        "        dct_test[model.__class__.__name__]=confusion_matrix(y_test,y_pred)\n",
        "\n",
        "        i+=1\n",
        "    # Return the data frame and dictionary\n",
        "    return df,dct_train,dct_test"
      ],
      "execution_count": 136,
      "outputs": []
    },
    {
      "cell_type": "code",
      "metadata": {
        "colab": {
          "base_uri": "https://localhost:8080/"
        },
        "id": "VIMEzW1gJGZl",
        "outputId": "3e6a0c70-c7ee-4b9c-f4aa-e8347242bbdd"
      },
      "source": [
        "result_df,dct_train,dct_test=score_model(X_train,y_train,X_test,y_test)"
      ],
      "execution_count": 137,
      "outputs": [
        {
          "output_type": "stream",
          "text": [
            "lbfgs failed to converge (status=1):\n",
            "STOP: TOTAL NO. of ITERATIONS REACHED LIMIT.\n",
            "\n",
            "Increase the number of iterations (max_iter) or scale the data as shown in:\n",
            "    https://scikit-learn.org/stable/modules/preprocessing.html\n",
            "Please also refer to the documentation for alternative solver options:\n",
            "    https://scikit-learn.org/stable/modules/linear_model.html#logistic-regression\n",
            "Liblinear failed to converge, increase the number of iterations.\n"
          ],
          "name": "stderr"
        }
      ]
    },
    {
      "cell_type": "code",
      "metadata": {
        "colab": {
          "base_uri": "https://localhost:8080/",
          "height": 225
        },
        "id": "YOHvK5UgKV6t",
        "outputId": "630be1eb-0a35-4296-bd9e-49f5f5a302d8"
      },
      "source": [
        "result_df"
      ],
      "execution_count": 138,
      "outputs": [
        {
          "output_type": "execute_result",
          "data": {
            "text/html": [
              "<div>\n",
              "<style scoped>\n",
              "    .dataframe tbody tr th:only-of-type {\n",
              "        vertical-align: middle;\n",
              "    }\n",
              "\n",
              "    .dataframe tbody tr th {\n",
              "        vertical-align: top;\n",
              "    }\n",
              "\n",
              "    .dataframe thead th {\n",
              "        text-align: right;\n",
              "    }\n",
              "</style>\n",
              "<table border=\"1\" class=\"dataframe\">\n",
              "  <thead>\n",
              "    <tr style=\"text-align: right;\">\n",
              "      <th></th>\n",
              "      <th>Model_Name</th>\n",
              "      <th>Train_Accuracy</th>\n",
              "      <th>Test_Accuracy</th>\n",
              "      <th>Precision_Train</th>\n",
              "      <th>Precision_Test</th>\n",
              "      <th>Recall_Train</th>\n",
              "      <th>Recall_test</th>\n",
              "      <th>ROC_AUC_Train</th>\n",
              "      <th>ROC_AUC_Test</th>\n",
              "      <th>AUC</th>\n",
              "    </tr>\n",
              "  </thead>\n",
              "  <tbody>\n",
              "    <tr>\n",
              "      <th>0</th>\n",
              "      <td>LogisticRegression</td>\n",
              "      <td>95.36</td>\n",
              "      <td>95.49</td>\n",
              "      <td>95.18</td>\n",
              "      <td>95.09</td>\n",
              "      <td>95.16</td>\n",
              "      <td>95.38</td>\n",
              "      <td>95.36</td>\n",
              "      <td>95.49</td>\n",
              "      <td>0.954875</td>\n",
              "    </tr>\n",
              "    <tr>\n",
              "      <th>1</th>\n",
              "      <td>LinearSVC</td>\n",
              "      <td>95.33</td>\n",
              "      <td>95.47</td>\n",
              "      <td>95.06</td>\n",
              "      <td>95.16</td>\n",
              "      <td>95.22</td>\n",
              "      <td>95.25</td>\n",
              "      <td>95.33</td>\n",
              "      <td>95.46</td>\n",
              "      <td>0.954594</td>\n",
              "    </tr>\n",
              "    <tr>\n",
              "      <th>2</th>\n",
              "      <td>DecisionTreeClassifier</td>\n",
              "      <td>100.00</td>\n",
              "      <td>93.51</td>\n",
              "      <td>100.00</td>\n",
              "      <td>93.21</td>\n",
              "      <td>100.00</td>\n",
              "      <td>93.02</td>\n",
              "      <td>100.00</td>\n",
              "      <td>93.48</td>\n",
              "      <td>0.934829</td>\n",
              "    </tr>\n",
              "    <tr>\n",
              "      <th>3</th>\n",
              "      <td>RandomForestClassifier</td>\n",
              "      <td>98.81</td>\n",
              "      <td>95.89</td>\n",
              "      <td>98.88</td>\n",
              "      <td>96.22</td>\n",
              "      <td>98.65</td>\n",
              "      <td>95.03</td>\n",
              "      <td>98.81</td>\n",
              "      <td>95.84</td>\n",
              "      <td>0.958447</td>\n",
              "    </tr>\n",
              "    <tr>\n",
              "      <th>4</th>\n",
              "      <td>GradientBoostingClassifier</td>\n",
              "      <td>95.81</td>\n",
              "      <td>95.83</td>\n",
              "      <td>95.87</td>\n",
              "      <td>95.84</td>\n",
              "      <td>95.39</td>\n",
              "      <td>95.31</td>\n",
              "      <td>95.80</td>\n",
              "      <td>95.81</td>\n",
              "      <td>0.958067</td>\n",
              "    </tr>\n",
              "    <tr>\n",
              "      <th>5</th>\n",
              "      <td>XGBClassifier</td>\n",
              "      <td>95.74</td>\n",
              "      <td>95.83</td>\n",
              "      <td>95.89</td>\n",
              "      <td>95.97</td>\n",
              "      <td>95.21</td>\n",
              "      <td>95.17</td>\n",
              "      <td>95.72</td>\n",
              "      <td>95.80</td>\n",
              "      <td>0.957992</td>\n",
              "    </tr>\n",
              "  </tbody>\n",
              "</table>\n",
              "</div>"
            ],
            "text/plain": [
              "                   Model_Name  Train_Accuracy  ...  ROC_AUC_Test       AUC\n",
              "0          LogisticRegression           95.36  ...         95.49  0.954875\n",
              "1                   LinearSVC           95.33  ...         95.46  0.954594\n",
              "2      DecisionTreeClassifier          100.00  ...         93.48  0.934829\n",
              "3      RandomForestClassifier           98.81  ...         95.84  0.958447\n",
              "4  GradientBoostingClassifier           95.81  ...         95.81  0.958067\n",
              "5               XGBClassifier           95.74  ...         95.80  0.957992\n",
              "\n",
              "[6 rows x 10 columns]"
            ]
          },
          "metadata": {
            "tags": []
          },
          "execution_count": 138
        }
      ]
    }
  ]
}