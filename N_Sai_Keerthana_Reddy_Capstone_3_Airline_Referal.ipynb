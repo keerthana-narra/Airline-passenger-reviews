{
  "nbformat": 4,
  "nbformat_minor": 0,
  "metadata": {
    "colab": {
      "name": "N.Sai Keerthana Reddy_Capstone 3_Airline Referal.ipynb",
      "provenance": [],
      "collapsed_sections": [
        "8m_t5tflyo0e",
        "9W2XQdjRy0R5",
        "of7Fi66gP9WC",
        "tsAYqnBuZbES",
        "oaJdbgiBdYua"
      ],
      "toc_visible": true,
      "authorship_tag": "ABX9TyOh01j0pBmhr9Vz9s+w/Rw5",
      "include_colab_link": true
    },
    "kernelspec": {
      "name": "python3",
      "display_name": "Python 3"
    },
    "language_info": {
      "name": "python"
    }
  },
  "cells": [
    {
      "cell_type": "markdown",
      "metadata": {
        "id": "view-in-github",
        "colab_type": "text"
      },
      "source": [
        "<a href=\"https://colab.research.google.com/github/keerthana-narra/Airline-passenger-reviews/blob/main/N_Sai_Keerthana_Reddy_Capstone_3_Airline_Referal.ipynb\" target=\"_parent\"><img src=\"https://colab.research.google.com/assets/colab-badge.svg\" alt=\"Open In Colab\"/></a>"
      ]
    },
    {
      "cell_type": "markdown",
      "metadata": {
        "id": "7RQBl0wpjXcm"
      },
      "source": [
        "##Problem Statement -\n",
        "Data includes airline reviews from 2006 to 2019 for popular airlines around the world with\n",
        "multiple choice and free text questions. Data is scraped in Spring 2019. The main objective\n",
        "is to predict whether passengers will refer the airline to their friends.\n",
        "\n"
      ]
    },
    {
      "cell_type": "markdown",
      "metadata": {
        "id": "8m_t5tflyo0e"
      },
      "source": [
        "## Loading data and Importing libraries\n",
        "\n"
      ]
    },
    {
      "cell_type": "code",
      "metadata": {
        "colab": {
          "base_uri": "https://localhost:8080/"
        },
        "id": "EYrjJtMeyEI_",
        "outputId": "9a4343fd-013e-4b16-a0fc-0bba476b9052"
      },
      "source": [
        "# Mounting drive\n",
        "from google.colab import drive\n",
        "drive.mount('/content/drive')\n",
        "\n"
      ],
      "execution_count": null,
      "outputs": [
        {
          "output_type": "stream",
          "text": [
            "Drive already mounted at /content/drive; to attempt to forcibly remount, call drive.mount(\"/content/drive\", force_remount=True).\n"
          ],
          "name": "stdout"
        }
      ]
    },
    {
      "cell_type": "code",
      "metadata": {
        "id": "PzaKSNveyPEr"
      },
      "source": [
        "# importing libraries\n",
        "import pandas as pd\n",
        "import numpy as np\n",
        "import matplotlib.pyplot as plt\n",
        "import seaborn as sns\n",
        "import warnings\n",
        "sns.set_palette('Set2')\n",
        "\n",
        "import datetime as dt\n",
        "import dateutil\n",
        "\n",
        "import importlib\n"
      ],
      "execution_count": null,
      "outputs": []
    },
    {
      "cell_type": "code",
      "metadata": {
        "id": "MTMh82EAyRr8"
      },
      "source": [
        "missing_values = ['N/a', 'na', 'np-nan']"
      ],
      "execution_count": null,
      "outputs": []
    },
    {
      "cell_type": "code",
      "metadata": {
        "id": "Pi3bxJfJyRom"
      },
      "source": [
        "#Reading data\n",
        "data = pd.read_excel(\"/content/drive/MyDrive/Almabetter/Cohort Nilgiri/capstone projects/capstone-3/Copy of data_airline_reviews.xlsx\", na_values= missing_values)"
      ],
      "execution_count": null,
      "outputs": []
    },
    {
      "cell_type": "markdown",
      "metadata": {
        "id": "9W2XQdjRy0R5"
      },
      "source": [
        "## Understanding data"
      ]
    },
    {
      "cell_type": "code",
      "metadata": {
        "colab": {
          "base_uri": "https://localhost:8080/"
        },
        "id": "_MptNBdhyXeh",
        "outputId": "1634bf0c-c482-4929-f12e-3a1d4aa08b7c"
      },
      "source": [
        "#Shape of dataset\n",
        "data.shape"
      ],
      "execution_count": null,
      "outputs": [
        {
          "output_type": "execute_result",
          "data": {
            "text/plain": [
              "(131895, 17)"
            ]
          },
          "metadata": {
            "tags": []
          },
          "execution_count": 5
        }
      ]
    },
    {
      "cell_type": "code",
      "metadata": {
        "colab": {
          "base_uri": "https://localhost:8080/"
        },
        "id": "8SOwdblMkLIU",
        "outputId": "028f16fa-01d2-4aa9-d125-c8b447dd02fb"
      },
      "source": [
        "# Columns present in the dataset\n",
        "data.columns"
      ],
      "execution_count": null,
      "outputs": [
        {
          "output_type": "execute_result",
          "data": {
            "text/plain": [
              "Index(['airline', 'overall', 'author', 'review_date', 'customer_review',\n",
              "       'aircraft', 'traveller_type', 'cabin', 'route', 'date_flown',\n",
              "       'seat_comfort', 'cabin_service', 'food_bev', 'entertainment',\n",
              "       'ground_service', 'value_for_money', 'recommended'],\n",
              "      dtype='object')"
            ]
          },
          "metadata": {
            "tags": []
          },
          "execution_count": 6
        }
      ]
    },
    {
      "cell_type": "markdown",
      "metadata": {
        "id": "99gDVTHhkJxI"
      },
      "source": [
        "Feature descriptions briefly as follows:\n",
        "\n",
        "airline: Name of the airline.\n",
        "\n",
        "overall: Overall point is given to the trip between 1 to 10.\n",
        "\n",
        "author: Author of the trip\n",
        "\n",
        "reviewdate: Date of the Review customer review: Review of the customers in free text format\n",
        "\n",
        "aircraft: Type of the aircraft\n",
        "\n",
        "travellertype: Type of traveler (e.g. business, leisure)\n",
        "\n",
        "cabin: Cabin at the flight date flown: Flight date\n",
        "\n",
        "seatcomfort: Rated between 1-5\n",
        "\n",
        "cabin service: Rated between 1-5\n",
        "\n",
        "foodbev: Rated between 1-5 entertainment: Rated between 1-5\n",
        "\n",
        "groundservice: Rated between 1-5\n",
        "\n",
        "valueformoney: Rated between 1-5\n",
        "\n",
        "recommended: Binary, target variable."
      ]
    },
    {
      "cell_type": "code",
      "metadata": {
        "colab": {
          "base_uri": "https://localhost:8080/",
          "height": 282
        },
        "id": "Ye5-3Ee6yauX",
        "outputId": "fdf92005-7abb-4925-a3e4-4b8687f1cb76"
      },
      "source": [
        "#Acessing top 5 rows\n",
        "data.head()"
      ],
      "execution_count": null,
      "outputs": [
        {
          "output_type": "execute_result",
          "data": {
            "text/html": [
              "<div>\n",
              "<style scoped>\n",
              "    .dataframe tbody tr th:only-of-type {\n",
              "        vertical-align: middle;\n",
              "    }\n",
              "\n",
              "    .dataframe tbody tr th {\n",
              "        vertical-align: top;\n",
              "    }\n",
              "\n",
              "    .dataframe thead th {\n",
              "        text-align: right;\n",
              "    }\n",
              "</style>\n",
              "<table border=\"1\" class=\"dataframe\">\n",
              "  <thead>\n",
              "    <tr style=\"text-align: right;\">\n",
              "      <th></th>\n",
              "      <th>airline</th>\n",
              "      <th>overall</th>\n",
              "      <th>author</th>\n",
              "      <th>review_date</th>\n",
              "      <th>customer_review</th>\n",
              "      <th>aircraft</th>\n",
              "      <th>traveller_type</th>\n",
              "      <th>cabin</th>\n",
              "      <th>route</th>\n",
              "      <th>date_flown</th>\n",
              "      <th>seat_comfort</th>\n",
              "      <th>cabin_service</th>\n",
              "      <th>food_bev</th>\n",
              "      <th>entertainment</th>\n",
              "      <th>ground_service</th>\n",
              "      <th>value_for_money</th>\n",
              "      <th>recommended</th>\n",
              "    </tr>\n",
              "  </thead>\n",
              "  <tbody>\n",
              "    <tr>\n",
              "      <th>0</th>\n",
              "      <td>NaN</td>\n",
              "      <td>NaN</td>\n",
              "      <td>NaN</td>\n",
              "      <td>NaN</td>\n",
              "      <td>NaN</td>\n",
              "      <td>NaN</td>\n",
              "      <td>NaN</td>\n",
              "      <td>NaN</td>\n",
              "      <td>NaN</td>\n",
              "      <td>NaN</td>\n",
              "      <td>NaN</td>\n",
              "      <td>NaN</td>\n",
              "      <td>NaN</td>\n",
              "      <td>NaN</td>\n",
              "      <td>NaN</td>\n",
              "      <td>NaN</td>\n",
              "      <td>NaN</td>\n",
              "    </tr>\n",
              "    <tr>\n",
              "      <th>1</th>\n",
              "      <td>Turkish Airlines</td>\n",
              "      <td>7.0</td>\n",
              "      <td>Christopher Hackley</td>\n",
              "      <td>8th May 2019</td>\n",
              "      <td>âœ… Trip Verified | London to Izmir via Istanb...</td>\n",
              "      <td>NaN</td>\n",
              "      <td>Business</td>\n",
              "      <td>Economy Class</td>\n",
              "      <td>London to Izmir via Istanbul</td>\n",
              "      <td>2019-05-01 00:00:00</td>\n",
              "      <td>4.0</td>\n",
              "      <td>5.0</td>\n",
              "      <td>4.0</td>\n",
              "      <td>4.0</td>\n",
              "      <td>2.0</td>\n",
              "      <td>4.0</td>\n",
              "      <td>yes</td>\n",
              "    </tr>\n",
              "    <tr>\n",
              "      <th>2</th>\n",
              "      <td>NaN</td>\n",
              "      <td>NaN</td>\n",
              "      <td>NaN</td>\n",
              "      <td>NaN</td>\n",
              "      <td>NaN</td>\n",
              "      <td>NaN</td>\n",
              "      <td>NaN</td>\n",
              "      <td>NaN</td>\n",
              "      <td>NaN</td>\n",
              "      <td>NaN</td>\n",
              "      <td>NaN</td>\n",
              "      <td>NaN</td>\n",
              "      <td>NaN</td>\n",
              "      <td>NaN</td>\n",
              "      <td>NaN</td>\n",
              "      <td>NaN</td>\n",
              "      <td>NaN</td>\n",
              "    </tr>\n",
              "    <tr>\n",
              "      <th>3</th>\n",
              "      <td>Turkish Airlines</td>\n",
              "      <td>2.0</td>\n",
              "      <td>Adriana Pisoi</td>\n",
              "      <td>7th May 2019</td>\n",
              "      <td>âœ… Trip Verified | Istanbul to Bucharest. We ...</td>\n",
              "      <td>NaN</td>\n",
              "      <td>Family Leisure</td>\n",
              "      <td>Economy Class</td>\n",
              "      <td>Istanbul to Bucharest</td>\n",
              "      <td>2019-05-01 00:00:00</td>\n",
              "      <td>4.0</td>\n",
              "      <td>1.0</td>\n",
              "      <td>1.0</td>\n",
              "      <td>1.0</td>\n",
              "      <td>1.0</td>\n",
              "      <td>1.0</td>\n",
              "      <td>no</td>\n",
              "    </tr>\n",
              "    <tr>\n",
              "      <th>4</th>\n",
              "      <td>NaN</td>\n",
              "      <td>NaN</td>\n",
              "      <td>NaN</td>\n",
              "      <td>NaN</td>\n",
              "      <td>NaN</td>\n",
              "      <td>NaN</td>\n",
              "      <td>NaN</td>\n",
              "      <td>NaN</td>\n",
              "      <td>NaN</td>\n",
              "      <td>NaN</td>\n",
              "      <td>NaN</td>\n",
              "      <td>NaN</td>\n",
              "      <td>NaN</td>\n",
              "      <td>NaN</td>\n",
              "      <td>NaN</td>\n",
              "      <td>NaN</td>\n",
              "      <td>NaN</td>\n",
              "    </tr>\n",
              "  </tbody>\n",
              "</table>\n",
              "</div>"
            ],
            "text/plain": [
              "            airline  overall  ... value_for_money recommended\n",
              "0               NaN      NaN  ...             NaN         NaN\n",
              "1  Turkish Airlines      7.0  ...             4.0         yes\n",
              "2               NaN      NaN  ...             NaN         NaN\n",
              "3  Turkish Airlines      2.0  ...             1.0          no\n",
              "4               NaN      NaN  ...             NaN         NaN\n",
              "\n",
              "[5 rows x 17 columns]"
            ]
          },
          "metadata": {
            "tags": []
          },
          "execution_count": 7
        }
      ]
    },
    {
      "cell_type": "code",
      "metadata": {
        "colab": {
          "base_uri": "https://localhost:8080/",
          "height": 284
        },
        "id": "a5OvQQMryi-H",
        "outputId": "fd6bcb6d-f92c-45aa-adc6-520616167fdb"
      },
      "source": [
        "# Describing data\n",
        "data.describe()\n",
        "\n"
      ],
      "execution_count": null,
      "outputs": [
        {
          "output_type": "execute_result",
          "data": {
            "text/html": [
              "<div>\n",
              "<style scoped>\n",
              "    .dataframe tbody tr th:only-of-type {\n",
              "        vertical-align: middle;\n",
              "    }\n",
              "\n",
              "    .dataframe tbody tr th {\n",
              "        vertical-align: top;\n",
              "    }\n",
              "\n",
              "    .dataframe thead th {\n",
              "        text-align: right;\n",
              "    }\n",
              "</style>\n",
              "<table border=\"1\" class=\"dataframe\">\n",
              "  <thead>\n",
              "    <tr style=\"text-align: right;\">\n",
              "      <th></th>\n",
              "      <th>overall</th>\n",
              "      <th>seat_comfort</th>\n",
              "      <th>cabin_service</th>\n",
              "      <th>food_bev</th>\n",
              "      <th>entertainment</th>\n",
              "      <th>ground_service</th>\n",
              "      <th>value_for_money</th>\n",
              "    </tr>\n",
              "  </thead>\n",
              "  <tbody>\n",
              "    <tr>\n",
              "      <th>count</th>\n",
              "      <td>64017.000000</td>\n",
              "      <td>60681.000000</td>\n",
              "      <td>60715.000000</td>\n",
              "      <td>52608.000000</td>\n",
              "      <td>44193.000000</td>\n",
              "      <td>39358.000000</td>\n",
              "      <td>63975.000000</td>\n",
              "    </tr>\n",
              "    <tr>\n",
              "      <th>mean</th>\n",
              "      <td>5.145430</td>\n",
              "      <td>2.952160</td>\n",
              "      <td>3.191814</td>\n",
              "      <td>2.908170</td>\n",
              "      <td>2.863372</td>\n",
              "      <td>2.692820</td>\n",
              "      <td>2.943962</td>\n",
              "    </tr>\n",
              "    <tr>\n",
              "      <th>std</th>\n",
              "      <td>3.477532</td>\n",
              "      <td>1.441362</td>\n",
              "      <td>1.565789</td>\n",
              "      <td>1.481893</td>\n",
              "      <td>1.507262</td>\n",
              "      <td>1.612215</td>\n",
              "      <td>1.587370</td>\n",
              "    </tr>\n",
              "    <tr>\n",
              "      <th>min</th>\n",
              "      <td>1.000000</td>\n",
              "      <td>1.000000</td>\n",
              "      <td>1.000000</td>\n",
              "      <td>1.000000</td>\n",
              "      <td>1.000000</td>\n",
              "      <td>1.000000</td>\n",
              "      <td>1.000000</td>\n",
              "    </tr>\n",
              "    <tr>\n",
              "      <th>25%</th>\n",
              "      <td>1.000000</td>\n",
              "      <td>1.000000</td>\n",
              "      <td>2.000000</td>\n",
              "      <td>1.000000</td>\n",
              "      <td>1.000000</td>\n",
              "      <td>1.000000</td>\n",
              "      <td>1.000000</td>\n",
              "    </tr>\n",
              "    <tr>\n",
              "      <th>50%</th>\n",
              "      <td>5.000000</td>\n",
              "      <td>3.000000</td>\n",
              "      <td>3.000000</td>\n",
              "      <td>3.000000</td>\n",
              "      <td>3.000000</td>\n",
              "      <td>3.000000</td>\n",
              "      <td>3.000000</td>\n",
              "    </tr>\n",
              "    <tr>\n",
              "      <th>75%</th>\n",
              "      <td>9.000000</td>\n",
              "      <td>4.000000</td>\n",
              "      <td>5.000000</td>\n",
              "      <td>4.000000</td>\n",
              "      <td>4.000000</td>\n",
              "      <td>4.000000</td>\n",
              "      <td>4.000000</td>\n",
              "    </tr>\n",
              "    <tr>\n",
              "      <th>max</th>\n",
              "      <td>10.000000</td>\n",
              "      <td>5.000000</td>\n",
              "      <td>5.000000</td>\n",
              "      <td>5.000000</td>\n",
              "      <td>5.000000</td>\n",
              "      <td>5.000000</td>\n",
              "      <td>5.000000</td>\n",
              "    </tr>\n",
              "  </tbody>\n",
              "</table>\n",
              "</div>"
            ],
            "text/plain": [
              "            overall  seat_comfort  ...  ground_service  value_for_money\n",
              "count  64017.000000  60681.000000  ...    39358.000000     63975.000000\n",
              "mean       5.145430      2.952160  ...        2.692820         2.943962\n",
              "std        3.477532      1.441362  ...        1.612215         1.587370\n",
              "min        1.000000      1.000000  ...        1.000000         1.000000\n",
              "25%        1.000000      1.000000  ...        1.000000         1.000000\n",
              "50%        5.000000      3.000000  ...        3.000000         3.000000\n",
              "75%        9.000000      4.000000  ...        4.000000         4.000000\n",
              "max       10.000000      5.000000  ...        5.000000         5.000000\n",
              "\n",
              "[8 rows x 7 columns]"
            ]
          },
          "metadata": {
            "tags": []
          },
          "execution_count": 8
        }
      ]
    },
    {
      "cell_type": "code",
      "metadata": {
        "colab": {
          "base_uri": "https://localhost:8080/"
        },
        "id": "o5goc5gmygT0",
        "outputId": "54f724bb-7102-4458-e5fc-463889262270"
      },
      "source": [
        "# Checking for null values\n",
        "data.isnull().sum()"
      ],
      "execution_count": null,
      "outputs": [
        {
          "output_type": "execute_result",
          "data": {
            "text/plain": [
              "airline             65948\n",
              "overall             67878\n",
              "author              65948\n",
              "review_date         65948\n",
              "customer_review     65948\n",
              "aircraft           112177\n",
              "traveller_type      92140\n",
              "cabin               68592\n",
              "route               92169\n",
              "date_flown          92262\n",
              "seat_comfort        71214\n",
              "cabin_service       71180\n",
              "food_bev            79287\n",
              "entertainment       87702\n",
              "ground_service      92537\n",
              "value_for_money     67920\n",
              "recommended         67455\n",
              "dtype: int64"
            ]
          },
          "metadata": {
            "tags": []
          },
          "execution_count": 9
        }
      ]
    },
    {
      "cell_type": "markdown",
      "metadata": {
        "id": "1GZpxySgEKs6"
      },
      "source": [
        "There are more number of null values in the data set. Cleaning of data becomes very important."
      ]
    },
    {
      "cell_type": "markdown",
      "metadata": {
        "id": "rLowFvrqP0Eg"
      },
      "source": [
        "## Cleaning data"
      ]
    },
    {
      "cell_type": "code",
      "metadata": {
        "id": "RhC9x_EClmAf"
      },
      "source": [
        "# Copy data to airline_data data frame\n",
        "airline_data = data.copy()\n",
        "\n"
      ],
      "execution_count": null,
      "outputs": []
    },
    {
      "cell_type": "markdown",
      "metadata": {
        "id": "of7Fi66gP9WC"
      },
      "source": [
        "### Droping rows"
      ]
    },
    {
      "cell_type": "code",
      "metadata": {
        "id": "Jds0U5Sk1XaL"
      },
      "source": [
        "# dropping rows if the entire row is null\n",
        "airline_data.dropna(how = 'all',inplace = True)"
      ],
      "execution_count": null,
      "outputs": []
    },
    {
      "cell_type": "code",
      "metadata": {
        "colab": {
          "base_uri": "https://localhost:8080/"
        },
        "id": "dbJaAg5JX4sc",
        "outputId": "89d60048-68ae-472e-9435-1d5b8812babb"
      },
      "source": [
        "print(\" Total no.of rows in given data \", data.shape[0])\n",
        "print(\"No.of rows with null values in all columns\", data.shape[0] - airline_data.shape[0])\n",
        "print(\"% of rows without complete null values\", (airline_data.shape[0]/data.shape[0])*100)"
      ],
      "execution_count": null,
      "outputs": [
        {
          "output_type": "stream",
          "text": [
            " Total no.of rows in given data  131895\n",
            "No.of rows with null values in all columns 65948\n",
            "% of rows without complete null values 49.99962091057281\n"
          ],
          "name": "stdout"
        }
      ]
    },
    {
      "cell_type": "code",
      "metadata": {
        "id": "e8mGCLSJBUIJ"
      },
      "source": [
        "# Removing columns that are not required\n",
        "airline_data.drop(columns = ['aircraft','author'],inplace = True) "
      ],
      "execution_count": null,
      "outputs": []
    },
    {
      "cell_type": "code",
      "metadata": {
        "id": "6id-CapcKb0I"
      },
      "source": [
        "# Renaming columns\n",
        "airline_data.rename(columns={'overall':'review_score', 'customer_review':'review_text'}, inplace=True)\n"
      ],
      "execution_count": null,
      "outputs": []
    },
    {
      "cell_type": "code",
      "metadata": {
        "colab": {
          "base_uri": "https://localhost:8080/"
        },
        "id": "4QUYALTHnR4T",
        "outputId": "add11e4d-8c91-4061-c7b9-0b3970211d26"
      },
      "source": [
        "airline_data.shape"
      ],
      "execution_count": null,
      "outputs": [
        {
          "output_type": "execute_result",
          "data": {
            "text/plain": [
              "(65947, 15)"
            ]
          },
          "metadata": {
            "tags": []
          },
          "execution_count": 15
        }
      ]
    },
    {
      "cell_type": "markdown",
      "metadata": {
        "id": "wsJsnp3oZODW"
      },
      "source": [
        "That means 50% of given data is not at all required."
      ]
    },
    {
      "cell_type": "code",
      "metadata": {
        "colab": {
          "base_uri": "https://localhost:8080/"
        },
        "id": "BFqUrxrgaT01",
        "outputId": "458bf8fb-70a8-482d-b217-7392511d79c6"
      },
      "source": [
        "# Checking for null values\n",
        "airline_data.isnull().sum()"
      ],
      "execution_count": null,
      "outputs": [
        {
          "output_type": "execute_result",
          "data": {
            "text/plain": [
              "airline                0\n",
              "review_score        1930\n",
              "review_date            0\n",
              "review_text            0\n",
              "traveller_type     26192\n",
              "cabin               2644\n",
              "route              26221\n",
              "date_flown         26314\n",
              "seat_comfort        5266\n",
              "cabin_service       5232\n",
              "food_bev           13339\n",
              "entertainment      21754\n",
              "ground_service     26589\n",
              "value_for_money     1972\n",
              "recommended         1507\n",
              "dtype: int64"
            ]
          },
          "metadata": {
            "tags": []
          },
          "execution_count": 44
        }
      ]
    },
    {
      "cell_type": "markdown",
      "metadata": {
        "id": "tsAYqnBuZbES"
      },
      "source": [
        "### Finding and droping duplicates"
      ]
    },
    {
      "cell_type": "code",
      "metadata": {
        "colab": {
          "base_uri": "https://localhost:8080/",
          "height": 551
        },
        "id": "B4hH3-bw-XXY",
        "outputId": "169c31e3-d33a-4414-e0e6-e241743adee2"
      },
      "source": [
        "# Checking the presence of duplicated data\n",
        "airline_data[airline_data.duplicated(keep =False)].head()\n"
      ],
      "execution_count": null,
      "outputs": [
        {
          "output_type": "execute_result",
          "data": {
            "text/html": [
              "<div>\n",
              "<style scoped>\n",
              "    .dataframe tbody tr th:only-of-type {\n",
              "        vertical-align: middle;\n",
              "    }\n",
              "\n",
              "    .dataframe tbody tr th {\n",
              "        vertical-align: top;\n",
              "    }\n",
              "\n",
              "    .dataframe thead th {\n",
              "        text-align: right;\n",
              "    }\n",
              "</style>\n",
              "<table border=\"1\" class=\"dataframe\">\n",
              "  <thead>\n",
              "    <tr style=\"text-align: right;\">\n",
              "      <th></th>\n",
              "      <th>airline</th>\n",
              "      <th>review_score</th>\n",
              "      <th>review_date</th>\n",
              "      <th>review_text</th>\n",
              "      <th>traveller_type</th>\n",
              "      <th>cabin</th>\n",
              "      <th>route</th>\n",
              "      <th>date_flown</th>\n",
              "      <th>seat_comfort</th>\n",
              "      <th>cabin_service</th>\n",
              "      <th>food_bev</th>\n",
              "      <th>entertainment</th>\n",
              "      <th>ground_service</th>\n",
              "      <th>value_for_money</th>\n",
              "      <th>recommended</th>\n",
              "    </tr>\n",
              "  </thead>\n",
              "  <tbody>\n",
              "    <tr>\n",
              "      <th>2173</th>\n",
              "      <td>Turkish Airlines</td>\n",
              "      <td>8.0</td>\n",
              "      <td>19th March 2015</td>\n",
              "      <td>LIS-IST B737-800. Check in OK. Flight on Time....</td>\n",
              "      <td>NaN</td>\n",
              "      <td>Business Class</td>\n",
              "      <td>NaN</td>\n",
              "      <td>NaN</td>\n",
              "      <td>4.0</td>\n",
              "      <td>5.0</td>\n",
              "      <td>4.0</td>\n",
              "      <td>3.0</td>\n",
              "      <td>NaN</td>\n",
              "      <td>4.0</td>\n",
              "      <td>yes</td>\n",
              "    </tr>\n",
              "    <tr>\n",
              "      <th>2183</th>\n",
              "      <td>Turkish Airlines</td>\n",
              "      <td>8.0</td>\n",
              "      <td>19th March 2015</td>\n",
              "      <td>LIS-IST B737-800. Check in OK. Flight on Time....</td>\n",
              "      <td>NaN</td>\n",
              "      <td>Business Class</td>\n",
              "      <td>NaN</td>\n",
              "      <td>NaN</td>\n",
              "      <td>4.0</td>\n",
              "      <td>5.0</td>\n",
              "      <td>4.0</td>\n",
              "      <td>3.0</td>\n",
              "      <td>NaN</td>\n",
              "      <td>4.0</td>\n",
              "      <td>yes</td>\n",
              "    </tr>\n",
              "    <tr>\n",
              "      <th>2215</th>\n",
              "      <td>Turkish Airlines</td>\n",
              "      <td>1.0</td>\n",
              "      <td>24th February 2015</td>\n",
              "      <td>BKK-IST-ARN on A330 and then A321. Flight from...</td>\n",
              "      <td>NaN</td>\n",
              "      <td>Business Class</td>\n",
              "      <td>NaN</td>\n",
              "      <td>NaN</td>\n",
              "      <td>5.0</td>\n",
              "      <td>3.0</td>\n",
              "      <td>4.0</td>\n",
              "      <td>4.0</td>\n",
              "      <td>NaN</td>\n",
              "      <td>1.0</td>\n",
              "      <td>no</td>\n",
              "    </tr>\n",
              "    <tr>\n",
              "      <th>2221</th>\n",
              "      <td>Turkish Airlines</td>\n",
              "      <td>1.0</td>\n",
              "      <td>24th February 2015</td>\n",
              "      <td>BKK-IST-ARN on A330 and then A321. Flight from...</td>\n",
              "      <td>NaN</td>\n",
              "      <td>Business Class</td>\n",
              "      <td>NaN</td>\n",
              "      <td>NaN</td>\n",
              "      <td>5.0</td>\n",
              "      <td>3.0</td>\n",
              "      <td>4.0</td>\n",
              "      <td>4.0</td>\n",
              "      <td>NaN</td>\n",
              "      <td>1.0</td>\n",
              "      <td>no</td>\n",
              "    </tr>\n",
              "    <tr>\n",
              "      <th>2257</th>\n",
              "      <td>Turkish Airlines</td>\n",
              "      <td>1.0</td>\n",
              "      <td>19th January 2015</td>\n",
              "      <td>Flew back with TK 1955 business class from Ist...</td>\n",
              "      <td>NaN</td>\n",
              "      <td>Business Class</td>\n",
              "      <td>NaN</td>\n",
              "      <td>NaN</td>\n",
              "      <td>1.0</td>\n",
              "      <td>4.0</td>\n",
              "      <td>2.0</td>\n",
              "      <td>1.0</td>\n",
              "      <td>NaN</td>\n",
              "      <td>1.0</td>\n",
              "      <td>no</td>\n",
              "    </tr>\n",
              "  </tbody>\n",
              "</table>\n",
              "</div>"
            ],
            "text/plain": [
              "               airline  review_score  ... value_for_money recommended\n",
              "2173  Turkish Airlines           8.0  ...             4.0         yes\n",
              "2183  Turkish Airlines           8.0  ...             4.0         yes\n",
              "2215  Turkish Airlines           1.0  ...             1.0          no\n",
              "2221  Turkish Airlines           1.0  ...             1.0          no\n",
              "2257  Turkish Airlines           1.0  ...             1.0          no\n",
              "\n",
              "[5 rows x 15 columns]"
            ]
          },
          "metadata": {
            "tags": []
          },
          "execution_count": 45
        }
      ]
    },
    {
      "cell_type": "markdown",
      "metadata": {
        "id": "vU3k8ARfFiTG"
      },
      "source": [
        "We dont need to know the name of the person. Aircraft is dropped because most of column is null value and it cant be filled."
      ]
    },
    {
      "cell_type": "code",
      "metadata": {
        "colab": {
          "base_uri": "https://localhost:8080/",
          "height": 261
        },
        "id": "H4y0rC8K_RvM",
        "outputId": "27a37661-4c7e-41a9-d5d2-401ad4075b01"
      },
      "source": [
        "# Conforming the presence of duplicated data\n",
        "airline_data[airline_data['review_text']== airline_data.loc[2257,:]['review_text']]\n"
      ],
      "execution_count": null,
      "outputs": [
        {
          "output_type": "execute_result",
          "data": {
            "text/html": [
              "<div>\n",
              "<style scoped>\n",
              "    .dataframe tbody tr th:only-of-type {\n",
              "        vertical-align: middle;\n",
              "    }\n",
              "\n",
              "    .dataframe tbody tr th {\n",
              "        vertical-align: top;\n",
              "    }\n",
              "\n",
              "    .dataframe thead th {\n",
              "        text-align: right;\n",
              "    }\n",
              "</style>\n",
              "<table border=\"1\" class=\"dataframe\">\n",
              "  <thead>\n",
              "    <tr style=\"text-align: right;\">\n",
              "      <th></th>\n",
              "      <th>airline</th>\n",
              "      <th>review_score</th>\n",
              "      <th>review_date</th>\n",
              "      <th>review_text</th>\n",
              "      <th>traveller_type</th>\n",
              "      <th>cabin</th>\n",
              "      <th>route</th>\n",
              "      <th>date_flown</th>\n",
              "      <th>seat_comfort</th>\n",
              "      <th>cabin_service</th>\n",
              "      <th>food_bev</th>\n",
              "      <th>entertainment</th>\n",
              "      <th>ground_service</th>\n",
              "      <th>value_for_money</th>\n",
              "      <th>recommended</th>\n",
              "    </tr>\n",
              "  </thead>\n",
              "  <tbody>\n",
              "    <tr>\n",
              "      <th>2257</th>\n",
              "      <td>Turkish Airlines</td>\n",
              "      <td>1.0</td>\n",
              "      <td>19th January 2015</td>\n",
              "      <td>Flew back with TK 1955 business class from Ist...</td>\n",
              "      <td>NaN</td>\n",
              "      <td>Business Class</td>\n",
              "      <td>NaN</td>\n",
              "      <td>NaN</td>\n",
              "      <td>1.0</td>\n",
              "      <td>4.0</td>\n",
              "      <td>2.0</td>\n",
              "      <td>1.0</td>\n",
              "      <td>NaN</td>\n",
              "      <td>1.0</td>\n",
              "      <td>no</td>\n",
              "    </tr>\n",
              "    <tr>\n",
              "      <th>2263</th>\n",
              "      <td>Turkish Airlines</td>\n",
              "      <td>1.0</td>\n",
              "      <td>19th January 2015</td>\n",
              "      <td>Flew back with TK 1955 business class from Ist...</td>\n",
              "      <td>NaN</td>\n",
              "      <td>Business Class</td>\n",
              "      <td>NaN</td>\n",
              "      <td>NaN</td>\n",
              "      <td>1.0</td>\n",
              "      <td>4.0</td>\n",
              "      <td>2.0</td>\n",
              "      <td>1.0</td>\n",
              "      <td>NaN</td>\n",
              "      <td>1.0</td>\n",
              "      <td>no</td>\n",
              "    </tr>\n",
              "  </tbody>\n",
              "</table>\n",
              "</div>"
            ],
            "text/plain": [
              "               airline  review_score  ... value_for_money recommended\n",
              "2257  Turkish Airlines           1.0  ...             1.0          no\n",
              "2263  Turkish Airlines           1.0  ...             1.0          no\n",
              "\n",
              "[2 rows x 15 columns]"
            ]
          },
          "metadata": {
            "tags": []
          },
          "execution_count": 46
        }
      ]
    },
    {
      "cell_type": "code",
      "metadata": {
        "id": "EiYnJQ2uaFog"
      },
      "source": [
        "#Dropping the duplicates by keeping the first occurence\n",
        "airline_data = airline_data.drop_duplicates(keep= 'first')\n"
      ],
      "execution_count": null,
      "outputs": []
    },
    {
      "cell_type": "code",
      "metadata": {
        "colab": {
          "base_uri": "https://localhost:8080/"
        },
        "id": "PEZ_bPNzZfKG",
        "outputId": "cfd0ab9b-a539-40e8-f10d-0d9721c42f8e"
      },
      "source": [
        "airline_data[['review_date','date_flown']].dtypes\n"
      ],
      "execution_count": null,
      "outputs": [
        {
          "output_type": "execute_result",
          "data": {
            "text/plain": [
              "review_date    object\n",
              "date_flown     object\n",
              "dtype: object"
            ]
          },
          "metadata": {
            "tags": []
          },
          "execution_count": 48
        }
      ]
    },
    {
      "cell_type": "code",
      "metadata": {
        "colab": {
          "base_uri": "https://localhost:8080/"
        },
        "id": "Ezd_SQf7nJ2U",
        "outputId": "a71a71f9-58c5-4a1e-ab14-7342e7afb9d0"
      },
      "source": [
        "airline_data.isnull().sum()"
      ],
      "execution_count": null,
      "outputs": [
        {
          "output_type": "execute_result",
          "data": {
            "text/plain": [
              "airline                0\n",
              "review_score        1782\n",
              "review_date            0\n",
              "review_text            0\n",
              "traveller_type     23643\n",
              "cabin               2478\n",
              "route              23670\n",
              "date_flown         23749\n",
              "seat_comfort        4972\n",
              "cabin_service       4943\n",
              "food_bev           12842\n",
              "entertainment      20953\n",
              "ground_service     24014\n",
              "value_for_money     1856\n",
              "recommended         1422\n",
              "dtype: int64"
            ]
          },
          "metadata": {
            "tags": []
          },
          "execution_count": 49
        }
      ]
    },
    {
      "cell_type": "markdown",
      "metadata": {
        "id": "ukFzlGOYD7ZH"
      },
      "source": [
        "Now we need fill the missing values. "
      ]
    },
    {
      "cell_type": "code",
      "metadata": {
        "id": "fevdydZMX_jf"
      },
      "source": [
        "def scaled_feature(feature_to_be_scaled):\n",
        "  '''scaling entire column by multiplying by 2 so that all ratings are given out of 10'''\n",
        "  airline_data[feature_to_be_scaled] = airline_data[feature_to_be_scaled]*2\n",
        "  "
      ],
      "execution_count": null,
      "outputs": []
    },
    {
      "cell_type": "code",
      "metadata": {
        "id": "IGGgTdRyY7k3"
      },
      "source": [
        "scaled_feature('seat_comfort')\n",
        "scaled_feature('cabin_service')\n",
        "scaled_feature('food_bev')\n",
        "scaled_feature('entertainment')\n",
        "scaled_feature('ground_service')\n",
        "scaled_feature('value_for_money')\n",
        "\n"
      ],
      "execution_count": null,
      "outputs": []
    },
    {
      "cell_type": "code",
      "metadata": {
        "colab": {
          "base_uri": "https://localhost:8080/",
          "height": 261
        },
        "id": "D5n9_0AZZlrY",
        "outputId": "ca5edcfb-a5da-4f1f-9800-400bb452a777"
      },
      "source": [
        "airline_data.head(2)\n",
        "                  "
      ],
      "execution_count": null,
      "outputs": [
        {
          "output_type": "execute_result",
          "data": {
            "text/html": [
              "<div>\n",
              "<style scoped>\n",
              "    .dataframe tbody tr th:only-of-type {\n",
              "        vertical-align: middle;\n",
              "    }\n",
              "\n",
              "    .dataframe tbody tr th {\n",
              "        vertical-align: top;\n",
              "    }\n",
              "\n",
              "    .dataframe thead th {\n",
              "        text-align: right;\n",
              "    }\n",
              "</style>\n",
              "<table border=\"1\" class=\"dataframe\">\n",
              "  <thead>\n",
              "    <tr style=\"text-align: right;\">\n",
              "      <th></th>\n",
              "      <th>airline</th>\n",
              "      <th>review_score</th>\n",
              "      <th>review_date</th>\n",
              "      <th>review_text</th>\n",
              "      <th>traveller_type</th>\n",
              "      <th>cabin</th>\n",
              "      <th>route</th>\n",
              "      <th>date_flown</th>\n",
              "      <th>seat_comfort</th>\n",
              "      <th>cabin_service</th>\n",
              "      <th>food_bev</th>\n",
              "      <th>entertainment</th>\n",
              "      <th>ground_service</th>\n",
              "      <th>value_for_money</th>\n",
              "      <th>recommended</th>\n",
              "    </tr>\n",
              "  </thead>\n",
              "  <tbody>\n",
              "    <tr>\n",
              "      <th>1</th>\n",
              "      <td>Turkish Airlines</td>\n",
              "      <td>7.0</td>\n",
              "      <td>8th May 2019</td>\n",
              "      <td>âœ… Trip Verified | London to Izmir via Istanb...</td>\n",
              "      <td>Business</td>\n",
              "      <td>Economy Class</td>\n",
              "      <td>London to Izmir via Istanbul</td>\n",
              "      <td>2019-05-01 00:00:00</td>\n",
              "      <td>8.0</td>\n",
              "      <td>10.0</td>\n",
              "      <td>8.0</td>\n",
              "      <td>8.0</td>\n",
              "      <td>4.0</td>\n",
              "      <td>8.0</td>\n",
              "      <td>yes</td>\n",
              "    </tr>\n",
              "    <tr>\n",
              "      <th>3</th>\n",
              "      <td>Turkish Airlines</td>\n",
              "      <td>2.0</td>\n",
              "      <td>7th May 2019</td>\n",
              "      <td>âœ… Trip Verified | Istanbul to Bucharest. We ...</td>\n",
              "      <td>Family Leisure</td>\n",
              "      <td>Economy Class</td>\n",
              "      <td>Istanbul to Bucharest</td>\n",
              "      <td>2019-05-01 00:00:00</td>\n",
              "      <td>8.0</td>\n",
              "      <td>2.0</td>\n",
              "      <td>2.0</td>\n",
              "      <td>2.0</td>\n",
              "      <td>2.0</td>\n",
              "      <td>2.0</td>\n",
              "      <td>no</td>\n",
              "    </tr>\n",
              "  </tbody>\n",
              "</table>\n",
              "</div>"
            ],
            "text/plain": [
              "            airline  review_score  ... value_for_money recommended\n",
              "1  Turkish Airlines           7.0  ...             8.0         yes\n",
              "3  Turkish Airlines           2.0  ...             2.0          no\n",
              "\n",
              "[2 rows x 15 columns]"
            ]
          },
          "metadata": {
            "tags": []
          },
          "execution_count": 52
        }
      ]
    },
    {
      "cell_type": "code",
      "metadata": {
        "id": "mzj1vsjobmC6"
      },
      "source": [
        ""
      ],
      "execution_count": null,
      "outputs": []
    },
    {
      "cell_type": "markdown",
      "metadata": {
        "id": "dxaRXmRF0y1D"
      },
      "source": [
        "### Feature Engineering"
      ]
    },
    {
      "cell_type": "markdown",
      "metadata": {
        "id": "G8Tv9YOxbGKj"
      },
      "source": [
        "Filling review columns\n",
        "For filling review score take average of seat_comfort, cabin_service, food_bev, entertainment, ground_service\n",
        "And for filling take seat_comfort, cabin_service, food_bev, entertainment, ground_service missing value fill with review **score**"
      ]
    },
    {
      "cell_type": "markdown",
      "metadata": {
        "id": "oaJdbgiBdYua"
      },
      "source": [
        "####Filling review score"
      ]
    },
    {
      "cell_type": "code",
      "metadata": {
        "id": "TmoWmzBBRMCa"
      },
      "source": [
        "x = airline_data.drop(columns = 'review_score')\n",
        "x['avg'] = round(x.mean(axis=1))"
      ],
      "execution_count": null,
      "outputs": []
    },
    {
      "cell_type": "code",
      "metadata": {
        "id": "sN2uwIC1q02f"
      },
      "source": [
        "airline_data['review_score'].fillna(value= x['avg'],inplace = True)"
      ],
      "execution_count": null,
      "outputs": []
    },
    {
      "cell_type": "code",
      "metadata": {
        "id": "DX-KugfGKvv9"
      },
      "source": [
        ""
      ],
      "execution_count": null,
      "outputs": []
    },
    {
      "cell_type": "markdown",
      "metadata": {
        "id": "YzbpHskFxJUD"
      },
      "source": [
        "#### Filling other rating columns"
      ]
    },
    {
      "cell_type": "code",
      "metadata": {
        "id": "IreQVki-sz-Q"
      },
      "source": [
        "airline_data['seat_comfort'].fillna(value= airline_data['review_score'],inplace = True)\n",
        "airline_data['cabin_service'].fillna(value= airline_data['review_score'],inplace = True)\n",
        "airline_data['food_bev'].fillna(value= airline_data['review_score'],inplace = True)\n",
        "airline_data['entertainment'].fillna(value= airline_data['review_score'],inplace = True)\n",
        "airline_data['ground_service'].fillna(value= airline_data['review_score'],inplace = True)\n",
        "airline_data['value_for_money'].fillna(value= airline_data['review_score'],inplace = True)\n"
      ],
      "execution_count": null,
      "outputs": []
    },
    {
      "cell_type": "code",
      "metadata": {
        "colab": {
          "base_uri": "https://localhost:8080/"
        },
        "id": "5Nc8_c2fslTz",
        "outputId": "f4f57f34-cb02-4f28-d96b-bbb1f09c0662"
      },
      "source": [
        "airline_data.isnull().sum()"
      ],
      "execution_count": null,
      "outputs": [
        {
          "output_type": "execute_result",
          "data": {
            "text/plain": [
              "airline                0\n",
              "review_score         143\n",
              "review_date            0\n",
              "review_text            0\n",
              "traveller_type     23643\n",
              "cabin               2478\n",
              "route              23670\n",
              "date_flown         23749\n",
              "seat_comfort         143\n",
              "cabin_service        143\n",
              "food_bev             143\n",
              "entertainment        143\n",
              "ground_service       143\n",
              "value_for_money      143\n",
              "recommended         1422\n",
              "dtype: int64"
            ]
          },
          "metadata": {
            "tags": []
          },
          "execution_count": 56
        }
      ]
    },
    {
      "cell_type": "markdown",
      "metadata": {
        "id": "krenArf8xP3w"
      },
      "source": [
        ""
      ]
    },
    {
      "cell_type": "code",
      "metadata": {
        "id": "U_ZjMlrqvVdj"
      },
      "source": [
        "# Droping with null values in all rating columns\n",
        "airline_data.dropna(subset= ['review_score'],inplace = True)"
      ],
      "execution_count": null,
      "outputs": []
    },
    {
      "cell_type": "code",
      "metadata": {
        "id": "aXFRV8dvyPgU"
      },
      "source": [
        "# re-ordering the index as rows are removed\n",
        "airline_data.reset_index(drop=True,inplace = True)\n"
      ],
      "execution_count": null,
      "outputs": []
    },
    {
      "cell_type": "code",
      "metadata": {
        "colab": {
          "base_uri": "https://localhost:8080/",
          "height": 244
        },
        "id": "yBc5lda8yZyU",
        "outputId": "c001c202-b6b8-4cd6-91f1-04e02a0a628a"
      },
      "source": [
        "airline_data.tail(2)"
      ],
      "execution_count": null,
      "outputs": [
        {
          "output_type": "execute_result",
          "data": {
            "text/html": [
              "<div>\n",
              "<style scoped>\n",
              "    .dataframe tbody tr th:only-of-type {\n",
              "        vertical-align: middle;\n",
              "    }\n",
              "\n",
              "    .dataframe tbody tr th {\n",
              "        vertical-align: top;\n",
              "    }\n",
              "\n",
              "    .dataframe thead th {\n",
              "        text-align: right;\n",
              "    }\n",
              "</style>\n",
              "<table border=\"1\" class=\"dataframe\">\n",
              "  <thead>\n",
              "    <tr style=\"text-align: right;\">\n",
              "      <th></th>\n",
              "      <th>airline</th>\n",
              "      <th>review_score</th>\n",
              "      <th>review_date</th>\n",
              "      <th>review_text</th>\n",
              "      <th>traveller_type</th>\n",
              "      <th>cabin</th>\n",
              "      <th>route</th>\n",
              "      <th>date_flown</th>\n",
              "      <th>seat_comfort</th>\n",
              "      <th>cabin_service</th>\n",
              "      <th>food_bev</th>\n",
              "      <th>entertainment</th>\n",
              "      <th>ground_service</th>\n",
              "      <th>value_for_money</th>\n",
              "      <th>recommended</th>\n",
              "    </tr>\n",
              "  </thead>\n",
              "  <tbody>\n",
              "    <tr>\n",
              "      <th>61038</th>\n",
              "      <td>Ukraine International</td>\n",
              "      <td>4.0</td>\n",
              "      <td>4th May 2008</td>\n",
              "      <td>Kiev-Vienna. Check in was slow but after that ...</td>\n",
              "      <td>NaN</td>\n",
              "      <td>NaN</td>\n",
              "      <td>NaN</td>\n",
              "      <td>NaN</td>\n",
              "      <td>4.0</td>\n",
              "      <td>4.0</td>\n",
              "      <td>4.0</td>\n",
              "      <td>4.0</td>\n",
              "      <td>4.0</td>\n",
              "      <td>4.0</td>\n",
              "      <td>no</td>\n",
              "    </tr>\n",
              "    <tr>\n",
              "      <th>61039</th>\n",
              "      <td>Ukraine International</td>\n",
              "      <td>3.0</td>\n",
              "      <td>2nd August 2007</td>\n",
              "      <td>VIE-ODS Business class. B737-500 either leased...</td>\n",
              "      <td>NaN</td>\n",
              "      <td>NaN</td>\n",
              "      <td>NaN</td>\n",
              "      <td>NaN</td>\n",
              "      <td>3.0</td>\n",
              "      <td>3.0</td>\n",
              "      <td>3.0</td>\n",
              "      <td>3.0</td>\n",
              "      <td>3.0</td>\n",
              "      <td>3.0</td>\n",
              "      <td>no</td>\n",
              "    </tr>\n",
              "  </tbody>\n",
              "</table>\n",
              "</div>"
            ],
            "text/plain": [
              "                     airline  review_score  ... value_for_money recommended\n",
              "61038  Ukraine International           4.0  ...             4.0          no\n",
              "61039  Ukraine International           3.0  ...             3.0          no\n",
              "\n",
              "[2 rows x 15 columns]"
            ]
          },
          "metadata": {
            "tags": []
          },
          "execution_count": 59
        }
      ]
    },
    {
      "cell_type": "code",
      "metadata": {
        "id": "ANeaTv4ueq6V"
      },
      "source": [
        "airline_data['recommended'] = airline_data['recommended'].map(\n",
        "                   {'yes':1 ,'no':0})\n",
        "  "
      ],
      "execution_count": 75,
      "outputs": []
    },
    {
      "cell_type": "code",
      "metadata": {
        "colab": {
          "base_uri": "https://localhost:8080/",
          "height": 302
        },
        "id": "k48_YE4xfCh2",
        "outputId": "ed03d7c6-828d-4e3e-ddd8-45f0c0e6692b"
      },
      "source": [
        "x = airline_data[['review_score','recommended']]\n",
        "x.groupby(['recommended']).count().plot.bar(stacked = True) "
      ],
      "execution_count": 115,
      "outputs": [
        {
          "output_type": "execute_result",
          "data": {
            "text/plain": [
              "<matplotlib.axes._subplots.AxesSubplot at 0x7fd71a3b2350>"
            ]
          },
          "metadata": {
            "tags": []
          },
          "execution_count": 115
        },
        {
          "output_type": "display_data",
          "data": {
            "image/png": "[encoded data removed]",
            "text/plain": [
              "<Figure size 432x288 with 1 Axes>"
            ]
          },
          "metadata": {
            "tags": [],
            "needs_background": "light"
          }
        }
      ]
    },
    {
      "cell_type": "code",
      "metadata": {
        "colab": {
          "base_uri": "https://localhost:8080/",
          "height": 136
        },
        "id": "L6uXDTXfgALE",
        "outputId": "7215bdbc-e514-4377-d3b5-f75411b704ed"
      },
      "source": [
        "x.groupby(['recommended']).count()"
      ],
      "execution_count": 113,
      "outputs": [
        {
          "output_type": "execute_result",
          "data": {
            "text/html": [
              "<div>\n",
              "<style scoped>\n",
              "    .dataframe tbody tr th:only-of-type {\n",
              "        vertical-align: middle;\n",
              "    }\n",
              "\n",
              "    .dataframe tbody tr th {\n",
              "        vertical-align: top;\n",
              "    }\n",
              "\n",
              "    .dataframe thead th {\n",
              "        text-align: right;\n",
              "    }\n",
              "</style>\n",
              "<table border=\"1\" class=\"dataframe\">\n",
              "  <thead>\n",
              "    <tr style=\"text-align: right;\">\n",
              "      <th></th>\n",
              "      <th>review_score</th>\n",
              "    </tr>\n",
              "    <tr>\n",
              "      <th>recommended</th>\n",
              "      <th></th>\n",
              "    </tr>\n",
              "  </thead>\n",
              "  <tbody>\n",
              "    <tr>\n",
              "      <th>0.0</th>\n",
              "      <td>31144</td>\n",
              "    </tr>\n",
              "    <tr>\n",
              "      <th>1.0</th>\n",
              "      <td>28492</td>\n",
              "    </tr>\n",
              "  </tbody>\n",
              "</table>\n",
              "</div>"
            ],
            "text/plain": [
              "             review_score\n",
              "recommended              \n",
              "0.0                 31144\n",
              "1.0                 28492"
            ]
          },
          "metadata": {
            "tags": []
          },
          "execution_count": 113
        }
      ]
    },
    {
      "cell_type": "markdown",
      "metadata": {
        "id": "otJqGG8R1DZ-"
      },
      "source": [
        "#### Handling dates"
      ]
    },
    {
      "cell_type": "code",
      "metadata": {
        "id": "-QSPeDvt1kB1"
      },
      "source": [
        "def date_timestamp(df_ , date_col):\n",
        "\n",
        "  if (isinstance(df_[date_col],dt.datetime)):\n",
        "    date_timestamp = df_[date_col]\n",
        "  else:\n",
        "    date_timestamp = dateutil.parser.parse(df_[date_col])\n",
        "  return date_timestamp\n",
        "\n"
      ],
      "execution_count": null,
      "outputs": []
    },
    {
      "cell_type": "code",
      "metadata": {
        "id": "nXDDooB08nke"
      },
      "source": [
        "airline_data['review_date'] = airline_data.apply(lambda x: date_timestamp(x, 'review_date'), axis=1)"
      ],
      "execution_count": null,
      "outputs": []
    }
  ]
}